{
  "cells": [
    {
      "cell_type": "markdown",
      "metadata": {
        "id": "view-in-github",
        "colab_type": "text"
      },
      "source": [
        "<a href=\"https://colab.research.google.com/github/graceebc9/Arch_Class/blob/main/train_svi.ipynb\" target=\"_parent\"><img src=\"https://colab.research.google.com/assets/colab-badge.svg\" alt=\"Open In Colab\"/></a>"
      ]
    },
    {
      "cell_type": "markdown",
      "source": [
        "# Train DCNN on facades for architecture Classification \n"
      ],
      "metadata": {
        "id": "AucyOJvs-D_C"
      }
    },
    {
      "cell_type": "code",
      "execution_count": 1,
      "metadata": {
        "id": "BZ-Of-sQYY3b",
        "colab": {
          "base_uri": "https://localhost:8080/"
        },
        "outputId": "a7b10046-2cdf-46c5-8fb0-0a782349a3d4"
      },
      "outputs": [
        {
          "output_type": "stream",
          "name": "stdout",
          "text": [
            "Looking in indexes: https://pypi.org/simple, https://us-python.pkg.dev/colab-wheels/public/simple/\n",
            "Requirement already satisfied: wandb in /usr/local/lib/python3.9/dist-packages (0.14.0)\n",
            "Requirement already satisfied: protobuf!=4.21.0,<5,>=3.15.0 in /usr/local/lib/python3.9/dist-packages (from wandb) (3.19.6)\n",
            "Requirement already satisfied: requests<3,>=2.0.0 in /usr/local/lib/python3.9/dist-packages (from wandb) (2.25.1)\n",
            "Requirement already satisfied: psutil>=5.0.0 in /usr/local/lib/python3.9/dist-packages (from wandb) (5.4.8)\n",
            "Requirement already satisfied: setproctitle in /usr/local/lib/python3.9/dist-packages (from wandb) (1.3.2)\n",
            "Requirement already satisfied: typing-extensions in /usr/local/lib/python3.9/dist-packages (from wandb) (4.5.0)\n",
            "Requirement already satisfied: Click!=8.0.0,>=7.0 in /usr/local/lib/python3.9/dist-packages (from wandb) (8.1.3)\n",
            "Requirement already satisfied: appdirs>=1.4.3 in /usr/local/lib/python3.9/dist-packages (from wandb) (1.4.4)\n",
            "Requirement already satisfied: GitPython!=3.1.29,>=1.0.0 in /usr/local/lib/python3.9/dist-packages (from wandb) (3.1.31)\n",
            "Requirement already satisfied: setuptools in /usr/local/lib/python3.9/dist-packages (from wandb) (63.4.3)\n",
            "Requirement already satisfied: docker-pycreds>=0.4.0 in /usr/local/lib/python3.9/dist-packages (from wandb) (0.4.0)\n",
            "Requirement already satisfied: PyYAML in /usr/local/lib/python3.9/dist-packages (from wandb) (6.0)\n",
            "Requirement already satisfied: pathtools in /usr/local/lib/python3.9/dist-packages (from wandb) (0.1.2)\n",
            "Requirement already satisfied: sentry-sdk>=1.0.0 in /usr/local/lib/python3.9/dist-packages (from wandb) (1.16.0)\n",
            "Requirement already satisfied: six>=1.4.0 in /usr/local/lib/python3.9/dist-packages (from docker-pycreds>=0.4.0->wandb) (1.15.0)\n",
            "Requirement already satisfied: gitdb<5,>=4.0.1 in /usr/local/lib/python3.9/dist-packages (from GitPython!=3.1.29,>=1.0.0->wandb) (4.0.10)\n",
            "Requirement already satisfied: chardet<5,>=3.0.2 in /usr/local/lib/python3.9/dist-packages (from requests<3,>=2.0.0->wandb) (4.0.0)\n",
            "Requirement already satisfied: certifi>=2017.4.17 in /usr/local/lib/python3.9/dist-packages (from requests<3,>=2.0.0->wandb) (2022.12.7)\n",
            "Requirement already satisfied: idna<3,>=2.5 in /usr/local/lib/python3.9/dist-packages (from requests<3,>=2.0.0->wandb) (2.10)\n",
            "Requirement already satisfied: urllib3<1.27,>=1.21.1 in /usr/local/lib/python3.9/dist-packages (from requests<3,>=2.0.0->wandb) (1.26.15)\n",
            "Requirement already satisfied: smmap<6,>=3.0.1 in /usr/local/lib/python3.9/dist-packages (from gitdb<5,>=4.0.1->GitPython!=3.1.29,>=1.0.0->wandb) (5.0.0)\n",
            "Looking in indexes: https://pypi.org/simple, https://us-python.pkg.dev/colab-wheels/public/simple/\n",
            "Requirement already satisfied: pytorch_lightning in /usr/local/lib/python3.9/dist-packages (2.0.0)\n",
            "Requirement already satisfied: torchmetrics>=0.7.0 in /usr/local/lib/python3.9/dist-packages (from pytorch_lightning) (0.11.4)\n",
            "Requirement already satisfied: lightning-utilities>=0.7.0 in /usr/local/lib/python3.9/dist-packages (from pytorch_lightning) (0.8.0)\n",
            "Requirement already satisfied: typing-extensions>=4.0.0 in /usr/local/lib/python3.9/dist-packages (from pytorch_lightning) (4.5.0)\n",
            "Requirement already satisfied: fsspec[http]>2021.06.0 in /usr/local/lib/python3.9/dist-packages (from pytorch_lightning) (2023.3.0)\n",
            "Requirement already satisfied: packaging>=17.1 in /usr/local/lib/python3.9/dist-packages (from pytorch_lightning) (23.0)\n",
            "Requirement already satisfied: tqdm>=4.57.0 in /usr/local/lib/python3.9/dist-packages (from pytorch_lightning) (4.65.0)\n",
            "Requirement already satisfied: numpy>=1.17.2 in /usr/local/lib/python3.9/dist-packages (from pytorch_lightning) (1.22.4)\n",
            "Requirement already satisfied: PyYAML>=5.4 in /usr/local/lib/python3.9/dist-packages (from pytorch_lightning) (6.0)\n",
            "Requirement already satisfied: torch>=1.11.0 in /usr/local/lib/python3.9/dist-packages (from pytorch_lightning) (1.13.1+cu116)\n",
            "Requirement already satisfied: requests in /usr/local/lib/python3.9/dist-packages (from fsspec[http]>2021.06.0->pytorch_lightning) (2.25.1)\n",
            "Requirement already satisfied: aiohttp!=4.0.0a0,!=4.0.0a1 in /usr/local/lib/python3.9/dist-packages (from fsspec[http]>2021.06.0->pytorch_lightning) (3.8.4)\n",
            "Requirement already satisfied: aiosignal>=1.1.2 in /usr/local/lib/python3.9/dist-packages (from aiohttp!=4.0.0a0,!=4.0.0a1->fsspec[http]>2021.06.0->pytorch_lightning) (1.3.1)\n",
            "Requirement already satisfied: attrs>=17.3.0 in /usr/local/lib/python3.9/dist-packages (from aiohttp!=4.0.0a0,!=4.0.0a1->fsspec[http]>2021.06.0->pytorch_lightning) (22.2.0)\n",
            "Requirement already satisfied: frozenlist>=1.1.1 in /usr/local/lib/python3.9/dist-packages (from aiohttp!=4.0.0a0,!=4.0.0a1->fsspec[http]>2021.06.0->pytorch_lightning) (1.3.3)\n",
            "Requirement already satisfied: charset-normalizer<4.0,>=2.0 in /usr/local/lib/python3.9/dist-packages (from aiohttp!=4.0.0a0,!=4.0.0a1->fsspec[http]>2021.06.0->pytorch_lightning) (3.1.0)\n",
            "Requirement already satisfied: async-timeout<5.0,>=4.0.0a3 in /usr/local/lib/python3.9/dist-packages (from aiohttp!=4.0.0a0,!=4.0.0a1->fsspec[http]>2021.06.0->pytorch_lightning) (4.0.2)\n",
            "Requirement already satisfied: yarl<2.0,>=1.0 in /usr/local/lib/python3.9/dist-packages (from aiohttp!=4.0.0a0,!=4.0.0a1->fsspec[http]>2021.06.0->pytorch_lightning) (1.8.2)\n",
            "Requirement already satisfied: multidict<7.0,>=4.5 in /usr/local/lib/python3.9/dist-packages (from aiohttp!=4.0.0a0,!=4.0.0a1->fsspec[http]>2021.06.0->pytorch_lightning) (6.0.4)\n",
            "Requirement already satisfied: chardet<5,>=3.0.2 in /usr/local/lib/python3.9/dist-packages (from requests->fsspec[http]>2021.06.0->pytorch_lightning) (4.0.0)\n",
            "Requirement already satisfied: certifi>=2017.4.17 in /usr/local/lib/python3.9/dist-packages (from requests->fsspec[http]>2021.06.0->pytorch_lightning) (2022.12.7)\n",
            "Requirement already satisfied: idna<3,>=2.5 in /usr/local/lib/python3.9/dist-packages (from requests->fsspec[http]>2021.06.0->pytorch_lightning) (2.10)\n",
            "Requirement already satisfied: urllib3<1.27,>=1.21.1 in /usr/local/lib/python3.9/dist-packages (from requests->fsspec[http]>2021.06.0->pytorch_lightning) (1.26.15)\n"
          ]
        }
      ],
      "source": [
        "!pip install wandb\n",
        "import wandb\n",
        "!pip install pytorch_lightning \n",
        "import pytorch_lightning"
      ]
    },
    {
      "cell_type": "code",
      "execution_count": 2,
      "metadata": {
        "id": "1d8p1KZSZO9b"
      },
      "outputs": [],
      "source": [
        "\n",
        "\n",
        "#Store the PyTorch Lightning Data Modules and Model Classes \n",
        "\n",
        "import pytorch_lightning as pl\n",
        "from pytorch_lightning import LightningDataModule ,Callback\n",
        "from pytorch_lightning.callbacks.early_stopping import EarlyStopping\n",
        "from pytorch_lightning.loggers import WandbLogger\n",
        "import wandb\n",
        "from torch.utils.data import Dataset, DataLoader\n",
        "from torchvision import  utils\n",
        "import torchvision.transforms as T\n",
        "import torchvision\n",
        "import torchvision.models as models\n",
        "import torch.optim as optim\n",
        "import torch\n",
        "import torch.nn as nn\n",
        "import torch.nn.functional as F\n",
        "from torch.autograd import Variable\n",
        "\n",
        "torch.manual_seed(17)\n",
        "import seaborn as sn\n",
        "import matplotlib.pyplot as plt\n",
        "\n",
        "\n",
        "from torchmetrics.classification import Accuracy, Recall\n",
        "from torchmetrics import Precision, JaccardIndex, ConfusionMatrix\n",
        "from torch.nn import  NLLLoss\n",
        "\n",
        "\n",
        "import numpy as np\n",
        "import glob\n",
        "import random\n",
        "\n",
        "import sys\n",
        "from PIL import Image\n",
        "import random\n",
        "import os\n",
        "import glob\n",
        "\n",
        "\n",
        "from pytorch_lightning.callbacks import ModelCheckpoint\n",
        "\n",
        "import torchvision.models as models\n",
        "import torch\n",
        "import pandas as pd\n",
        "import wandb \n",
        "from pytorch_lightning.loggers import WandbLogger\n",
        "from pytorch_lightning.callbacks.early_stopping import EarlyStopping\n",
        "import pytorch_lightning as pl"
      ]
    },
    {
      "cell_type": "code",
      "execution_count": 2,
      "metadata": {
        "id": "vbrk9gCU1a1z"
      },
      "outputs": [],
      "source": []
    },
    {
      "cell_type": "code",
      "execution_count": 3,
      "metadata": {
        "id": "lAU4njGK1ANX",
        "colab": {
          "base_uri": "https://localhost:8080/"
        },
        "outputId": "767acb2b-2b40-4ca8-b2be-e99e2c0b6dd2"
      },
      "outputs": [
        {
          "output_type": "stream",
          "name": "stdout",
          "text": [
            "Drive already mounted at /content/gdrive; to attempt to forcibly remount, call drive.mount(\"/content/gdrive\", force_remount=True).\n"
          ]
        }
      ],
      "source": [
        "from google.colab import drive\n",
        "\n",
        "drive.mount('/content/gdrive')"
      ]
    },
    {
      "cell_type": "code",
      "execution_count": 3,
      "metadata": {
        "id": "QO_jGWEE06wZ"
      },
      "outputs": [],
      "source": []
    },
    {
      "cell_type": "code",
      "execution_count": 3,
      "metadata": {
        "id": "xgOGxYi1S9OD"
      },
      "outputs": [],
      "source": []
    },
    {
      "cell_type": "code",
      "execution_count": 4,
      "metadata": {
        "id": "Nvb14Uqk0_IF"
      },
      "outputs": [],
      "source": [
        "base_dir = '/content/gdrive/MyDrive'\n",
        "\n",
        "import sys\n",
        "sys.path.insert(0, base_dir + '/HurricanDamage_Data')\n",
        "\n",
        "from src import    ImagePredictionLogger, ImagePredictionLogger_table, extract_predictions"
      ]
    },
    {
      "cell_type": "code",
      "source": [],
      "metadata": {
        "id": "bzyBU5y34i1c"
      },
      "execution_count": 4,
      "outputs": []
    },
    {
      "cell_type": "code",
      "execution_count": 4,
      "metadata": {
        "id": "E8rTXDab14pV"
      },
      "outputs": [],
      "source": []
    },
    {
      "cell_type": "code",
      "source": [
        "\n",
        "\n",
        "import os\n",
        "from typing import Tuple\n",
        "import os\n",
        "from typing import Optional\n",
        "import torch\n",
        "from torch.utils.data import Dataset, DataLoader\n",
        "from torchvision import transforms\n",
        "from PIL import Image\n",
        "\n",
        "import torchvision.transforms as T\n",
        "\n",
        "import torch\n",
        "from torch.autograd import Variable as V\n",
        "import torchvision.models as models\n",
        "from torchvision import transforms as trn\n",
        "from torch.nn import functional as F\n",
        "import os\n",
        "import pytorch_lightning as pl\n",
        "\n",
        "import torch\n",
        "import torch.nn as nn\n",
        "import torchvision.models as models\n",
        "\n",
        "import numpy as np\n",
        "from typing import Optional\n",
        "\n",
        "import os\n",
        "from torch.utils.data import Dataset, DataLoader, SubsetRandomSampler\n",
        "\n"
      ],
      "metadata": {
        "id": "76bVWLe6qWXG"
      },
      "execution_count": 5,
      "outputs": []
    },
    {
      "cell_type": "code",
      "source": [
        "\n",
        "\n",
        "class StreetViewData(Dataset):\n",
        "    def __init__(self, root_dir: str, transform: Optional[transforms.Compose] = None):\n",
        "        self.root_dir = root_dir\n",
        "        self.transform = transform\n",
        "\n",
        "        self.classes = os.listdir(root_dir)\n",
        "        self.class_to_idx = {cls_name: i for i, cls_name in enumerate(self.classes)}\n",
        "        self.idx_to_classes = {str(i): cls_name for i, cls_name in enumerate(self.classes)}\n",
        "\n",
        "        self.samples = []\n",
        "\n",
        "        print(self.classes)\n",
        "        for class_name in self.classes:\n",
        "            class_dir = os.path.join(self.root_dir, class_name)\n",
        "            for i in range(3700):\n",
        "                \n",
        "                sample_path = os.path.join(class_dir, f\"gsv_{i}.jpg\")\n",
        "                if not os.path.exists(sample_path):\n",
        "                    None\n",
        "                else:\n",
        "                    self.samples.append((sample_path, self.class_to_idx[class_name]))\n",
        "               \n",
        "\n",
        "    def classes_dict(self):\n",
        "      return self.idx_to_classes\n",
        "\n",
        "    def __len__(self):\n",
        "        return len(self.samples)\n",
        "\n",
        "    def __getitem__(self, index):\n",
        "        sample_path, label = self.samples[index]\n",
        "\n",
        "        with open(sample_path, \"rb\") as f:\n",
        "            sample = Image.open(f).convert(\"RGB\")\n",
        "            left = 170\n",
        "            top = 250\n",
        "            right = 430\n",
        "            bottom = 10\n",
        "            sample = sample.crop((left, bottom, right, top))\n",
        "\n",
        "        if self.transform:\n",
        "            sample = self.transform(sample)\n",
        "\n",
        "        return sample, label\n",
        "\n",
        "class MyDataModule(pl.LightningDataModule):\n",
        "    def __init__(self, data_dir, batch_size, transform=None, num_workers=4):\n",
        "        super().__init__()\n",
        "        self.data_dir = data_dir\n",
        "        self.batch_size = batch_size\n",
        "        self.num_workers = num_workers\n",
        "        self.transform = T.Compose([ T.Resize( size = (224, 224) ), T.ToTensor() ])       \n",
        "        self.dataset = StreetViewData(data_dir, self.transform)\n",
        "\n",
        "       \n",
        "        \n",
        "\n",
        "    def setup(self, stage=None): \n",
        "        # split into train, val, and test sets\n",
        "        num_samples = len(self.dataset)\n",
        "        indices = list(range(num_samples))\n",
        "        split_train = int(np.floor(0.7 * num_samples))\n",
        "        split_val = int(np.floor(0.15 * num_samples))\n",
        "        np.random.shuffle(indices)\n",
        "        train_indices, val_indices, test_indices = indices[:split_train], indices[split_train:split_train+split_val], indices[split_train+split_val:]\n",
        "        print('Num train:{} Num val:{} Num test:{}'.format(len(train_indices), len(val_indices), len(test_indices)) )\n",
        "        print('total num: {}  total sum: {}'.format(num_samples, (len(train_indices)+ len(val_indices)+ len(test_indices))))\n",
        "        # define samplers\n",
        "        train_sampler = SubsetRandomSampler(train_indices)\n",
        "        val_sampler = SubsetRandomSampler(val_indices)\n",
        "        test_sampler = SubsetRandomSampler(test_indices)\n",
        "\n",
        "        \n",
        "        # set up data loaders\n",
        "        self.train_loader = DataLoader(self.dataset, batch_size=self.batch_size,\n",
        "                                        sampler=train_sampler, num_workers=self.num_workers)\n",
        "        self.val_loader = DataLoader(self.dataset, batch_size=self.batch_size,\n",
        "                                        sampler=val_sampler, num_workers=self.num_workers)\n",
        "        self.test_loader = DataLoader(self.dataset, batch_size=self.batch_size,\n",
        "                                      sampler=test_sampler, num_workers=self.num_workers)\n",
        "    \n",
        "    \n",
        "\n",
        "    def train_dataloader(self):\n",
        "        return self.train_loader\n",
        "\n",
        "    def val_dataloader(self):\n",
        "        return self.val_loader\n",
        "\n",
        "    def test_dataloader(self):\n",
        "        return self.test_loader\n"
      ],
      "metadata": {
        "id": "Boxt6SiBp-xw"
      },
      "execution_count": 6,
      "outputs": []
    },
    {
      "cell_type": "code",
      "source": [
        "\n",
        "import matplotlib.pyplot as plt\n",
        "import seaborn as sns"
      ],
      "metadata": {
        "id": "QDThtLbS1xQ8"
      },
      "execution_count": 7,
      "outputs": []
    },
    {
      "cell_type": "code",
      "source": [
        "\n",
        "\n",
        "class TransferLearning(pl.LightningModule):\n",
        "    \"\"\"\n",
        "        Transfer learning data modules, works for ResNet Architectures \n",
        "        model: pytorch Resnet18 / 50 etc \n",
        "    \"\"\"\n",
        "\n",
        "    def __init__(self, model, learning_rate, optimiser = 'Adam', class_names=None):\n",
        "        super().__init__()\n",
        "        \n",
        "        self.optimiser = optimiser\n",
        "        self.thresh  =  0.5\n",
        "        self.save_hyperparameters()\n",
        "        self.learning_rate = learning_rate\n",
        "        self.class_names = class_names\n",
        "        \n",
        "        #add metrics for tracking \n",
        "        self.accuracy = Accuracy(task= 'multiclass', num_classes=9 )\n",
        "        self.loss= nn.CrossEntropyLoss()\n",
        "        self.recall = Recall(task= 'multiclass', num_classes=9, threshold=self.thresh, average ='macro')\n",
        "        self.prec = Precision( task= 'multiclass', num_classes=9, average='macro')\n",
        "        self.jacq_ind = JaccardIndex(task= 'multiclass', num_classes=9)\n",
        "        self.confmat = ConfusionMatrix(task=\"multiclass\", num_classes=9)\n",
        "\n",
        "\n",
        "        # init model\n",
        "        backbone = model\n",
        "        num_filters = backbone.fc.in_features\n",
        "        layers = list(backbone.children())[:-1]\n",
        "        self.feature_extractor = nn.Sequential(*layers)\n",
        "\n",
        "        # use the pretrained model to classify damage 2 classes\n",
        "        num_target_classes = 9\n",
        "        self.classifier = nn.Linear(num_filters, num_target_classes)\n",
        "\n",
        "    def forward(self, x):\n",
        "        self.feature_extractor.eval()\n",
        "        with torch.no_grad():\n",
        "            representations = self.feature_extractor(x).flatten(1)\n",
        "        x = self.classifier(representations)\n",
        "        return x\n",
        "    def training_step(self, batch, batch_idx):\n",
        "        x, y = batch\n",
        "        logits = self(x)\n",
        "        loss = self.loss(logits, y)\n",
        "        \n",
        "        # training metrics\n",
        "        preds = torch.argmax(logits, dim=1)\n",
        "        acc = self.accuracy(preds, y)\n",
        "        recall = self.recall(preds, y)\n",
        "        precision = self.prec(preds, y)\n",
        "        jac = self.jacq_ind(preds, y)\n",
        "        \n",
        "\n",
        "        wandb.log({\"train_loss\": loss})   \n",
        "        self.log('train_loss', loss, on_step=True, on_epoch=True, logger=True)\n",
        "        self.log('train_acc', acc, on_step=True, on_epoch=True, logger=True)\n",
        "        self.log('train_recall', recall, on_step=True, on_epoch=True, logger=True)\n",
        "        self.log('train_precision', precision, on_step=True, on_epoch=True, logger=True)\n",
        "        self.log('train_jacc', jac, on_step=True, on_epoch=True, logger=True)\n",
        "        \n",
        "        return loss\n",
        "  \n",
        "    def validation_step(self, batch, batch_idx):\n",
        "        x, y = batch\n",
        "        logits = self(x)\n",
        "        loss = self.loss(logits, y)\n",
        "\n",
        "        # validation metrics\n",
        "        preds = torch.argmax(logits, dim=1)\n",
        "        acc = self.accuracy(preds, y)\n",
        "        recall = self.recall(preds, y)\n",
        "        precision = self.prec(preds, y)\n",
        "        jac = self.jacq_ind(preds, y)\n",
        "        self.confmat.update(preds, y)\n",
        "        print(acc, recall, precision )\n",
        "        \n",
        "\n",
        "        self.log('val_loss', loss, prog_bar=True)\n",
        "        self.log('val_acc', acc, prog_bar=True)\n",
        "        self.log('val_recall', recall, prog_bar=True)\n",
        "        self.log('val_precision', precision, prog_bar=True)\n",
        "        self.log('val_jacc', jac, prog_bar=True)\n",
        "        \n",
        "        return  loss\n",
        "      \n",
        "\n",
        "    def on_validation_epoch_end(self):\n",
        "        confmat = self.confmat.compute()\n",
        "        class_names = self.class_names\n",
        "        num_classes = len(class_names)\n",
        "\n",
        "        df_cm = pd.DataFrame(confmat.cpu().numpy() , index = [i for i in class_names], columns = [i for i in class_names])\n",
        "        df_cm.to_csv('raw_nums.csv') # used this to validate the number of val samples\n",
        "        print('Num of val samples: {}. Check this aligns with the numbers from the dataloader'.format(df_cm.sum(axis=1).sum() ))\n",
        "        #normalise the confusion matrix \n",
        "        norm =  np.sum(df_cm, axis=1)\n",
        "        normalized_cm = (df_cm.T/norm).T\n",
        "        #validate the confusion matrix sums to num of classes\n",
        "       \n",
        "        print( normalized_cm.sum(axis=1).sum() )\n",
        "          \n",
        "\n",
        "        normalized_cm.to_csv('norm_cdf.csv') \n",
        "        #log to wandb\n",
        "        f, ax = plt.subplots(figsize = (15,10)) \n",
        "        sn.heatmap(normalized_cm, annot=True, ax=ax)\n",
        "        wandb.log({\"Validation Confusion Matrix \": wandb.Image(f) })\n",
        "        self.confmat.reset()  #This was NEEDED otherwise the confusion matrix kept stacking the results\n",
        "\n",
        "    def test_step(self, batch, batch_idx):\n",
        "        x, y = batch\n",
        "        logits = self(x)\n",
        "        loss = self.loss(logits, y)\n",
        "        \n",
        "        # validation metrics\n",
        "        preds = torch.argmax(logits, dim=1)\n",
        "        acc = self.accuracy(preds, y)\n",
        "        recall = self.recall(preds, y)\n",
        "        precision = self.prec(preds, y)\n",
        "        jac = self.jacq_ind(preds, y)\n",
        "        # confmat = self.confmat(preds, y)\n",
        "\n",
        "        self.log('test_loss', loss, prog_bar=True)\n",
        "        self.log('test_acc', acc, prog_bar=True)\n",
        "        self.log('test_recall', recall, prog_bar=True)\n",
        "        self.log('test_precision', precision, prog_bar=True)\n",
        "        self.log('test_jacc', jac, prog_bar=True)\n",
        "         \n",
        "        # self.log('test_conf', confmat, on_step=False, on_epoch=True, logger=True)\n",
        "\n",
        "        return loss\n",
        "    def configure_optimizers(self,):\n",
        "        print('Optimise with {}'.format(self.optimiser) )\n",
        "        # optimizer = self.optimiser_dict[self.optimiser](self.parameters(), lr=self.learning_rate)\n",
        "                \n",
        "                # Support Adam, SGD, RMSPRop and Adagrad as optimizers.\n",
        "        if self.optimiser == \"Adam\":\n",
        "            optimiser = optim.AdamW(self.parameters(), lr = self.learning_rate)\n",
        "        elif self.optimiser == \"SGD\":\n",
        "            optimiser = optim.SGD(self.parameters(), lr = self.learning_rate)\n",
        "        elif self.optimiser == \"Adagrad\":\n",
        "            optimiser = optim.Adagrad(self.parameters(), lr = self.learning_rate)\n",
        "        elif self.optimiser == \"RMSProp\":\n",
        "            optimiser = optim.RMSprop(self.parameters(), lr = self.learning_rate)\n",
        "        else:\n",
        "            assert False, f\"Unknown optimizer: \\\"{self.optimiser}\\\"\"\n",
        "\n",
        "        return optimiser\n"
      ],
      "metadata": {
        "id": "RxS6lLS3rJ96"
      },
      "execution_count": 61,
      "outputs": []
    },
    {
      "cell_type": "code",
      "source": [
        "\n",
        "\n",
        "dm = MyDataModule(data_dir=\"/content/gdrive/MyDrive/Non_Trads_FOI/Facades_SVI\", batch_size=32)\n",
        "dm.setup()\n",
        "\n",
        "train_dataloader = dm.train_dataloader()\n",
        "val_dataloader = dm.val_dataloader()"
      ],
      "metadata": {
        "id": "GLPDSdC7EiWz",
        "colab": {
          "base_uri": "https://localhost:8080/"
        },
        "outputId": "0044e9de-074c-4649-c948-94cd841e081a"
      },
      "execution_count": 62,
      "outputs": [
        {
          "output_type": "stream",
          "name": "stdout",
          "text": [
            "['wimpey no fines', 'reema', 'orlit', 'edlo', 'airey', 'weir', 'molems', 'wates', 'bisf']\n",
            "Num train:3526 Num val:755 Num test:757\n",
            "total num: 5038  total sum: 5038\n"
          ]
        },
        {
          "output_type": "stream",
          "name": "stderr",
          "text": [
            "/usr/local/lib/python3.9/dist-packages/torch/utils/data/dataloader.py:554: UserWarning: This DataLoader will create 4 worker processes in total. Our suggested max number of worker in current system is 2, which is smaller than what this DataLoader is going to create. Please be aware that excessive worker creation might get DataLoader running slow or even freeze, lower the worker number to avoid potential slowness/freeze if necessary.\n",
            "  warnings.warn(_create_warning_msg(\n"
          ]
        }
      ]
    },
    {
      "cell_type": "code",
      "execution_count": 63,
      "metadata": {
        "id": "O9MhDOzz1ezN",
        "colab": {
          "base_uri": "https://localhost:8080/"
        },
        "outputId": "a3517267-5d2d-473b-a835-8d59cf8f3e3b"
      },
      "outputs": [
        {
          "output_type": "stream",
          "name": "stderr",
          "text": [
            "/usr/local/lib/python3.9/dist-packages/pytorch_lightning/utilities/parsing.py:197: UserWarning: Attribute 'model' is an instance of `nn.Module` and is already saved during checkpointing. It is recommended to ignore them using `self.save_hyperparameters(ignore=['model'])`.\n",
            "  rank_zero_warn(\n"
          ]
        }
      ],
      "source": [
        "#Parameters set for our Final Model config; using ResNet50 architecture\n",
        "bs = 160\n",
        "LR = 0.006607\n",
        "optimiser = 'Adam'\n",
        "\n",
        "model = TransferLearning(model=models.resnet50(weights='DEFAULT'), learning_rate = LR, optimiser = optimiser, class_names = dm.dataset.classes )"
      ]
    },
    {
      "cell_type": "code",
      "source": [
        "\n"
      ],
      "metadata": {
        "id": "ynVVDAUnEKwg"
      },
      "execution_count": 10,
      "outputs": []
    },
    {
      "cell_type": "code",
      "source": [],
      "metadata": {
        "id": "4VINMSz3qcBy"
      },
      "execution_count": 10,
      "outputs": []
    },
    {
      "cell_type": "code",
      "execution_count": 64,
      "metadata": {
        "id": "uvkDUr_sZ5DE"
      },
      "outputs": [],
      "source": [
        "#needed for the val and test image loggers\n",
        "val_samples = next(iter(dm.val_dataloader()))\n",
        "# test_samples = next(iter(dm.test_shuffle_dataloader()))"
      ]
    },
    {
      "cell_type": "code",
      "source": [
        "\n",
        "wand_proj_name = 'test_svi'\n",
        "\n",
        "wandb.init(project= wand_proj_name, entity='grace_ebc')"
      ],
      "metadata": {
        "colab": {
          "base_uri": "https://localhost:8080/",
          "height": 125
        },
        "id": "sAAwvVuQ7a2A",
        "outputId": "98ab0364-78a5-4379-8690-00ccbc3234ec"
      },
      "execution_count": 65,
      "outputs": [
        {
          "output_type": "display_data",
          "data": {
            "text/plain": [
              "<IPython.core.display.HTML object>"
            ],
            "text/html": [
              "Tracking run with wandb version 0.14.0"
            ]
          },
          "metadata": {}
        },
        {
          "output_type": "display_data",
          "data": {
            "text/plain": [
              "<IPython.core.display.HTML object>"
            ],
            "text/html": [
              "Run data is saved locally in <code>/content/wandb/run-20230316_163756-z8582b42</code>"
            ]
          },
          "metadata": {}
        },
        {
          "output_type": "display_data",
          "data": {
            "text/plain": [
              "<IPython.core.display.HTML object>"
            ],
            "text/html": [
              "Syncing run <strong><a href='https://wandb.ai/grace_ebc/test_svi/runs/z8582b42' target=\"_blank\">brisk-shape-29</a></strong> to <a href='https://wandb.ai/grace_ebc/test_svi' target=\"_blank\">Weights & Biases</a> (<a href='https://wandb.me/run' target=\"_blank\">docs</a>)<br/>"
            ]
          },
          "metadata": {}
        },
        {
          "output_type": "display_data",
          "data": {
            "text/plain": [
              "<IPython.core.display.HTML object>"
            ],
            "text/html": [
              " View project at <a href='https://wandb.ai/grace_ebc/test_svi' target=\"_blank\">https://wandb.ai/grace_ebc/test_svi</a>"
            ]
          },
          "metadata": {}
        },
        {
          "output_type": "display_data",
          "data": {
            "text/plain": [
              "<IPython.core.display.HTML object>"
            ],
            "text/html": [
              " View run at <a href='https://wandb.ai/grace_ebc/test_svi/runs/z8582b42' target=\"_blank\">https://wandb.ai/grace_ebc/test_svi/runs/z8582b42</a>"
            ]
          },
          "metadata": {}
        },
        {
          "output_type": "execute_result",
          "data": {
            "text/html": [
              "<button onClick=\"this.nextSibling.style.display='block';this.style.display='none';\">Display W&B run</button><iframe src='https://wandb.ai/grace_ebc/test_svi/runs/z8582b42?jupyter=true' style='border:none;width:100%;height:420px;display:none;'></iframe>"
            ],
            "text/plain": [
              "<wandb.sdk.wandb_run.Run at 0x7f9d3efbf790>"
            ]
          },
          "metadata": {},
          "execution_count": 65
        }
      ]
    },
    {
      "cell_type": "code",
      "source": [
        "\n",
        "# wandb.init(project= wand_proj_name, entity='grace_ebc')"
      ],
      "metadata": {
        "id": "jo4vgnae8D0B"
      },
      "execution_count": 13,
      "outputs": []
    },
    {
      "cell_type": "code",
      "execution_count": 66,
      "metadata": {
        "id": "csuy4XXpbVMk",
        "colab": {
          "base_uri": "https://localhost:8080/"
        },
        "outputId": "d8875ce4-95c5-4f88-d45d-7deab6e29b14"
      },
      "outputs": [
        {
          "output_type": "stream",
          "name": "stderr",
          "text": [
            "/usr/local/lib/python3.9/dist-packages/pytorch_lightning/loggers/wandb.py:395: UserWarning: There is a wandb run already in progress and newly created instances of `WandbLogger` will reuse this run. If this is not desired, call `wandb.finish()` before instantiating `WandbLogger`.\n",
            "  rank_zero_warn(\n"
          ]
        }
      ],
      "source": [
        "# #set up logger\n",
        "wandb_logger = WandbLogger( job_type='train' )\n"
      ]
    },
    {
      "cell_type": "code",
      "execution_count": 67,
      "metadata": {
        "id": "B6QkxM1cZtrw",
        "colab": {
          "base_uri": "https://localhost:8080/"
        },
        "outputId": "9a27562d-0b89-4208-8c0d-d6385c49f827"
      },
      "outputs": [
        {
          "output_type": "stream",
          "name": "stderr",
          "text": [
            "INFO:pytorch_lightning.utilities.rank_zero:GPU available: True (cuda), used: True\n",
            "INFO:pytorch_lightning.utilities.rank_zero:TPU available: False, using: 0 TPU cores\n",
            "INFO:pytorch_lightning.utilities.rank_zero:IPU available: False, using: 0 IPUs\n",
            "INFO:pytorch_lightning.utilities.rank_zero:HPU available: False, using: 0 HPUs\n",
            "INFO:lightning_fabric.utilities.seed:Global seed set to 42\n"
          ]
        },
        {
          "output_type": "execute_result",
          "data": {
            "text/plain": [
              "42"
            ]
          },
          "metadata": {},
          "execution_count": 67
        }
      ],
      "source": [
        "\n",
        "#set up our wandb trainer \n",
        "trainer = pl.Trainer(\n",
        "                        max_epochs=50,\n",
        "                        logger=wandb_logger,\n",
        "                        callbacks=[ModelCheckpoint(save_weights_only=True, mode=\"max\", monitor=\"val_acc\"),\n",
        "                                   ImagePredictionLogger(val_samples), \n",
        "                                   ImagePredictionLogger_table( val_samples, 'val' ),\n",
        "                                  #  ImagePredictionLogger_table(test_samples, 'test'),\n",
        "                                  EarlyStopping(monitor=\"val_acc\", min_delta=0.00, patience=3, verbose=False, mode=\"max\")\n",
        "                                  ]\n",
        "\n",
        "                        )  \n",
        "pl.seed_everything(42) "
      ]
    },
    {
      "cell_type": "code",
      "execution_count": 68,
      "metadata": {
        "colab": {
          "base_uri": "https://localhost:8080/",
          "height": 1000,
          "referenced_widgets": [
            "85b2a9f061f64c949504487594324de7",
            "d734517153bd4a22a26b2b811e909a74",
            "d9dc60f0c83840a187fafe481843a50e",
            "7eacda2f9b64432da24a6578910a3284",
            "9e4db11b22924aa18f226eae2cd382f2",
            "26a07978e7bc49b5b2ccb2b5da2be6b7",
            "d216e7e7821445bfa169ab16cc12330b",
            "48af8abb9a4b4eb19ba24b9c8cfde8da",
            "cac4b57f64254d51809fd0a00aae273e",
            "f57594d67caa4f57bf45bcc4fd5666e4",
            "222fcf6f3cc944578d83fc3e449a9d74",
            "8fa8061b1f02450c9fd5407475df2165",
            "52e9505dfa474bc097661065c3d57193",
            "dc6d503704424a89b5b053a9394c18d4",
            "1713297c95334a51847c3f942f1ba200",
            "1792d73ad9e24b3bbf48fd33190a6bc8",
            "9ee607dd27ff4516bce8f07830d048c4",
            "0655baea393448e5b527e7672651c3fe",
            "9970a1f6001a405ca6ab9293f1b4a4c2",
            "33958c72a3c04cbbb840a30046140477",
            "29ec331f277d44b5a31f43eabe965609",
            "da3449d4cc9c4ea3b8fe74d2f2b4eb28",
            "6caab147189f4912afc7ac3dc566c261",
            "427c6b4ba0084f64aaf9397d126892bc",
            "23eb8a79b0a04a00a599ee2ee99e6155",
            "c64cfdebc9a24662a26646e573a55973",
            "42e0d8e5509f45fe971678614564ccd3",
            "355ab54672c246b7825d0fda7f087fc2",
            "ee1f97876f6d497a9b8aec1b0fc43d3d",
            "b7ac0ce2f1634158815cd31e81412811",
            "774aafa3d37c4f7ab758bc30a58f4102",
            "a944fb7421124d10be6b27fca37c86f9",
            "b6917ae6d2c945ef8e1455d15da2d56a",
            "cf5ae2023e404289b8c758efc499a8c3",
            "9c47f583519141689cccc2cd293304dd",
            "b74ea0b5e77245c6bcccdb80d6436106",
            "557871fb509842a68d5278b0bb6a8fed",
            "9525e71b0fc54c779e638a2069a0bc44",
            "7f82741e692f43ceaddbe34d2b21a7ee",
            "b696b2b091ce444d8978c573d68fbe04",
            "49423a6d5a5d4b5da21ebb84ad9d45f8",
            "fc2efc770cef4fd5bb154c3db7882303",
            "5877cb6fa03f44d9900e2c21904ecf05",
            "0730343581564e0f80e7fca1fdefec8f",
            "12228b7b3b454751a20db26a9400485a",
            "f1ac0b2c8f684280b1f2dbaf3d9395de",
            "ea98c608385c4e26a8ecbffd7867558c",
            "37980ae41ddb4570a33a90f3746e74ce",
            "3e31cb183b50421781d6f72735c8c978",
            "9c5642dd08444f85b8a83fc516f94996",
            "37bb8a5060e34f6db4bc2a0cc979d4d1",
            "bcf3b390ec3246618be91b1aae9a175f",
            "017dc411ab1f4563877e1c2480dc1cb7",
            "d8d49ed7f1b04dfe83e480ec5f6ec5e2",
            "74c7c007147d403da8e955de7160101f",
            "b3a76f9c1d244507b48216d616300a09",
            "37066472b4114655a8f06e06eb943311",
            "399df8d8dde64ec8a4a9dbe33731bd7b",
            "561857fea63647899f7b7a5fd15c7005",
            "3bb9364f13984aa3acc0120ce97d7e3e",
            "7006a3e93be440b8a06360f94c9e718e",
            "7c5f47c71bd44c0bac0da6077beeb25a",
            "e87a6d60e1724bdc81c309d1b13bceda",
            "76dfc93cdf844c9799b7f66595e3291d",
            "6f1b02bf97084c48b3866a2d85658f1c",
            "6135527b7ad0450097d2204dae3d91f3",
            "0a98da1361a441d79293d53a20c5be6c",
            "add94553e6d943999b09947013e740a0",
            "918b5d76a5e6438f95b60f5216435e1a",
            "96ece176fb2041bfb9dee72627dbbf96",
            "3aa83d55ded94e2c81a404a2aae6dd3f",
            "e2dadd2cf44a4a6fb60740f015f0b6d6",
            "94a62dba1ebd4fdd9e1c01f900679b17",
            "0697d3102b3e4c6a9b0da3305d8ed48d",
            "3b9f24d02346482c9b79b3294abe2538",
            "0b16f0c157314346bd3d24a30d1ae9ae",
            "3a61d7e6dbf14a9d9e6c1dbab6b513b1",
            "949aa10ffab743818730f0bf431fc7d0",
            "6e4e25876f954a2fbc344f8776845c17",
            "0326924906b44cdbb75b83120d0042ab",
            "b8d5da97e3894b3d843058919ab38f17",
            "ed8804b3610446e8956e73d1f1e69957",
            "c137c70c469c470a95305a79dbf09249",
            "9b5240737ec14e4596f926b0634c9d4a",
            "0e21c38bc49e46f79b4ac780ae4c32a2",
            "396a13fdb2124dd79636192089827d48",
            "ffaeeeaedddf4a12aeebc067ad484fd9",
            "89fa22c1894d4a55aba2b3a66186014e",
            "602aa1adaaf24c608f3295d05bad394e",
            "047987df8daf47f793c51b274f1816d6",
            "832a132d0f1f4483b93be25f1810802b",
            "306672e181c643f18e7f130f93a346fb",
            "173f53a149a34b48aae79730c41a81c9",
            "0ceb990be0e94e8eb7bbffcb8b666787",
            "8ded33a3382044afadd0783c1f365279",
            "a0b88f5fe40f46f9b70ba344aa306ae0",
            "8077df7f1b264e5a984a13bfe5ddac9a",
            "bbd2e9ec95ba486bbe0a82c69afc20a4",
            "c80d67bb49754aa08ee4baf2e54241d9",
            "9d822f02340b4626a12f6129adc44de9",
            "e35c0a4cd1664e2d9682755ce5ae21dd",
            "8c353c7c2ece4eaf94455d9398470c67",
            "3406263f0502471888e86c71339b34e0",
            "aa6b83bd51774aac8e2e61b0acecbc86",
            "6a20fe824aa745228d29beb5e7fa2b3a",
            "8ac5865b529146efa32ab843ee82d6bf",
            "20083cc7e922466fb8d89a607457bbce",
            "7307571ad51249b18984a0b384167465",
            "c22272fe491d47848b3f3a58da0abdcc",
            "e13e98cc04194c3ca8662cdf2ee47a2a",
            "27f99456a29f498f8f5563d70708c09d",
            "d50150fc5e9a477ba2f8c6332d38f8ae",
            "c4384d92c62b4bec99e93283c9667492",
            "2f60331520b642b8b8942acbc152eca6",
            "376664a200d84dfcbadaad5f10be89f0",
            "6ff0ccd91ba745a2b0f68695e37214d4",
            "877696a5c3664e85825a91398071da27",
            "f726f00bc18647d5835a0c34073e4f30",
            "ac8184f8fd5e48a7b1f96949ee6dc61f",
            "a1e25ba67d2d4bbcbf14a4d32caeb480",
            "461dd19133224eb7aee9c41229ddc91d"
          ]
        },
        "id": "dgnRi3bHaGXv",
        "outputId": "38b66cc6-1716-426e-91e5-e24ca628135f"
      },
      "outputs": [
        {
          "output_type": "stream",
          "name": "stderr",
          "text": [
            "INFO:pytorch_lightning.accelerators.cuda:LOCAL_RANK: 0 - CUDA_VISIBLE_DEVICES: [0]\n",
            "INFO:pytorch_lightning.callbacks.model_summary:\n",
            "  | Name              | Type                      | Params\n",
            "----------------------------------------------------------------\n",
            "0 | accuracy          | MulticlassAccuracy        | 0     \n",
            "1 | loss              | CrossEntropyLoss          | 0     \n",
            "2 | recall            | MulticlassRecall          | 0     \n",
            "3 | prec              | MulticlassPrecision       | 0     \n",
            "4 | jacq_ind          | MulticlassJaccardIndex    | 0     \n",
            "5 | confmat           | MulticlassConfusionMatrix | 0     \n",
            "6 | feature_extractor | Sequential                | 23.5 M\n",
            "7 | classifier        | Linear                    | 18.4 K\n",
            "----------------------------------------------------------------\n",
            "23.5 M    Trainable params\n",
            "0         Non-trainable params\n",
            "23.5 M    Total params\n",
            "94.106    Total estimated model params size (MB)\n"
          ]
        },
        {
          "output_type": "stream",
          "name": "stdout",
          "text": [
            "Num train:3526 Num val:755 Num test:757\n",
            "total num: 5038  total sum: 5038\n",
            "Optimise with Adam\n"
          ]
        },
        {
          "output_type": "display_data",
          "data": {
            "text/plain": [
              "Sanity Checking: 0it [00:00, ?it/s]"
            ],
            "application/vnd.jupyter.widget-view+json": {
              "version_major": 2,
              "version_minor": 0,
              "model_id": "85b2a9f061f64c949504487594324de7"
            }
          },
          "metadata": {}
        },
        {
          "output_type": "stream",
          "name": "stdout",
          "text": [
            "tensor(0.0938, device='cuda:0') tensor(0.1296, device='cuda:0') tensor(0.0356, device='cuda:0')\n",
            "tensor(0.1250, device='cuda:0') tensor(0.1519, device='cuda:0') tensor(0.0456, device='cuda:0')\n",
            "Num of val samples: 64. Check this aligns with the numbers from the dataloader\n",
            "9.0\n"
          ]
        },
        {
          "output_type": "stream",
          "name": "stderr",
          "text": [
            "/usr/local/lib/python3.9/dist-packages/torch/utils/data/dataloader.py:554: UserWarning: This DataLoader will create 4 worker processes in total. Our suggested max number of worker in current system is 2, which is smaller than what this DataLoader is going to create. Please be aware that excessive worker creation might get DataLoader running slow or even freeze, lower the worker number to avoid potential slowness/freeze if necessary.\n",
            "  warnings.warn(_create_warning_msg(\n"
          ]
        },
        {
          "output_type": "display_data",
          "data": {
            "text/plain": [
              "Training: 0it [00:00, ?it/s]"
            ],
            "application/vnd.jupyter.widget-view+json": {
              "version_major": 2,
              "version_minor": 0,
              "model_id": "8fa8061b1f02450c9fd5407475df2165"
            }
          },
          "metadata": {}
        },
        {
          "output_type": "display_data",
          "data": {
            "text/plain": [
              "Validation: 0it [00:00, ?it/s]"
            ],
            "application/vnd.jupyter.widget-view+json": {
              "version_major": 2,
              "version_minor": 0,
              "model_id": "6caab147189f4912afc7ac3dc566c261"
            }
          },
          "metadata": {}
        },
        {
          "output_type": "stream",
          "name": "stdout",
          "text": [
            "tensor(0.7500, device='cuda:0') tensor(0.5833, device='cuda:0') tensor(0.6691, device='cuda:0')\n",
            "tensor(0.7188, device='cuda:0') tensor(0.5873, device='cuda:0') tensor(0.5892, device='cuda:0')\n",
            "tensor(0.7500, device='cuda:0') tensor(0.4644, device='cuda:0') tensor(0.5398, device='cuda:0')\n",
            "tensor(0.5625, device='cuda:0') tensor(0.4690, device='cuda:0') tensor(0.4167, device='cuda:0')\n",
            "tensor(0.7500, device='cuda:0') tensor(0.6984, device='cuda:0') tensor(0.6429, device='cuda:0')\n",
            "tensor(0.5938, device='cuda:0') tensor(0.3075, device='cuda:0') tensor(0.3508, device='cuda:0')\n",
            "tensor(0.7188, device='cuda:0') tensor(0.5840, device='cuda:0') tensor(0.5507, device='cuda:0')\n",
            "tensor(0.6875, device='cuda:0') tensor(0.4397, device='cuda:0') tensor(0.5005, device='cuda:0')\n",
            "tensor(0.8125, device='cuda:0') tensor(0.5812, device='cuda:0') tensor(0.5516, device='cuda:0')\n",
            "tensor(0.6875, device='cuda:0') tensor(0.5132, device='cuda:0') tensor(0.5206, device='cuda:0')\n",
            "tensor(0.5938, device='cuda:0') tensor(0.3403, device='cuda:0') tensor(0.4008, device='cuda:0')\n",
            "tensor(0.7188, device='cuda:0') tensor(0.4407, device='cuda:0') tensor(0.4473, device='cuda:0')\n",
            "tensor(0.6562, device='cuda:0') tensor(0.4236, device='cuda:0') tensor(0.4206, device='cuda:0')\n",
            "tensor(0.8125, device='cuda:0') tensor(0.6746, device='cuda:0') tensor(0.7208, device='cuda:0')\n",
            "tensor(0.5938, device='cuda:0') tensor(0.4738, device='cuda:0') tensor(0.5123, device='cuda:0')\n",
            "tensor(0.6875, device='cuda:0') tensor(0.5347, device='cuda:0') tensor(0.6220, device='cuda:0')\n",
            "tensor(0.5938, device='cuda:0') tensor(0.5602, device='cuda:0') tensor(0.5148, device='cuda:0')\n",
            "tensor(0.6562, device='cuda:0') tensor(0.3433, device='cuda:0') tensor(0.3077, device='cuda:0')\n",
            "tensor(0.6875, device='cuda:0') tensor(0.5278, device='cuda:0') tensor(0.5595, device='cuda:0')\n",
            "tensor(0.7500, device='cuda:0') tensor(0.3833, device='cuda:0') tensor(0.4104, device='cuda:0')\n",
            "tensor(0.7500, device='cuda:0') tensor(0.5500, device='cuda:0') tensor(0.5903, device='cuda:0')\n",
            "tensor(0.7188, device='cuda:0') tensor(0.5444, device='cuda:0') tensor(0.5926, device='cuda:0')\n",
            "tensor(0.7500, device='cuda:0') tensor(0.6081, device='cuda:0') tensor(0.6852, device='cuda:0')\n",
            "tensor(0.7368, device='cuda:0') tensor(0.4861, device='cuda:0') tensor(0.4475, device='cuda:0')\n",
            "Num of val samples: 755. Check this aligns with the numbers from the dataloader\n",
            "9.0\n"
          ]
        },
        {
          "output_type": "stream",
          "name": "stderr",
          "text": [
            "/usr/local/lib/python3.9/dist-packages/torch/utils/data/dataloader.py:554: UserWarning: This DataLoader will create 4 worker processes in total. Our suggested max number of worker in current system is 2, which is smaller than what this DataLoader is going to create. Please be aware that excessive worker creation might get DataLoader running slow or even freeze, lower the worker number to avoid potential slowness/freeze if necessary.\n",
            "  warnings.warn(_create_warning_msg(\n"
          ]
        },
        {
          "output_type": "display_data",
          "data": {
            "text/plain": [
              "Validation: 0it [00:00, ?it/s]"
            ],
            "application/vnd.jupyter.widget-view+json": {
              "version_major": 2,
              "version_minor": 0,
              "model_id": "cf5ae2023e404289b8c758efc499a8c3"
            }
          },
          "metadata": {}
        },
        {
          "output_type": "stream",
          "name": "stdout",
          "text": [
            "tensor(0.7188, device='cuda:0') tensor(0.4738, device='cuda:0') tensor(0.5542, device='cuda:0')\n",
            "tensor(0.8125, device='cuda:0') tensor(0.5343, device='cuda:0') tensor(0.6173, device='cuda:0')\n",
            "tensor(0.7812, device='cuda:0') tensor(0.4792, device='cuda:0') tensor(0.4382, device='cuda:0')\n",
            "tensor(0.5938, device='cuda:0') tensor(0.4343, device='cuda:0') tensor(0.4913, device='cuda:0')\n",
            "tensor(0.7812, device='cuda:0') tensor(0.4352, device='cuda:0') tensor(0.5238, device='cuda:0')\n",
            "tensor(0.8125, device='cuda:0') tensor(0.7111, device='cuda:0') tensor(0.6667, device='cuda:0')\n",
            "tensor(0.8750, device='cuda:0') tensor(0.6601, device='cuda:0') tensor(0.6379, device='cuda:0')\n",
            "tensor(0.7500, device='cuda:0') tensor(0.6481, device='cuda:0') tensor(0.6528, device='cuda:0')\n",
            "tensor(0.7500, device='cuda:0') tensor(0.4921, device='cuda:0') tensor(0.4183, device='cuda:0')\n",
            "tensor(0.7188, device='cuda:0') tensor(0.5848, device='cuda:0') tensor(0.6690, device='cuda:0')\n",
            "tensor(0.7500, device='cuda:0') tensor(0.6866, device='cuda:0') tensor(0.6134, device='cuda:0')\n",
            "tensor(0.7812, device='cuda:0') tensor(0.7363, device='cuda:0') tensor(0.7778, device='cuda:0')\n",
            "tensor(0.8438, device='cuda:0') tensor(0.5833, device='cuda:0') tensor(0.6374, device='cuda:0')\n",
            "tensor(0.8750, device='cuda:0') tensor(0.4286, device='cuda:0') tensor(0.4077, device='cuda:0')\n",
            "tensor(0.5000, device='cuda:0') tensor(0.2454, device='cuda:0') tensor(0.2222, device='cuda:0')\n",
            "tensor(0.8125, device='cuda:0') tensor(0.6359, device='cuda:0') tensor(0.6118, device='cuda:0')\n",
            "tensor(0.7500, device='cuda:0') tensor(0.3457, device='cuda:0') tensor(0.3562, device='cuda:0')\n",
            "tensor(0.7188, device='cuda:0') tensor(0.4967, device='cuda:0') tensor(0.5889, device='cuda:0')\n",
            "tensor(0.6875, device='cuda:0') tensor(0.4951, device='cuda:0') tensor(0.4698, device='cuda:0')\n",
            "tensor(0.6562, device='cuda:0') tensor(0.5157, device='cuda:0') tensor(0.6378, device='cuda:0')\n",
            "tensor(0.5938, device='cuda:0') tensor(0.4778, device='cuda:0') tensor(0.4961, device='cuda:0')\n",
            "tensor(0.8125, device='cuda:0') tensor(0.3167, device='cuda:0') tensor(0.4192, device='cuda:0')\n",
            "tensor(0.7188, device='cuda:0') tensor(0.4728, device='cuda:0') tensor(0.5457, device='cuda:0')\n",
            "tensor(0.7895, device='cuda:0') tensor(0.5864, device='cuda:0') tensor(0.5864, device='cuda:0')\n",
            "Num of val samples: 755. Check this aligns with the numbers from the dataloader\n",
            "9.0\n"
          ]
        },
        {
          "output_type": "stream",
          "name": "stderr",
          "text": [
            "/usr/local/lib/python3.9/dist-packages/torch/utils/data/dataloader.py:554: UserWarning: This DataLoader will create 4 worker processes in total. Our suggested max number of worker in current system is 2, which is smaller than what this DataLoader is going to create. Please be aware that excessive worker creation might get DataLoader running slow or even freeze, lower the worker number to avoid potential slowness/freeze if necessary.\n",
            "  warnings.warn(_create_warning_msg(\n"
          ]
        },
        {
          "output_type": "display_data",
          "data": {
            "text/plain": [
              "Validation: 0it [00:00, ?it/s]"
            ],
            "application/vnd.jupyter.widget-view+json": {
              "version_major": 2,
              "version_minor": 0,
              "model_id": "12228b7b3b454751a20db26a9400485a"
            }
          },
          "metadata": {}
        },
        {
          "output_type": "stream",
          "name": "stdout",
          "text": [
            "tensor(0.7188, device='cuda:0') tensor(0.5285, device='cuda:0') tensor(0.6111, device='cuda:0')\n",
            "tensor(0.7500, device='cuda:0') tensor(0.6407, device='cuda:0') tensor(0.7901, device='cuda:0')\n",
            "tensor(0.8438, device='cuda:0') tensor(0.7407, device='cuda:0') tensor(0.8111, device='cuda:0')\n",
            "tensor(0.7188, device='cuda:0') tensor(0.5630, device='cuda:0') tensor(0.6111, device='cuda:0')\n",
            "tensor(0.8125, device='cuda:0') tensor(0.6959, device='cuda:0') tensor(0.6311, device='cuda:0')\n",
            "tensor(0.8438, device='cuda:0') tensor(0.6358, device='cuda:0') tensor(0.7232, device='cuda:0')\n",
            "tensor(0.8125, device='cuda:0') tensor(0.7026, device='cuda:0') tensor(0.6898, device='cuda:0')\n",
            "tensor(0.8125, device='cuda:0') tensor(0.5972, device='cuda:0') tensor(0.5979, device='cuda:0')\n",
            "tensor(0.7812, device='cuda:0') tensor(0.4111, device='cuda:0') tensor(0.4522, device='cuda:0')\n",
            "tensor(0.7812, device='cuda:0') tensor(0.5693, device='cuda:0') tensor(0.5889, device='cuda:0')\n",
            "tensor(0.7500, device='cuda:0') tensor(0.6444, device='cuda:0') tensor(0.6895, device='cuda:0')\n",
            "tensor(0.6562, device='cuda:0') tensor(0.4206, device='cuda:0') tensor(0.5309, device='cuda:0')\n",
            "tensor(0.8125, device='cuda:0') tensor(0.5560, device='cuda:0') tensor(0.6019, device='cuda:0')\n",
            "tensor(0.7812, device='cuda:0') tensor(0.7944, device='cuda:0') tensor(0.7889, device='cuda:0')\n",
            "tensor(0.7812, device='cuda:0') tensor(0.3898, device='cuda:0') tensor(0.5041, device='cuda:0')\n",
            "tensor(0.6875, device='cuda:0') tensor(0.4306, device='cuda:0') tensor(0.5707, device='cuda:0')\n",
            "tensor(0.7500, device='cuda:0') tensor(0.5349, device='cuda:0') tensor(0.5714, device='cuda:0')\n",
            "tensor(0.6562, device='cuda:0') tensor(0.6343, device='cuda:0') tensor(0.5294, device='cuda:0')\n",
            "tensor(0.8750, device='cuda:0') tensor(0.7315, device='cuda:0') tensor(0.8125, device='cuda:0')\n",
            "tensor(0.6562, device='cuda:0') tensor(0.6218, device='cuda:0') tensor(0.6412, device='cuda:0')\n",
            "tensor(0.6875, device='cuda:0') tensor(0.5587, device='cuda:0') tensor(0.7354, device='cuda:0')\n",
            "tensor(0.7188, device='cuda:0') tensor(0.5234, device='cuda:0') tensor(0.4481, device='cuda:0')\n",
            "tensor(0.8125, device='cuda:0') tensor(0.5599, device='cuda:0') tensor(0.5338, device='cuda:0')\n",
            "tensor(0.7895, device='cuda:0') tensor(0.6296, device='cuda:0') tensor(0.7284, device='cuda:0')\n",
            "Num of val samples: 755. Check this aligns with the numbers from the dataloader\n",
            "9.0\n"
          ]
        },
        {
          "output_type": "stream",
          "name": "stderr",
          "text": [
            "/usr/local/lib/python3.9/dist-packages/torch/utils/data/dataloader.py:554: UserWarning: This DataLoader will create 4 worker processes in total. Our suggested max number of worker in current system is 2, which is smaller than what this DataLoader is going to create. Please be aware that excessive worker creation might get DataLoader running slow or even freeze, lower the worker number to avoid potential slowness/freeze if necessary.\n",
            "  warnings.warn(_create_warning_msg(\n"
          ]
        },
        {
          "output_type": "display_data",
          "data": {
            "text/plain": [
              "Validation: 0it [00:00, ?it/s]"
            ],
            "application/vnd.jupyter.widget-view+json": {
              "version_major": 2,
              "version_minor": 0,
              "model_id": "b3a76f9c1d244507b48216d616300a09"
            }
          },
          "metadata": {}
        },
        {
          "output_type": "stream",
          "name": "stdout",
          "text": [
            "tensor(0.7500, device='cuda:0') tensor(0.4976, device='cuda:0') tensor(0.4444, device='cuda:0')\n",
            "tensor(0.8125, device='cuda:0') tensor(0.7418, device='cuda:0') tensor(0.8333, device='cuda:0')\n",
            "tensor(0.8438, device='cuda:0') tensor(0.6963, device='cuda:0') tensor(0.6984, device='cuda:0')\n",
            "tensor(0.7500, device='cuda:0') tensor(0.3679, device='cuda:0') tensor(0.3506, device='cuda:0')\n",
            "tensor(0.7500, device='cuda:0') tensor(0.4488, device='cuda:0') tensor(0.4167, device='cuda:0')\n",
            "tensor(0.8125, device='cuda:0') tensor(0.6361, device='cuda:0') tensor(0.6285, device='cuda:0')\n",
            "tensor(0.7188, device='cuda:0') tensor(0.7640, device='cuda:0') tensor(0.8148, device='cuda:0')\n",
            "tensor(0.8125, device='cuda:0') tensor(0.5764, device='cuda:0') tensor(0.5926, device='cuda:0')\n",
            "tensor(0.7188, device='cuda:0') tensor(0.5111, device='cuda:0') tensor(0.5963, device='cuda:0')\n",
            "tensor(0.9062, device='cuda:0') tensor(0.6593, device='cuda:0') tensor(0.6250, device='cuda:0')\n",
            "tensor(0.7500, device='cuda:0') tensor(0.4925, device='cuda:0') tensor(0.4868, device='cuda:0')\n",
            "tensor(0.8125, device='cuda:0') tensor(0.6759, device='cuda:0') tensor(0.7148, device='cuda:0')\n",
            "tensor(0.7812, device='cuda:0') tensor(0.6151, device='cuda:0') tensor(0.5593, device='cuda:0')\n",
            "tensor(0.6250, device='cuda:0') tensor(0.5926, device='cuda:0') tensor(0.5610, device='cuda:0')\n",
            "tensor(0.8125, device='cuda:0') tensor(0.7972, device='cuda:0') tensor(0.8167, device='cuda:0')\n",
            "tensor(0.7812, device='cuda:0') tensor(0.6630, device='cuda:0') tensor(0.6373, device='cuda:0')\n",
            "tensor(0.8125, device='cuda:0') tensor(0.5476, device='cuda:0') tensor(0.5294, device='cuda:0')\n",
            "tensor(0.7500, device='cuda:0') tensor(0.6118, device='cuda:0') tensor(0.6432, device='cuda:0')\n",
            "tensor(0.7500, device='cuda:0') tensor(0.4762, device='cuda:0') tensor(0.4815, device='cuda:0')\n",
            "tensor(0.7500, device='cuda:0') tensor(0.3907, device='cuda:0') tensor(0.4944, device='cuda:0')\n",
            "tensor(0.7812, device='cuda:0') tensor(0.6889, device='cuda:0') tensor(0.7516, device='cuda:0')\n",
            "tensor(0.7500, device='cuda:0') tensor(0.5101, device='cuda:0') tensor(0.5648, device='cuda:0')\n",
            "tensor(0.8438, device='cuda:0') tensor(0.7889, device='cuda:0') tensor(0.8580, device='cuda:0')\n",
            "tensor(0.8421, device='cuda:0') tensor(0.5802, device='cuda:0') tensor(0.6444, device='cuda:0')\n",
            "Num of val samples: 755. Check this aligns with the numbers from the dataloader\n",
            "9.0\n"
          ]
        },
        {
          "output_type": "stream",
          "name": "stderr",
          "text": [
            "/usr/local/lib/python3.9/dist-packages/torch/utils/data/dataloader.py:554: UserWarning: This DataLoader will create 4 worker processes in total. Our suggested max number of worker in current system is 2, which is smaller than what this DataLoader is going to create. Please be aware that excessive worker creation might get DataLoader running slow or even freeze, lower the worker number to avoid potential slowness/freeze if necessary.\n",
            "  warnings.warn(_create_warning_msg(\n"
          ]
        },
        {
          "output_type": "display_data",
          "data": {
            "text/plain": [
              "Validation: 0it [00:00, ?it/s]"
            ],
            "application/vnd.jupyter.widget-view+json": {
              "version_major": 2,
              "version_minor": 0,
              "model_id": "0a98da1361a441d79293d53a20c5be6c"
            }
          },
          "metadata": {}
        },
        {
          "output_type": "stream",
          "name": "stdout",
          "text": [
            "tensor(0.7500, device='cuda:0') tensor(0.2904, device='cuda:0') tensor(0.4133, device='cuda:0')\n",
            "tensor(0.8438, device='cuda:0') tensor(0.5185, device='cuda:0') tensor(0.5692, device='cuda:0')\n",
            "tensor(0.7500, device='cuda:0') tensor(0.6296, device='cuda:0') tensor(0.6352, device='cuda:0')\n",
            "tensor(0.9062, device='cuda:0') tensor(0.8175, device='cuda:0') tensor(0.8063, device='cuda:0')\n",
            "tensor(0.6562, device='cuda:0') tensor(0.6328, device='cuda:0') tensor(0.6765, device='cuda:0')\n",
            "tensor(0.8750, device='cuda:0') tensor(0.6389, device='cuda:0') tensor(0.5272, device='cuda:0')\n",
            "tensor(0.7500, device='cuda:0') tensor(0.7963, device='cuda:0') tensor(0.7275, device='cuda:0')\n",
            "tensor(0.7812, device='cuda:0') tensor(0.4931, device='cuda:0') tensor(0.5979, device='cuda:0')\n",
            "tensor(0.8438, device='cuda:0') tensor(0.6875, device='cuda:0') tensor(0.6852, device='cuda:0')\n",
            "tensor(0.7500, device='cuda:0') tensor(0.4766, device='cuda:0') tensor(0.4907, device='cuda:0')\n",
            "tensor(0.7812, device='cuda:0') tensor(0.7389, device='cuda:0') tensor(0.7844, device='cuda:0')\n",
            "tensor(0.7500, device='cuda:0') tensor(0.5021, device='cuda:0') tensor(0.5808, device='cuda:0')\n",
            "tensor(0.6250, device='cuda:0') tensor(0.4253, device='cuda:0') tensor(0.5685, device='cuda:0')\n",
            "tensor(0.8750, device='cuda:0') tensor(0.9093, device='cuda:0') tensor(0.9248, device='cuda:0')\n",
            "tensor(0.6875, device='cuda:0') tensor(0.4989, device='cuda:0') tensor(0.5370, device='cuda:0')\n",
            "tensor(0.7812, device='cuda:0') tensor(0.5781, device='cuda:0') tensor(0.5794, device='cuda:0')\n",
            "tensor(0.7812, device='cuda:0') tensor(0.6317, device='cuda:0') tensor(0.6895, device='cuda:0')\n",
            "tensor(0.7188, device='cuda:0') tensor(0.6317, device='cuda:0') tensor(0.6998, device='cuda:0')\n",
            "tensor(0.7812, device='cuda:0') tensor(0.4657, device='cuda:0') tensor(0.5253, device='cuda:0')\n",
            "tensor(0.6875, device='cuda:0') tensor(0.5271, device='cuda:0') tensor(0.6425, device='cuda:0')\n",
            "tensor(0.8438, device='cuda:0') tensor(0.7889, device='cuda:0') tensor(0.6975, device='cuda:0')\n",
            "tensor(0.7188, device='cuda:0') tensor(0.6045, device='cuda:0') tensor(0.6618, device='cuda:0')\n",
            "tensor(0.8750, device='cuda:0') tensor(0.9315, device='cuda:0') tensor(0.8889, device='cuda:0')\n",
            "tensor(0.7895, device='cuda:0') tensor(0.4167, device='cuda:0') tensor(0.3753, device='cuda:0')\n",
            "Num of val samples: 755. Check this aligns with the numbers from the dataloader\n",
            "9.0\n"
          ]
        },
        {
          "output_type": "stream",
          "name": "stderr",
          "text": [
            "/usr/local/lib/python3.9/dist-packages/torch/utils/data/dataloader.py:554: UserWarning: This DataLoader will create 4 worker processes in total. Our suggested max number of worker in current system is 2, which is smaller than what this DataLoader is going to create. Please be aware that excessive worker creation might get DataLoader running slow or even freeze, lower the worker number to avoid potential slowness/freeze if necessary.\n",
            "  warnings.warn(_create_warning_msg(\n"
          ]
        },
        {
          "output_type": "display_data",
          "data": {
            "text/plain": [
              "Validation: 0it [00:00, ?it/s]"
            ],
            "application/vnd.jupyter.widget-view+json": {
              "version_major": 2,
              "version_minor": 0,
              "model_id": "949aa10ffab743818730f0bf431fc7d0"
            }
          },
          "metadata": {}
        },
        {
          "output_type": "stream",
          "name": "stdout",
          "text": [
            "tensor(0.7812, device='cuda:0') tensor(0.7936, device='cuda:0') tensor(0.8056, device='cuda:0')\n",
            "tensor(0.8750, device='cuda:0') tensor(0.6324, device='cuda:0') tensor(0.6046, device='cuda:0')\n",
            "tensor(0.7188, device='cuda:0') tensor(0.5074, device='cuda:0') tensor(0.4704, device='cuda:0')\n",
            "tensor(0.7188, device='cuda:0') tensor(0.5071, device='cuda:0') tensor(0.5905, device='cuda:0')\n",
            "tensor(0.7188, device='cuda:0') tensor(0.6195, device='cuda:0') tensor(0.6991, device='cuda:0')\n",
            "tensor(0.7500, device='cuda:0') tensor(0.5397, device='cuda:0') tensor(0.6389, device='cuda:0')\n",
            "tensor(0.6875, device='cuda:0') tensor(0.6563, device='cuda:0') tensor(0.5899, device='cuda:0')\n",
            "tensor(0.5625, device='cuda:0') tensor(0.5313, device='cuda:0') tensor(0.6245, device='cuda:0')\n",
            "tensor(0.8750, device='cuda:0') tensor(0.7074, device='cuda:0') tensor(0.6892, device='cuda:0')\n",
            "tensor(0.8438, device='cuda:0') tensor(0.7809, device='cuda:0') tensor(0.7509, device='cuda:0')\n",
            "tensor(0.7500, device='cuda:0') tensor(0.5625, device='cuda:0') tensor(0.5722, device='cuda:0')\n",
            "tensor(0.8750, device='cuda:0') tensor(0.7421, device='cuda:0') tensor(0.8125, device='cuda:0')\n",
            "tensor(0.8750, device='cuda:0') tensor(0.5840, device='cuda:0') tensor(0.6259, device='cuda:0')\n",
            "tensor(0.8125, device='cuda:0') tensor(0.4560, device='cuda:0') tensor(0.5278, device='cuda:0')\n",
            "tensor(0.7812, device='cuda:0') tensor(0.4784, device='cuda:0') tensor(0.4185, device='cuda:0')\n",
            "tensor(0.7812, device='cuda:0') tensor(0.6702, device='cuda:0') tensor(0.6519, device='cuda:0')\n",
            "tensor(0.7812, device='cuda:0') tensor(0.5550, device='cuda:0') tensor(0.6358, device='cuda:0')\n",
            "tensor(0.8438, device='cuda:0') tensor(0.5126, device='cuda:0') tensor(0.4894, device='cuda:0')\n",
            "tensor(0.8125, device='cuda:0') tensor(0.4778, device='cuda:0') tensor(0.6296, device='cuda:0')\n",
            "tensor(0.8438, device='cuda:0') tensor(0.6148, device='cuda:0') tensor(0.6008, device='cuda:0')\n",
            "tensor(0.8750, device='cuda:0') tensor(0.7803, device='cuda:0') tensor(0.8296, device='cuda:0')\n",
            "tensor(0.6250, device='cuda:0') tensor(0.5499, device='cuda:0') tensor(0.4526, device='cuda:0')\n",
            "tensor(0.8438, device='cuda:0') tensor(0.6496, device='cuda:0') tensor(0.5162, device='cuda:0')\n",
            "tensor(0.8947, device='cuda:0') tensor(0.6343, device='cuda:0') tensor(0.6343, device='cuda:0')\n",
            "Num of val samples: 755. Check this aligns with the numbers from the dataloader\n",
            "9.0\n"
          ]
        },
        {
          "output_type": "stream",
          "name": "stderr",
          "text": [
            "/usr/local/lib/python3.9/dist-packages/torch/utils/data/dataloader.py:554: UserWarning: This DataLoader will create 4 worker processes in total. Our suggested max number of worker in current system is 2, which is smaller than what this DataLoader is going to create. Please be aware that excessive worker creation might get DataLoader running slow or even freeze, lower the worker number to avoid potential slowness/freeze if necessary.\n",
            "  warnings.warn(_create_warning_msg(\n"
          ]
        },
        {
          "output_type": "display_data",
          "data": {
            "text/plain": [
              "Validation: 0it [00:00, ?it/s]"
            ],
            "application/vnd.jupyter.widget-view+json": {
              "version_major": 2,
              "version_minor": 0,
              "model_id": "602aa1adaaf24c608f3295d05bad394e"
            }
          },
          "metadata": {}
        },
        {
          "output_type": "stream",
          "name": "stdout",
          "text": [
            "tensor(0.8438, device='cuda:0') tensor(0.7315, device='cuda:0') tensor(0.7741, device='cuda:0')\n",
            "tensor(0.7500, device='cuda:0') tensor(0.6204, device='cuda:0') tensor(0.7889, device='cuda:0')\n",
            "tensor(0.7500, device='cuda:0') tensor(0.5010, device='cuda:0') tensor(0.5750, device='cuda:0')\n",
            "tensor(0.7500, device='cuda:0') tensor(0.5366, device='cuda:0') tensor(0.5556, device='cuda:0')\n",
            "tensor(0.7500, device='cuda:0') tensor(0.7003, device='cuda:0') tensor(0.6726, device='cuda:0')\n",
            "tensor(0.8125, device='cuda:0') tensor(0.5212, device='cuda:0') tensor(0.4833, device='cuda:0')\n",
            "tensor(0.6562, device='cuda:0') tensor(0.4028, device='cuda:0') tensor(0.4591, device='cuda:0')\n",
            "tensor(0.6562, device='cuda:0') tensor(0.4259, device='cuda:0') tensor(0.4320, device='cuda:0')\n",
            "tensor(0.8438, device='cuda:0') tensor(0.8162, device='cuda:0') tensor(0.8333, device='cuda:0')\n",
            "tensor(0.5938, device='cuda:0') tensor(0.4306, device='cuda:0') tensor(0.5173, device='cuda:0')\n",
            "tensor(0.8125, device='cuda:0') tensor(0.6214, device='cuda:0') tensor(0.7183, device='cuda:0')\n",
            "tensor(0.7812, device='cuda:0') tensor(0.6389, device='cuda:0') tensor(0.6127, device='cuda:0')\n",
            "tensor(0.9688, device='cuda:0') tensor(0.5185, device='cuda:0') tensor(0.5505, device='cuda:0')\n",
            "tensor(0.8438, device='cuda:0') tensor(0.6611, device='cuda:0') tensor(0.7626, device='cuda:0')\n",
            "tensor(0.8438, device='cuda:0') tensor(0.5795, device='cuda:0') tensor(0.5980, device='cuda:0')\n",
            "tensor(0.8438, device='cuda:0') tensor(0.6804, device='cuda:0') tensor(0.6963, device='cuda:0')\n",
            "tensor(0.8438, device='cuda:0') tensor(0.7037, device='cuda:0') tensor(0.7244, device='cuda:0')\n",
            "tensor(0.6875, device='cuda:0') tensor(0.4259, device='cuda:0') tensor(0.5093, device='cuda:0')\n",
            "tensor(0.7188, device='cuda:0') tensor(0.5296, device='cuda:0') tensor(0.5715, device='cuda:0')\n",
            "tensor(0.8750, device='cuda:0') tensor(0.7278, device='cuda:0') tensor(0.6915, device='cuda:0')\n",
            "tensor(0.7500, device='cuda:0') tensor(0.6389, device='cuda:0') tensor(0.7759, device='cuda:0')\n",
            "tensor(0.6875, device='cuda:0') tensor(0.5683, device='cuda:0') tensor(0.5278, device='cuda:0')\n",
            "tensor(0.7812, device='cuda:0') tensor(0.5489, device='cuda:0') tensor(0.5954, device='cuda:0')\n",
            "tensor(0.7895, device='cuda:0') tensor(0.7116, device='cuda:0') tensor(0.6481, device='cuda:0')\n",
            "Num of val samples: 755. Check this aligns with the numbers from the dataloader\n",
            "9.0\n"
          ]
        },
        {
          "output_type": "stream",
          "name": "stderr",
          "text": [
            "/usr/local/lib/python3.9/dist-packages/torch/utils/data/dataloader.py:554: UserWarning: This DataLoader will create 4 worker processes in total. Our suggested max number of worker in current system is 2, which is smaller than what this DataLoader is going to create. Please be aware that excessive worker creation might get DataLoader running slow or even freeze, lower the worker number to avoid potential slowness/freeze if necessary.\n",
            "  warnings.warn(_create_warning_msg(\n"
          ]
        },
        {
          "output_type": "display_data",
          "data": {
            "text/plain": [
              "Validation: 0it [00:00, ?it/s]"
            ],
            "application/vnd.jupyter.widget-view+json": {
              "version_major": 2,
              "version_minor": 0,
              "model_id": "9d822f02340b4626a12f6129adc44de9"
            }
          },
          "metadata": {}
        },
        {
          "output_type": "stream",
          "name": "stdout",
          "text": [
            "tensor(0.6250, device='cuda:0') tensor(0.4521, device='cuda:0') tensor(0.5709, device='cuda:0')\n",
            "tensor(0.9062, device='cuda:0') tensor(0.6508, device='cuda:0') tensor(0.6264, device='cuda:0')\n",
            "tensor(0.7500, device='cuda:0') tensor(0.5687, device='cuda:0') tensor(0.6278, device='cuda:0')\n",
            "tensor(0.8750, device='cuda:0') tensor(0.6286, device='cuda:0') tensor(0.6211, device='cuda:0')\n",
            "tensor(0.8438, device='cuda:0') tensor(0.5730, device='cuda:0') tensor(0.5713, device='cuda:0')\n",
            "tensor(0.7188, device='cuda:0') tensor(0.6167, device='cuda:0') tensor(0.6238, device='cuda:0')\n",
            "tensor(0.7812, device='cuda:0') tensor(0.7058, device='cuda:0') tensor(0.6667, device='cuda:0')\n",
            "tensor(0.6875, device='cuda:0') tensor(0.4156, device='cuda:0') tensor(0.4248, device='cuda:0')\n",
            "tensor(0.6562, device='cuda:0') tensor(0.3963, device='cuda:0') tensor(0.4889, device='cuda:0')\n",
            "tensor(0.7812, device='cuda:0') tensor(0.5455, device='cuda:0') tensor(0.5608, device='cuda:0')\n",
            "tensor(0.7188, device='cuda:0') tensor(0.5866, device='cuda:0') tensor(0.6802, device='cuda:0')\n",
            "tensor(0.7500, device='cuda:0') tensor(0.6630, device='cuda:0') tensor(0.7024, device='cuda:0')\n",
            "tensor(0.7188, device='cuda:0') tensor(0.6127, device='cuda:0') tensor(0.5148, device='cuda:0')\n",
            "tensor(0.7812, device='cuda:0') tensor(0.8333, device='cuda:0') tensor(0.7359, device='cuda:0')\n",
            "tensor(0.9688, device='cuda:0') tensor(0.7692, device='cuda:0') tensor(0.7500, device='cuda:0')\n",
            "tensor(0.8125, device='cuda:0') tensor(0.6650, device='cuda:0') tensor(0.6759, device='cuda:0')\n",
            "tensor(0.8125, device='cuda:0') tensor(0.6907, device='cuda:0') tensor(0.6037, device='cuda:0')\n",
            "tensor(0.7812, device='cuda:0') tensor(0.4583, device='cuda:0') tensor(0.3776, device='cuda:0')\n",
            "tensor(0.7812, device='cuda:0') tensor(0.6178, device='cuda:0') tensor(0.5875, device='cuda:0')\n",
            "tensor(0.8125, device='cuda:0') tensor(0.7841, device='cuda:0') tensor(0.7833, device='cuda:0')\n",
            "tensor(0.7812, device='cuda:0') tensor(0.6028, device='cuda:0') tensor(0.5539, device='cuda:0')\n",
            "tensor(0.7812, device='cuda:0') tensor(0.6281, device='cuda:0') tensor(0.6873, device='cuda:0')\n",
            "tensor(0.8438, device='cuda:0') tensor(0.5873, device='cuda:0') tensor(0.5675, device='cuda:0')\n",
            "tensor(0.7895, device='cuda:0') tensor(0.4593, device='cuda:0') tensor(0.4963, device='cuda:0')\n",
            "Num of val samples: 755. Check this aligns with the numbers from the dataloader\n",
            "9.0\n"
          ]
        },
        {
          "output_type": "stream",
          "name": "stderr",
          "text": [
            "/usr/local/lib/python3.9/dist-packages/torch/utils/data/dataloader.py:554: UserWarning: This DataLoader will create 4 worker processes in total. Our suggested max number of worker in current system is 2, which is smaller than what this DataLoader is going to create. Please be aware that excessive worker creation might get DataLoader running slow or even freeze, lower the worker number to avoid potential slowness/freeze if necessary.\n",
            "  warnings.warn(_create_warning_msg(\n"
          ]
        },
        {
          "output_type": "display_data",
          "data": {
            "text/plain": [
              "Validation: 0it [00:00, ?it/s]"
            ],
            "application/vnd.jupyter.widget-view+json": {
              "version_major": 2,
              "version_minor": 0,
              "model_id": "27f99456a29f498f8f5563d70708c09d"
            }
          },
          "metadata": {}
        },
        {
          "output_type": "stream",
          "name": "stdout",
          "text": [
            "tensor(0.7812, device='cuda:0') tensor(0.5929, device='cuda:0') tensor(0.5365, device='cuda:0')\n",
            "tensor(0.9375, device='cuda:0') tensor(0.7500, device='cuda:0') tensor(0.7630, device='cuda:0')\n",
            "tensor(0.8438, device='cuda:0') tensor(0.5463, device='cuda:0') tensor(0.6402, device='cuda:0')\n",
            "tensor(0.8750, device='cuda:0') tensor(0.6889, device='cuda:0') tensor(0.7074, device='cuda:0')\n",
            "tensor(0.7188, device='cuda:0') tensor(0.5407, device='cuda:0') tensor(0.7302, device='cuda:0')\n",
            "tensor(0.9062, device='cuda:0') tensor(0.6597, device='cuda:0') tensor(0.6166, device='cuda:0')\n",
            "tensor(0.8750, device='cuda:0') tensor(0.5767, device='cuda:0') tensor(0.6286, device='cuda:0')\n",
            "tensor(0.8438, device='cuda:0') tensor(0.5305, device='cuda:0') tensor(0.6047, device='cuda:0')\n",
            "tensor(0.7500, device='cuda:0') tensor(0.6226, device='cuda:0') tensor(0.6556, device='cuda:0')\n",
            "tensor(0.6562, device='cuda:0') tensor(0.5728, device='cuda:0') tensor(0.5578, device='cuda:0')\n",
            "tensor(0.7500, device='cuda:0') tensor(0.4547, device='cuda:0') tensor(0.5847, device='cuda:0')\n",
            "tensor(0.8125, device='cuda:0') tensor(0.4560, device='cuda:0') tensor(0.4375, device='cuda:0')\n",
            "tensor(0.8125, device='cuda:0') tensor(0.6832, device='cuda:0') tensor(0.6444, device='cuda:0')\n",
            "tensor(0.8125, device='cuda:0') tensor(0.6597, device='cuda:0') tensor(0.6711, device='cuda:0')\n",
            "tensor(0.7500, device='cuda:0') tensor(0.5525, device='cuda:0') tensor(0.5812, device='cuda:0')\n",
            "tensor(0.7188, device='cuda:0') tensor(0.4745, device='cuda:0') tensor(0.5025, device='cuda:0')\n",
            "tensor(0.7188, device='cuda:0') tensor(0.4852, device='cuda:0') tensor(0.5205, device='cuda:0')\n",
            "tensor(0.6250, device='cuda:0') tensor(0.4778, device='cuda:0') tensor(0.5394, device='cuda:0')\n",
            "tensor(0.7188, device='cuda:0') tensor(0.5399, device='cuda:0') tensor(0.6487, device='cuda:0')\n",
            "tensor(0.8438, device='cuda:0') tensor(0.6667, device='cuda:0') tensor(0.7296, device='cuda:0')\n",
            "tensor(0.9062, device='cuda:0') tensor(0.7222, device='cuda:0') tensor(0.7556, device='cuda:0')\n",
            "tensor(0.6562, device='cuda:0') tensor(0.3470, device='cuda:0') tensor(0.3611, device='cuda:0')\n",
            "tensor(0.7500, device='cuda:0') tensor(0.6037, device='cuda:0') tensor(0.6704, device='cuda:0')\n",
            "tensor(0.7895, device='cuda:0') tensor(0.4630, device='cuda:0') tensor(0.5185, device='cuda:0')\n",
            "Num of val samples: 755. Check this aligns with the numbers from the dataloader\n",
            "9.0\n"
          ]
        },
        {
          "output_type": "display_data",
          "data": {
            "text/plain": [
              "<Figure size 1080x720 with 2 Axes>"
            ],
            "image/png": "[encoded data removed]"
          },
          "metadata": {
            "needs_background": "light"
          }
        },
        {
          "output_type": "display_data",
          "data": {
            "text/plain": [
              "<Figure size 1080x720 with 2 Axes>"
            ],
            "image/png": "[encoded data removed]"
          },
          "metadata": {
            "needs_background": "light"
          }
        },
        {
          "output_type": "display_data",
          "data": {
            "text/plain": [
              "<Figure size 1080x720 with 2 Axes>"
            ],
            "image/png": "[encoded data removed]"
          },
          "metadata": {
            "needs_background": "light"
          }
        },
        {
          "output_type": "display_data",
          "data": {
            "text/plain": [
              "<Figure size 1080x720 with 2 Axes>"
            ],
            "image/png": "[encoded data removed]"
          },
          "metadata": {
            "needs_background": "light"
          }
        },
        {
          "output_type": "display_data",
          "data": {
            "text/plain": [
              "<Figure size 1080x720 with 2 Axes>"
            ],
            "image/png": "[encoded data removed]"
          },
          "metadata": {
            "needs_background": "light"
          }
        },
        {
          "output_type": "display_data",
          "data": {
            "text/plain": [
              "<Figure size 1080x720 with 2 Axes>"
            ],
            "image/png": "[encoded data removed]"
          },
          "metadata": {
            "needs_background": "light"
          }
        },
        {
          "output_type": "display_data",
          "data": {
            "text/plain": [
              "<Figure size 1080x720 with 2 Axes>"
            ],
            "image/png": "[encoded data removed]"
          },
          "metadata": {
            "needs_background": "light"
          }
        },
        {
          "output_type": "display_data",
          "data": {
            "text/plain": [
              "<Figure size 1080x720 with 2 Axes>"
            ],
            "image/png": "[encoded data removed]"
          },
          "metadata": {
            "needs_background": "light"
          }
        },
        {
          "output_type": "display_data",
          "data": {
            "text/plain": [
              "<Figure size 1080x720 with 2 Axes>"
            ],
            "image/png": "[encoded data removed]"
          },
          "metadata": {
            "needs_background": "light"
          }
        },
        {
          "output_type": "display_data",
          "data": {
            "text/plain": [
              "<Figure size 1080x720 with 2 Axes>"
            ],
            "image/png": "[encoded data removed]"
          },
          "metadata": {
            "needs_background": "light"
          }
        }
      ],
      "source": [
        "\n",
        "#fits model using datamodule provided\n",
        "trainer.fit(model, dm)"
      ]
    },
    {
      "cell_type": "code",
      "execution_count": 69,
      "metadata": {
        "id": "pcdTp-Gzm0qv",
        "colab": {
          "base_uri": "https://localhost:8080/",
          "height": 1000,
          "referenced_widgets": [
            "3e8547546ab24aa89e97344ddf7c1661",
            "1dfb8fde3c1f48b195c10b85a7cb8443",
            "6f06e996feb943aea95de246877bd5bb",
            "d2439e03505e4aba81c96844124ff196",
            "c00a76c9a9c745528ed1bda2fbfe5696",
            "2c8f8ad23fa448c0ba05e953c9b8c2da",
            "81f9a3736b2942e8ab04a5473645f0de",
            "4d0e80d9547e48b5b39f557065c36f84",
            "66937f20b38d4714a3b9c3ff0beebb7f",
            "b7a9afddb78347d1a8ae91d631fd2155",
            "395a5a98ef454678bd40febece8ee505",
            "9093ef4e733c4795930cd9e813e9ece4",
            "b025d40755bc498fa97a46964480fa50",
            "d25e39cd542845c797ac713ca8ed22b8",
            "922daaae2a474782aa44e659959e8681",
            "ad92575f2fd34377890ad11065cb52e3",
            "76cb8376b28846eaa4bd1a689b11d012",
            "90118adbe98841c59923e85aa43a24ca",
            "f526970ad4154c6da7e03708ec566aa6"
          ]
        },
        "outputId": "b04d944e-3d0b-44ab-9d12-e4a1702ab534"
      },
      "outputs": [
        {
          "output_type": "stream",
          "name": "stderr",
          "text": [
            "/usr/local/lib/python3.9/dist-packages/pytorch_lightning/trainer/connectors/checkpoint_connector.py:148: UserWarning: `.test(ckpt_path=None)` was called without a model. The best model of the previous `fit` call will be used. You can pass `.test(ckpt_path='best')` to use the best model or `.test(ckpt_path='last')` to use the last model. If you pass a value, this warning will be silenced.\n",
            "  rank_zero_warn(\n",
            "/usr/local/lib/python3.9/dist-packages/torch/utils/data/dataloader.py:554: UserWarning: This DataLoader will create 4 worker processes in total. Our suggested max number of worker in current system is 2, which is smaller than what this DataLoader is going to create. Please be aware that excessive worker creation might get DataLoader running slow or even freeze, lower the worker number to avoid potential slowness/freeze if necessary.\n",
            "  warnings.warn(_create_warning_msg(\n",
            "INFO:pytorch_lightning.utilities.rank_zero:Restoring states from the checkpoint path at ./lightning_logs/z8582b42/checkpoints/epoch=5-step=666.ckpt\n",
            "INFO:pytorch_lightning.accelerators.cuda:LOCAL_RANK: 0 - CUDA_VISIBLE_DEVICES: [0]\n",
            "INFO:pytorch_lightning.utilities.rank_zero:Loaded model weights from the checkpoint at ./lightning_logs/z8582b42/checkpoints/epoch=5-step=666.ckpt\n"
          ]
        },
        {
          "output_type": "stream",
          "name": "stdout",
          "text": [
            "Num train:3526 Num val:755 Num test:757\n",
            "total num: 5038  total sum: 5038\n"
          ]
        },
        {
          "output_type": "display_data",
          "data": {
            "text/plain": [
              "Testing: 0it [00:00, ?it/s]"
            ],
            "application/vnd.jupyter.widget-view+json": {
              "version_major": 2,
              "version_minor": 0,
              "model_id": "3e8547546ab24aa89e97344ddf7c1661"
            }
          },
          "metadata": {}
        },
        {
          "output_type": "stream",
          "name": "stdout",
          "text": [
            "────────────────────────────────────────────────────────────────────────────────────────────────────────────────────────\n",
            "       Test metric             DataLoader 0\n",
            "────────────────────────────────────────────────────────────────────────────────────────────────────────────────────────\n",
            "        test_acc            0.8005284070968628\n",
            "        test_jacc           0.5436128973960876\n",
            "        test_loss           0.5854918360710144\n",
            "     test_precision         0.6376307010650635\n",
            "       test_recall          0.6037177443504333\n",
            "────────────────────────────────────────────────────────────────────────────────────────────────────────────────────────\n"
          ]
        },
        {
          "output_type": "display_data",
          "data": {
            "text/plain": [
              "<IPython.core.display.HTML object>"
            ],
            "text/html": [
              "Waiting for W&B process to finish... <strong style=\"color:green\">(success).</strong>"
            ]
          },
          "metadata": {}
        },
        {
          "output_type": "display_data",
          "data": {
            "text/plain": [
              "VBox(children=(Label(value='45.473 MB of 45.473 MB uploaded (20.276 MB deduped)\\r'), FloatProgress(value=1.0, …"
            ],
            "application/vnd.jupyter.widget-view+json": {
              "version_major": 2,
              "version_minor": 0,
              "model_id": "9093ef4e733c4795930cd9e813e9ece4"
            }
          },
          "metadata": {}
        },
        {
          "output_type": "display_data",
          "data": {
            "text/plain": [
              "<IPython.core.display.HTML object>"
            ],
            "text/html": [
              "<style>\n",
              "    table.wandb td:nth-child(1) { padding: 0 10px; text-align: left ; width: auto;} td:nth-child(2) {text-align: left ; width: 100%}\n",
              "    .wandb-row { display: flex; flex-direction: row; flex-wrap: wrap; justify-content: flex-start; width: 100% }\n",
              "    .wandb-col { display: flex; flex-direction: column; flex-basis: 100%; flex: 1; padding: 10px; }\n",
              "    </style>\n",
              "<div class=\"wandb-row\"><div class=\"wandb-col\"><h3>Run history:</h3><br/><table class=\"wandb\"><tr><td>epoch</td><td>▁▁▁▁▂▂▂▂▃▃▃▃▃▃▃▃▄▄▄▄▄▅▅▅▅▆▆▆▆▆▆▆▆▇▇▇▇█</td></tr><tr><td>test_acc</td><td>▁</td></tr><tr><td>test_jacc</td><td>▁</td></tr><tr><td>test_loss</td><td>▁</td></tr><tr><td>test_precision</td><td>▁</td></tr><tr><td>test_recall</td><td>▁</td></tr><tr><td>train_acc_epoch</td><td>▁▄▆▆▇▇███</td></tr><tr><td>train_acc_step</td><td>▁▄▅▅▆▇▇▇▇▇▆███▇████</td></tr><tr><td>train_jacc_epoch</td><td>▁▄▆▆▇▇███</td></tr><tr><td>train_jacc_step</td><td>▁▂▄▄▅▆▄▆▆▆▆▆█▃▆▇▆▅▆</td></tr><tr><td>train_loss</td><td>█▆▅▃▃▅▄▃▃▃▃▃▂▂▂▂▁▂▂▃▂▂▂▂▁▂▂▁▁▁▁▁▁▂▂▁▁▂▁▁</td></tr><tr><td>train_loss_epoch</td><td>█▄▃▃▂▂▁▁▁</td></tr><tr><td>train_loss_step</td><td>█▅▃▃▃▃▃▄▂▂▂▁▁▂▂▁▂▂▁</td></tr><tr><td>train_precision_epoch</td><td>▁▅▆▇▇████</td></tr><tr><td>train_precision_step</td><td>▁▁▃▄▆▆▂▆▇▆▆▅█▁▇▆▅▅▅</td></tr><tr><td>train_recall_epoch</td><td>▁▄▆▇▇████</td></tr><tr><td>train_recall_step</td><td>▁▂▃▅▅▆▄▆▆▇▆▆█▂▆▇▆▅▆</td></tr><tr><td>trainer/global_step</td><td>▁▁▁▁▂▂▂▂▂▃▃▃▃▄▄▄▄▄▅▅▅▅▅▆▆▆▆▆▆▇▇▇▇▇████</td></tr><tr><td>val_acc</td><td>▁▅▆▇▇█▇██</td></tr><tr><td>val_jacc</td><td>▁▃▇███▇█▇</td></tr><tr><td>val_loss</td><td>█▅▃▂▂▁▂▁▂</td></tr><tr><td>val_precision</td><td>▁▂▇▆█▇▇▆▆</td></tr><tr><td>val_recall</td><td>▁▂▆▇██▇█▅</td></tr></table><br/></div><div class=\"wandb-col\"><h3>Run summary:</h3><br/><table class=\"wandb\"><tr><td>epoch</td><td>9</td></tr><tr><td>test_acc</td><td>0.80053</td></tr><tr><td>test_jacc</td><td>0.54361</td></tr><tr><td>test_loss</td><td>0.58549</td></tr><tr><td>test_precision</td><td>0.63763</td></tr><tr><td>test_recall</td><td>0.60372</td></tr><tr><td>train_acc_epoch</td><td>0.94952</td></tr><tr><td>train_acc_step</td><td>0.96875</td></tr><tr><td>train_jacc_epoch</td><td>0.74827</td></tr><tr><td>train_jacc_step</td><td>0.75463</td></tr><tr><td>train_loss</td><td>0.05829</td></tr><tr><td>train_loss_epoch</td><td>0.21871</td></tr><tr><td>train_loss_step</td><td>0.24144</td></tr><tr><td>train_precision_epoch</td><td>0.77817</td></tr><tr><td>train_precision_step</td><td>0.76852</td></tr><tr><td>train_recall_epoch</td><td>0.7684</td></tr><tr><td>train_recall_step</td><td>0.76389</td></tr><tr><td>trainer/global_step</td><td>999</td></tr><tr><td>val_acc</td><td>0.78543</td></tr><tr><td>val_jacc</td><td>0.50607</td></tr><tr><td>val_loss</td><td>0.67337</td></tr><tr><td>val_precision</td><td>0.61011</td></tr><tr><td>val_recall</td><td>0.5713</td></tr></table><br/></div></div>"
            ]
          },
          "metadata": {}
        },
        {
          "output_type": "display_data",
          "data": {
            "text/plain": [
              "<IPython.core.display.HTML object>"
            ],
            "text/html": [
              " View run <strong style=\"color:#cdcd00\">brisk-shape-29</strong> at: <a href='https://wandb.ai/grace_ebc/test_svi/runs/z8582b42' target=\"_blank\">https://wandb.ai/grace_ebc/test_svi/runs/z8582b42</a><br/>Synced 5 W&B file(s), 340 media file(s), 330 artifact file(s) and 0 other file(s)"
            ]
          },
          "metadata": {}
        },
        {
          "output_type": "display_data",
          "data": {
            "text/plain": [
              "<IPython.core.display.HTML object>"
            ],
            "text/html": [
              "Find logs at: <code>./wandb/run-20230316_163756-z8582b42/logs</code>"
            ]
          },
          "metadata": {}
        }
      ],
      "source": [
        "#test trained model on test dataloader \n",
        "trainer.test(dataloaders = dm.test_dataloader())\n",
        "wandb.finish()"
      ]
    },
    {
      "cell_type": "code",
      "execution_count": null,
      "metadata": {
        "id": "ijpxLUSgaZ2S"
      },
      "outputs": [],
      "source": [
        "# if model_out_path is not None:\n",
        "#   torch.save(model.state_dict(), model_out_path)"
      ]
    },
    {
      "cell_type": "code",
      "source": [
        "cdf = pd.read_csv('raw_nums.csv')\n",
        "cdf.set_index('Unnamed: 0', inplace=True)\n",
        "\n",
        "# norm =  np.sum(cdf, axis=1)\n",
        "# cdf = cdf/norm\n",
        "\n",
        "\n",
        "\n",
        "# sn.heatmap(cdf, annot=True)\n",
        "# plt.figure(figsize = (25,17))\n",
        "\n"
      ],
      "metadata": {
        "id": "WHOTf5SOnOKJ"
      },
      "execution_count": 28,
      "outputs": []
    },
    {
      "cell_type": "code",
      "source": [
        "\n",
        "cdf"
      ],
      "metadata": {
        "colab": {
          "base_uri": "https://localhost:8080/",
          "height": 363
        },
        "id": "vKYdmv6HPbRF",
        "outputId": "35f1c2ec-b208-4d82-94a3-601e493921da"
      },
      "execution_count": 38,
      "outputs": [
        {
          "output_type": "execute_result",
          "data": {
            "text/plain": [
              "                 wimpey no fines  reema  orlit  edlo  airey  weir  molems  \\\n",
              "Unnamed: 0                                                                  \n",
              "wimpey no fines              292     19      1     1      1     4       3   \n",
              "reema                         39     80      0     0      0     2       1   \n",
              "orlit                         22      2     44     0      0     2       0   \n",
              "edlo                           1      0      0    14      0     0       0   \n",
              "airey                          4      0      0     0     17     0       0   \n",
              "weir                          16      1      2     0      0    24       0   \n",
              "molems                         2      0      0     0      0     0      39   \n",
              "wates                         14      9      0     0      0     1       0   \n",
              "bisf                           4      6      0     0      0     0       0   \n",
              "\n",
              "                 wates  bisf  \n",
              "Unnamed: 0                    \n",
              "wimpey no fines      0     3  \n",
              "reema                0     3  \n",
              "orlit                0     0  \n",
              "edlo                 0     0  \n",
              "airey                0     0  \n",
              "weir                 0     1  \n",
              "molems               0     0  \n",
              "wates                9     0  \n",
              "bisf                 0    72  "
            ],
            "text/html": [
              "\n",
              "  <div id=\"df-2abf7127-c712-450f-9b9c-f820a2b9c03e\">\n",
              "    <div class=\"colab-df-container\">\n",
              "      <div>\n",
              "<style scoped>\n",
              "    .dataframe tbody tr th:only-of-type {\n",
              "        vertical-align: middle;\n",
              "    }\n",
              "\n",
              "    .dataframe tbody tr th {\n",
              "        vertical-align: top;\n",
              "    }\n",
              "\n",
              "    .dataframe thead th {\n",
              "        text-align: right;\n",
              "    }\n",
              "</style>\n",
              "<table border=\"1\" class=\"dataframe\">\n",
              "  <thead>\n",
              "    <tr style=\"text-align: right;\">\n",
              "      <th></th>\n",
              "      <th>wimpey no fines</th>\n",
              "      <th>reema</th>\n",
              "      <th>orlit</th>\n",
              "      <th>edlo</th>\n",
              "      <th>airey</th>\n",
              "      <th>weir</th>\n",
              "      <th>molems</th>\n",
              "      <th>wates</th>\n",
              "      <th>bisf</th>\n",
              "    </tr>\n",
              "    <tr>\n",
              "      <th>Unnamed: 0</th>\n",
              "      <th></th>\n",
              "      <th></th>\n",
              "      <th></th>\n",
              "      <th></th>\n",
              "      <th></th>\n",
              "      <th></th>\n",
              "      <th></th>\n",
              "      <th></th>\n",
              "      <th></th>\n",
              "    </tr>\n",
              "  </thead>\n",
              "  <tbody>\n",
              "    <tr>\n",
              "      <th>wimpey no fines</th>\n",
              "      <td>292</td>\n",
              "      <td>19</td>\n",
              "      <td>1</td>\n",
              "      <td>1</td>\n",
              "      <td>1</td>\n",
              "      <td>4</td>\n",
              "      <td>3</td>\n",
              "      <td>0</td>\n",
              "      <td>3</td>\n",
              "    </tr>\n",
              "    <tr>\n",
              "      <th>reema</th>\n",
              "      <td>39</td>\n",
              "      <td>80</td>\n",
              "      <td>0</td>\n",
              "      <td>0</td>\n",
              "      <td>0</td>\n",
              "      <td>2</td>\n",
              "      <td>1</td>\n",
              "      <td>0</td>\n",
              "      <td>3</td>\n",
              "    </tr>\n",
              "    <tr>\n",
              "      <th>orlit</th>\n",
              "      <td>22</td>\n",
              "      <td>2</td>\n",
              "      <td>44</td>\n",
              "      <td>0</td>\n",
              "      <td>0</td>\n",
              "      <td>2</td>\n",
              "      <td>0</td>\n",
              "      <td>0</td>\n",
              "      <td>0</td>\n",
              "    </tr>\n",
              "    <tr>\n",
              "      <th>edlo</th>\n",
              "      <td>1</td>\n",
              "      <td>0</td>\n",
              "      <td>0</td>\n",
              "      <td>14</td>\n",
              "      <td>0</td>\n",
              "      <td>0</td>\n",
              "      <td>0</td>\n",
              "      <td>0</td>\n",
              "      <td>0</td>\n",
              "    </tr>\n",
              "    <tr>\n",
              "      <th>airey</th>\n",
              "      <td>4</td>\n",
              "      <td>0</td>\n",
              "      <td>0</td>\n",
              "      <td>0</td>\n",
              "      <td>17</td>\n",
              "      <td>0</td>\n",
              "      <td>0</td>\n",
              "      <td>0</td>\n",
              "      <td>0</td>\n",
              "    </tr>\n",
              "    <tr>\n",
              "      <th>weir</th>\n",
              "      <td>16</td>\n",
              "      <td>1</td>\n",
              "      <td>2</td>\n",
              "      <td>0</td>\n",
              "      <td>0</td>\n",
              "      <td>24</td>\n",
              "      <td>0</td>\n",
              "      <td>0</td>\n",
              "      <td>1</td>\n",
              "    </tr>\n",
              "    <tr>\n",
              "      <th>molems</th>\n",
              "      <td>2</td>\n",
              "      <td>0</td>\n",
              "      <td>0</td>\n",
              "      <td>0</td>\n",
              "      <td>0</td>\n",
              "      <td>0</td>\n",
              "      <td>39</td>\n",
              "      <td>0</td>\n",
              "      <td>0</td>\n",
              "    </tr>\n",
              "    <tr>\n",
              "      <th>wates</th>\n",
              "      <td>14</td>\n",
              "      <td>9</td>\n",
              "      <td>0</td>\n",
              "      <td>0</td>\n",
              "      <td>0</td>\n",
              "      <td>1</td>\n",
              "      <td>0</td>\n",
              "      <td>9</td>\n",
              "      <td>0</td>\n",
              "    </tr>\n",
              "    <tr>\n",
              "      <th>bisf</th>\n",
              "      <td>4</td>\n",
              "      <td>6</td>\n",
              "      <td>0</td>\n",
              "      <td>0</td>\n",
              "      <td>0</td>\n",
              "      <td>0</td>\n",
              "      <td>0</td>\n",
              "      <td>0</td>\n",
              "      <td>72</td>\n",
              "    </tr>\n",
              "  </tbody>\n",
              "</table>\n",
              "</div>\n",
              "      <button class=\"colab-df-convert\" onclick=\"convertToInteractive('df-2abf7127-c712-450f-9b9c-f820a2b9c03e')\"\n",
              "              title=\"Convert this dataframe to an interactive table.\"\n",
              "              style=\"display:none;\">\n",
              "        \n",
              "  <svg xmlns=\"http://www.w3.org/2000/svg\" height=\"24px\"viewBox=\"0 0 24 24\"\n",
              "       width=\"24px\">\n",
              "    <path d=\"M0 0h24v24H0V0z\" fill=\"none\"/>\n",
              "    <path d=\"M18.56 5.44l.94 2.06.94-2.06 2.06-.94-2.06-.94-.94-2.06-.94 2.06-2.06.94zm-11 1L8.5 8.5l.94-2.06 2.06-.94-2.06-.94L8.5 2.5l-.94 2.06-2.06.94zm10 10l.94 2.06.94-2.06 2.06-.94-2.06-.94-.94-2.06-.94 2.06-2.06.94z\"/><path d=\"M17.41 7.96l-1.37-1.37c-.4-.4-.92-.59-1.43-.59-.52 0-1.04.2-1.43.59L10.3 9.45l-7.72 7.72c-.78.78-.78 2.05 0 2.83L4 21.41c.39.39.9.59 1.41.59.51 0 1.02-.2 1.41-.59l7.78-7.78 2.81-2.81c.8-.78.8-2.07 0-2.86zM5.41 20L4 18.59l7.72-7.72 1.47 1.35L5.41 20z\"/>\n",
              "  </svg>\n",
              "      </button>\n",
              "      \n",
              "  <style>\n",
              "    .colab-df-container {\n",
              "      display:flex;\n",
              "      flex-wrap:wrap;\n",
              "      gap: 12px;\n",
              "    }\n",
              "\n",
              "    .colab-df-convert {\n",
              "      background-color: #E8F0FE;\n",
              "      border: none;\n",
              "      border-radius: 50%;\n",
              "      cursor: pointer;\n",
              "      display: none;\n",
              "      fill: #1967D2;\n",
              "      height: 32px;\n",
              "      padding: 0 0 0 0;\n",
              "      width: 32px;\n",
              "    }\n",
              "\n",
              "    .colab-df-convert:hover {\n",
              "      background-color: #E2EBFA;\n",
              "      box-shadow: 0px 1px 2px rgba(60, 64, 67, 0.3), 0px 1px 3px 1px rgba(60, 64, 67, 0.15);\n",
              "      fill: #174EA6;\n",
              "    }\n",
              "\n",
              "    [theme=dark] .colab-df-convert {\n",
              "      background-color: #3B4455;\n",
              "      fill: #D2E3FC;\n",
              "    }\n",
              "\n",
              "    [theme=dark] .colab-df-convert:hover {\n",
              "      background-color: #434B5C;\n",
              "      box-shadow: 0px 1px 3px 1px rgba(0, 0, 0, 0.15);\n",
              "      filter: drop-shadow(0px 1px 2px rgba(0, 0, 0, 0.3));\n",
              "      fill: #FFFFFF;\n",
              "    }\n",
              "  </style>\n",
              "\n",
              "      <script>\n",
              "        const buttonEl =\n",
              "          document.querySelector('#df-2abf7127-c712-450f-9b9c-f820a2b9c03e button.colab-df-convert');\n",
              "        buttonEl.style.display =\n",
              "          google.colab.kernel.accessAllowed ? 'block' : 'none';\n",
              "\n",
              "        async function convertToInteractive(key) {\n",
              "          const element = document.querySelector('#df-2abf7127-c712-450f-9b9c-f820a2b9c03e');\n",
              "          const dataTable =\n",
              "            await google.colab.kernel.invokeFunction('convertToInteractive',\n",
              "                                                     [key], {});\n",
              "          if (!dataTable) return;\n",
              "\n",
              "          const docLinkHtml = 'Like what you see? Visit the ' +\n",
              "            '<a target=\"_blank\" href=https://colab.research.google.com/notebooks/data_table.ipynb>data table notebook</a>'\n",
              "            + ' to learn more about interactive tables.';\n",
              "          element.innerHTML = '';\n",
              "          dataTable['output_type'] = 'display_data';\n",
              "          await google.colab.output.renderOutput(dataTable, element);\n",
              "          const docLink = document.createElement('div');\n",
              "          docLink.innerHTML = docLinkHtml;\n",
              "          element.appendChild(docLink);\n",
              "        }\n",
              "      </script>\n",
              "    </div>\n",
              "  </div>\n",
              "  "
            ]
          },
          "metadata": {},
          "execution_count": 38
        }
      ]
    },
    {
      "cell_type": "code",
      "source": [
        "\n",
        "cdf\n",
        "292+ 80 +44+14+17+24+39+9+72"
      ],
      "metadata": {
        "colab": {
          "base_uri": "https://localhost:8080/"
        },
        "id": "4UG-oUhpPIOd",
        "outputId": "8cf73f72-29da-4e6f-948d-44a72a79dc8f"
      },
      "execution_count": 34,
      "outputs": [
        {
          "output_type": "execute_result",
          "data": {
            "text/plain": [
              "591"
            ]
          },
          "metadata": {},
          "execution_count": 34
        }
      ]
    },
    {
      "cell_type": "code",
      "source": [
        "\n",
        "precision = correctly pred pos / all pred pos \n",
        "micro: true pos and false pos then calc precision \n",
        "macro: calc precision per class and average them "
      ],
      "metadata": {
        "id": "cZpLgXp7Ph5g"
      },
      "execution_count": null,
      "outputs": []
    },
    {
      "cell_type": "code",
      "source": [
        "\n",
        "true_positives"
      ],
      "metadata": {
        "colab": {
          "base_uri": "https://localhost:8080/"
        },
        "id": "ybtVmfz8Qw71",
        "outputId": "2f476994-5a2e-44d6-fb71-0656830b6032"
      },
      "execution_count": 45,
      "outputs": [
        {
          "output_type": "execute_result",
          "data": {
            "text/plain": [
              "array([292,  80,  44,  14,  17,  24,  39,   9,  72])"
            ]
          },
          "metadata": {},
          "execution_count": 45
        }
      ]
    },
    {
      "cell_type": "code",
      "source": [
        "\n"
      ],
      "metadata": {
        "id": "XnCIfhwUQyIT"
      },
      "execution_count": null,
      "outputs": []
    },
    {
      "cell_type": "code",
      "source": [
        "\n",
        "np.sum(cdf, axis=0)"
      ],
      "metadata": {
        "colab": {
          "base_uri": "https://localhost:8080/"
        },
        "id": "sl4UwW_2QzNW",
        "outputId": "e9550304-fd25-4c0d-f7bc-31d43aeea949"
      },
      "execution_count": 46,
      "outputs": [
        {
          "output_type": "execute_result",
          "data": {
            "text/plain": [
              "wimpey no fines    394\n",
              "reema              117\n",
              "orlit               47\n",
              "edlo                15\n",
              "airey               18\n",
              "weir                33\n",
              "molems              43\n",
              "wates                9\n",
              "bisf                79\n",
              "dtype: int64"
            ]
          },
          "metadata": {},
          "execution_count": 46
        }
      ]
    },
    {
      "cell_type": "code",
      "source": [
        "\n",
        "false_positives"
      ],
      "metadata": {
        "colab": {
          "base_uri": "https://localhost:8080/"
        },
        "id": "uHPLCumEQ1qS",
        "outputId": "b715b0a3-8e07-4f6b-b779-c815de24332d"
      },
      "execution_count": 47,
      "outputs": [
        {
          "output_type": "execute_result",
          "data": {
            "text/plain": [
              "wimpey no fines    102\n",
              "reema               37\n",
              "orlit                3\n",
              "edlo                 1\n",
              "airey                1\n",
              "weir                 9\n",
              "molems               4\n",
              "wates                0\n",
              "bisf                 7\n",
              "dtype: int64"
            ]
          },
          "metadata": {},
          "execution_count": 47
        }
      ]
    },
    {
      "cell_type": "code",
      "source": [
        "\n",
        "import numpy as np\n",
        "\n",
        "\n",
        "\n",
        "# calculate true positives and false positives for each class\n",
        "true_positives = np.diag(cdf)\n",
        "false_positives = np.sum(cdf, axis=0) - true_positives\n",
        "\n",
        "# calculate micro-precision\n",
        "micro_precision = np.sum(true_positives) / (np.sum(true_positives) + np.sum(false_positives))\n",
        "\n",
        "print(\"Micro-Precision: {:.15f}\".format(micro_precision))\n",
        "\n",
        "\n",
        "# calculate total correct predictions\n",
        "total_correct = np.trace(cdf)\n",
        "\n",
        "# calculate total predictions\n",
        "total_predictions = np.sum(cdf).sum()\n",
        "\n",
        "# calculate accuracy\n",
        "accuracy = total_correct / total_predictions\n",
        "\n",
        "print(\"Accuracy: {:.15f}\".format(accuracy))\n",
        "\n",
        "\n",
        "true_positives = np.diag(cdf)\n",
        "false_negatives = np.sum(cdf, axis=1) - true_positives\n",
        "\n",
        "# calculate micro-recall\n",
        "micro_recall = np.sum(true_positives) / (np.sum(true_positives) + np.sum(false_negatives))\n",
        "\n",
        "print(\"Micro-Recall: {:.15f}\".format(micro_recall))\n"
      ],
      "metadata": {
        "colab": {
          "base_uri": "https://localhost:8080/"
        },
        "id": "QGL78y9EQG-T",
        "outputId": "14ec777b-0574-49dc-88e4-737746bc5925"
      },
      "execution_count": 58,
      "outputs": [
        {
          "output_type": "stream",
          "name": "stdout",
          "text": [
            "Micro-Precision: 0.782781456953642\n",
            "Accuracy: 0.782781456953642\n",
            "Micro-Recall: 0.782781456953642\n"
          ]
        }
      ]
    },
    {
      "cell_type": "code",
      "source": [
        "conf_matrix = cdf\n",
        "# calculate true positives and false positives for each class\n",
        "true_positives = np.diag(conf_matrix)\n",
        "false_positives = np.sum(conf_matrix, axis=0) - true_positives\n",
        "\n",
        "# calculate macro-precision and micro-precision\n",
        "macro_precision = np.mean(true_positives / (true_positives + false_positives))\n",
        "\n",
        "# calculate true positives and false negatives for each class\n",
        "true_positives = np.diag(conf_matrix)\n",
        "false_negatives = np.sum(conf_matrix, axis=1) - true_positives\n",
        "\n",
        "# calculate macro-recall and micro-recall\n",
        "macro_recall = np.mean(true_positives / (true_positives + false_negatives))\n",
        "\n",
        "# calculate accuracy\n",
        "total_correct = np.trace(conf_matrix)\n",
        "total_predictions = np.sum(conf_matrix).sum()\n",
        "accuracy = total_correct / total_predictions\n",
        "\n",
        "print(\"Macro-Precision: {:.4f}\".format(macro_precision))\n",
        "print(\"Macro-Recall: {:.4f}\".format(macro_recall))\n",
        "print(\"Accuracy: {:.4f}\".format(accuracy))"
      ],
      "metadata": {
        "colab": {
          "base_uri": "https://localhost:8080/"
        },
        "id": "szap9hEpQ46E",
        "outputId": "9785686b-626a-449b-8dca-0e93d4ea9233"
      },
      "execution_count": 60,
      "outputs": [
        {
          "output_type": "stream",
          "name": "stdout",
          "text": [
            "Macro-Precision: 0.8649\n",
            "Macro-Recall: 0.7289\n",
            "Accuracy: 0.7828\n"
          ]
        }
      ]
    },
    {
      "cell_type": "code",
      "source": [
        "tp = 292 \n",
        "fp= 39 + 22+1+4+16+2+14+4 \n",
        "\n",
        "tp / (tp+fp)\n"
      ],
      "metadata": {
        "colab": {
          "base_uri": "https://localhost:8080/"
        },
        "id": "Kt2Kf3a9Ps4N",
        "outputId": "c7ba26cf-f1d8-463a-b584-e8034e63c029"
      },
      "execution_count": 41,
      "outputs": [
        {
          "output_type": "execute_result",
          "data": {
            "text/plain": [
              "0.7411167512690355"
            ]
          },
          "metadata": {},
          "execution_count": 41
        }
      ]
    },
    {
      "cell_type": "code",
      "source": [
        "\n",
        "591 / 755"
      ],
      "metadata": {
        "colab": {
          "base_uri": "https://localhost:8080/"
        },
        "id": "RjQNY524PSZ2",
        "outputId": "8076a930-c6ef-435c-f01c-1fb36d048b7d"
      },
      "execution_count": 36,
      "outputs": [
        {
          "output_type": "execute_result",
          "data": {
            "text/plain": [
              "0.7827814569536424"
            ]
          },
          "metadata": {},
          "execution_count": 36
        }
      ]
    },
    {
      "cell_type": "code",
      "source": [
        "\n",
        "0.7828"
      ],
      "metadata": {
        "colab": {
          "base_uri": "https://localhost:8080/"
        },
        "id": "SPiZ2X6qPZeu",
        "outputId": "53bc690b-eb59-4de3-9261-90a274fac85d"
      },
      "execution_count": 37,
      "outputs": [
        {
          "output_type": "execute_result",
          "data": {
            "text/plain": [
              "0.7828"
            ]
          },
          "metadata": {},
          "execution_count": 37
        }
      ]
    },
    {
      "cell_type": "code",
      "source": [
        "\n",
        "cdf.sum(axis=1)"
      ],
      "metadata": {
        "colab": {
          "base_uri": "https://localhost:8080/"
        },
        "id": "cBctutYJPCVW",
        "outputId": "c7004c9d-e62a-4639-de6a-9f8a052c77a4"
      },
      "execution_count": 35,
      "outputs": [
        {
          "output_type": "execute_result",
          "data": {
            "text/plain": [
              "Unnamed: 0\n",
              "wimpey no fines    324\n",
              "reema              125\n",
              "orlit               70\n",
              "edlo                15\n",
              "airey               21\n",
              "weir                44\n",
              "molems              41\n",
              "wates               33\n",
              "bisf                82\n",
              "dtype: int64"
            ]
          },
          "metadata": {},
          "execution_count": 35
        }
      ]
    },
    {
      "cell_type": "code",
      "source": [
        "\n",
        "f, ax = plt.subplots(figsize = (15,10)) \n",
        "\n",
        "sn.heatmap(cdf, annot=True, ax=ax)\n",
        "\n"
      ],
      "metadata": {
        "id": "GooenJFvRUIl"
      },
      "execution_count": null,
      "outputs": []
    },
    {
      "cell_type": "code",
      "source": [],
      "metadata": {
        "id": "KyXcZwiWQp95"
      },
      "execution_count": null,
      "outputs": []
    },
    {
      "cell_type": "code",
      "source": [
        "\n",
        "\n",
        "sn.heatmap(cdf, annot=True)\n",
        "plt.figure(figsize = (25,17))\n",
        "\n"
      ],
      "metadata": {
        "id": "nB_wKf25uehE"
      },
      "execution_count": null,
      "outputs": []
    },
    {
      "cell_type": "code",
      "source": [
        "listodx = sum(all_labels, [])\n"
      ],
      "metadata": {
        "id": "KFvorOm5uY-f"
      },
      "execution_count": null,
      "outputs": []
    },
    {
      "cell_type": "code",
      "source": [
        "\n",
        "dl = dm.val_dataloader()"
      ],
      "metadata": {
        "id": "Q31cEXyMLS_P"
      },
      "execution_count": null,
      "outputs": []
    },
    {
      "cell_type": "code",
      "source": [],
      "metadata": {
        "id": "cOQcVngjLTtA"
      },
      "execution_count": null,
      "outputs": []
    },
    {
      "cell_type": "code",
      "source": [
        "\n",
        "dl = dm.test_dataloader()\n",
        "\n",
        "\n",
        "all_labels = []\n",
        "for x in dl:\n",
        "  images, labels = x\n",
        "  all_labels.append(labels.tolist())\n",
        "\n",
        "rdf = pd.DataFrame()\n",
        "rdf['labels'] =  sum(all_labels, [])\n",
        "rdf['name'] = [cl_dict[str(x)] for x in rdf['labels'] ]\n",
        "\n",
        "rdf.groupby('name').count()"
      ],
      "metadata": {
        "id": "vFAP3uvRnwb1"
      },
      "execution_count": null,
      "outputs": []
    },
    {
      "cell_type": "code",
      "source": [],
      "metadata": {
        "id": "dEk5oItQt0Ev"
      },
      "execution_count": null,
      "outputs": []
    },
    {
      "cell_type": "code",
      "source": [],
      "metadata": {
        "id": "nijwU_1utK7w"
      },
      "execution_count": null,
      "outputs": []
    },
    {
      "cell_type": "code",
      "source": [
        "\n",
        "\n",
        "dl = dm.val_dataloader()\n",
        "\n",
        "all_labels = []\n",
        "for x in dl:\n",
        "  images, labels = x\n",
        "  all_labels.append(labels.tolist())\n",
        "\n",
        "rdf = pd.DataFrame()\n",
        "rdf['labels'] =  sum(all_labels, [])\n",
        "rdf['name'] = [cl_dict[str(x)] for x in rdf['labels'] ]\n",
        "\n",
        "rdf.groupby('name').count()"
      ],
      "metadata": {
        "id": "INhtfMGhpDSN"
      },
      "execution_count": null,
      "outputs": []
    },
    {
      "cell_type": "code",
      "source": [
        "\n",
        "dl = dm.train_dataloader()\n",
        "\n",
        "all_labels = []\n",
        "for x in dl:\n",
        "  images, labels = x\n",
        "  all_labels.append(labels.tolist())\n",
        "\n",
        "rdf = pd.DataFrame()\n",
        "rdf['labels'] =  sum(all_labels, [])\n",
        "rdf['name'] = [cl_dict[str(x)] for x in rdf['labels'] ]\n",
        "\n",
        "rdf.groupby('name').count()"
      ],
      "metadata": {
        "id": "z9zWENE9ohIA"
      },
      "execution_count": null,
      "outputs": []
    },
    {
      "cell_type": "code",
      "source": [],
      "metadata": {
        "id": "9r9UN78GnoPj"
      },
      "execution_count": null,
      "outputs": []
    },
    {
      "cell_type": "code",
      "source": [
        "\n",
        "\n",
        "def extract_predictions(dm, model, output_location = None):\n",
        "    #Extract the Ground truth and Predictions \n",
        "    ground_truth = [] \n",
        "    list_output = []\n",
        "    predictions = []\n",
        "\n",
        "    test_dataloader = dm.test_dataloader()\n",
        "  \n",
        "\n",
        "    for batch in test_dataloader:\n",
        "      label = sample[1]\n",
        "      data = sample[0]\n",
        "      ground_truth.append(label)\n",
        "    print('Ground truth list created')\n",
        "\n",
        "    test_ids = dm.test_ids\n",
        "    print('Num of Test IDs is {}, Num of Ground Truth labels is {}'.format(len(test_ids), len(ground_truth)) )\n",
        "\n",
        "\n",
        "    model.eval()\n",
        "    for x in dm.test_dataloader():\n",
        "      output = model(x[0])\n",
        "      x = torch.argmax(output, dim=1)\n",
        "      x= torch.flatten(x)\n",
        "      list_output.append(x)\n",
        "\n",
        "    for x in list_output:\n",
        "      x= x.tolist()\n",
        "      # print(x)\n",
        "      for y in x:\n",
        "        predictions.append(y)\n",
        "    print('Prediction list created')\n",
        "\n",
        "    # #create df of predictions and save \n",
        "    df = pd.DataFrame( {'TestId': test_ids , 'GroundTruth' :ground_truth, 'Preds' : predictions   })\n",
        "    # if output_location is not None: \n",
        "    #   df.to_csv(output_location )\n",
        "    return df "
      ],
      "metadata": {
        "id": "vOiD4jyLl-Q2"
      },
      "execution_count": null,
      "outputs": []
    },
    {
      "cell_type": "code",
      "source": [
        "\n",
        "test_dataset= dm.test_dataloader\n",
        "\n",
        "for sample in test_dataset:\n",
        "      label = sample[1]\n",
        "      data = sample[0]"
      ],
      "metadata": {
        "id": "2QOY75rMmJ6Q"
      },
      "execution_count": null,
      "outputs": []
    },
    {
      "cell_type": "code",
      "source": [
        "\n",
        "test_dataset"
      ],
      "metadata": {
        "id": "1Tsh6DhOmPL4"
      },
      "execution_count": null,
      "outputs": []
    },
    {
      "cell_type": "code",
      "execution_count": null,
      "metadata": {
        "id": "bcWsASKrngWM"
      },
      "outputs": [],
      "source": [
        "#creates predictions and if output_location not None, saves them \n",
        "extract_predictions(dm, model, base_dir)"
      ]
    },
    {
      "cell_type": "code",
      "execution_count": null,
      "metadata": {
        "id": "E7llMSgNs79K"
      },
      "outputs": [],
      "source": [
        "val_dataloader"
      ]
    },
    {
      "cell_type": "code",
      "source": [
        "\n"
      ],
      "metadata": {
        "id": "I3nDOrM9a8qZ"
      },
      "execution_count": null,
      "outputs": []
    },
    {
      "cell_type": "code",
      "source": [
        "scd = StreetViewData(\"/content/gdrive/MyDrive/Non_Trads_FOI/Facades_SVI\")"
      ],
      "metadata": {
        "id": "wwTs6wzxbOD6"
      },
      "execution_count": null,
      "outputs": []
    },
    {
      "cell_type": "code",
      "source": [],
      "metadata": {
        "id": "hPtQYfLZb0DY"
      },
      "execution_count": null,
      "outputs": []
    },
    {
      "cell_type": "code",
      "source": [
        "idx =100\n",
        "idx=200\n",
        "idx=2200\n",
        "path  = scd.samples[idx][0]\n",
        "label = scd.samples[idx][1]\n",
        "\n",
        "sample = Image.open(path).convert(\"RGB\")\n",
        "sample.show()\n",
        "\n",
        "width , height = sample.size\n",
        "\n",
        "left = 170\n",
        "top = 250\n",
        "right = 430\n",
        "bottom = 10\n",
        "print(top, bottom )\n",
        "im1 = sample.crop((left, bottom, right, top))\n",
        "\n",
        "\n",
        "\n",
        "\n",
        "\n",
        "\n",
        "\n",
        "im1.show()"
      ],
      "metadata": {
        "id": "IWwGo8O5cEct"
      },
      "execution_count": null,
      "outputs": []
    },
    {
      "cell_type": "code",
      "source": [],
      "metadata": {
        "id": "rAvP692cchh3"
      },
      "execution_count": null,
      "outputs": []
    },
    {
      "cell_type": "code",
      "source": [],
      "metadata": {
        "id": "2XgjVKGhci1T"
      },
      "execution_count": null,
      "outputs": []
    },
    {
      "cell_type": "code",
      "source": [],
      "metadata": {
        "id": "aqX39i9fdMUq"
      },
      "execution_count": null,
      "outputs": []
    },
    {
      "cell_type": "code",
      "source": [
        "im1"
      ],
      "metadata": {
        "id": "etbcILgddwMH"
      },
      "execution_count": null,
      "outputs": []
    },
    {
      "cell_type": "code",
      "source": [
        "model(val_samples)"
      ],
      "metadata": {
        "id": "V15EphXsdxmk"
      },
      "execution_count": null,
      "outputs": []
    },
    {
      "cell_type": "code",
      "source": [
        "\n",
        "trainer.predict(model, val_dataloader) "
      ],
      "metadata": {
        "id": "lFzEP2QZlVk5"
      },
      "execution_count": null,
      "outputs": []
    },
    {
      "cell_type": "code",
      "source": [],
      "metadata": {
        "id": "MjQsK1QFk07G"
      },
      "execution_count": null,
      "outputs": []
    }
  ],
  "metadata": {
    "accelerator": "GPU",
    "colab": {
      "machine_shape": "hm",
      "provenance": [],
      "authorship_tag": "ABX9TyPSnm7bCi360q6WcnK9pOP9",
      "include_colab_link": true
    },
    "gpuClass": "standard",
    "kernelspec": {
      "display_name": "Python 3",
      "name": "python3"
    },
    "language_info": {
      "name": "python"
    },
    "widgets": {
      "application/vnd.jupyter.widget-state+json": {
        "85b2a9f061f64c949504487594324de7": {
          "model_module": "@jupyter-widgets/controls",
          "model_name": "HBoxModel",
          "model_module_version": "1.5.0",
          "state": {
            "_dom_classes": [],
            "_model_module": "@jupyter-widgets/controls",
            "_model_module_version": "1.5.0",
            "_model_name": "HBoxModel",
            "_view_count": null,
            "_view_module": "@jupyter-widgets/controls",
            "_view_module_version": "1.5.0",
            "_view_name": "HBoxView",
            "box_style": "",
            "children": [
              "IPY_MODEL_d734517153bd4a22a26b2b811e909a74",
              "IPY_MODEL_d9dc60f0c83840a187fafe481843a50e",
              "IPY_MODEL_7eacda2f9b64432da24a6578910a3284"
            ],
            "layout": "IPY_MODEL_9e4db11b22924aa18f226eae2cd382f2"
          }
        },
        "d734517153bd4a22a26b2b811e909a74": {
          "model_module": "@jupyter-widgets/controls",
          "model_name": "HTMLModel",
          "model_module_version": "1.5.0",
          "state": {
            "_dom_classes": [],
            "_model_module": "@jupyter-widgets/controls",
            "_model_module_version": "1.5.0",
            "_model_name": "HTMLModel",
            "_view_count": null,
            "_view_module": "@jupyter-widgets/controls",
            "_view_module_version": "1.5.0",
            "_view_name": "HTMLView",
            "description": "",
            "description_tooltip": null,
            "layout": "IPY_MODEL_26a07978e7bc49b5b2ccb2b5da2be6b7",
            "placeholder": "​",
            "style": "IPY_MODEL_d216e7e7821445bfa169ab16cc12330b",
            "value": "Sanity Checking DataLoader 0: 100%"
          }
        },
        "d9dc60f0c83840a187fafe481843a50e": {
          "model_module": "@jupyter-widgets/controls",
          "model_name": "FloatProgressModel",
          "model_module_version": "1.5.0",
          "state": {
            "_dom_classes": [],
            "_model_module": "@jupyter-widgets/controls",
            "_model_module_version": "1.5.0",
            "_model_name": "FloatProgressModel",
            "_view_count": null,
            "_view_module": "@jupyter-widgets/controls",
            "_view_module_version": "1.5.0",
            "_view_name": "ProgressView",
            "bar_style": "",
            "description": "",
            "description_tooltip": null,
            "layout": "IPY_MODEL_48af8abb9a4b4eb19ba24b9c8cfde8da",
            "max": 2,
            "min": 0,
            "orientation": "horizontal",
            "style": "IPY_MODEL_cac4b57f64254d51809fd0a00aae273e",
            "value": 2
          }
        },
        "7eacda2f9b64432da24a6578910a3284": {
          "model_module": "@jupyter-widgets/controls",
          "model_name": "HTMLModel",
          "model_module_version": "1.5.0",
          "state": {
            "_dom_classes": [],
            "_model_module": "@jupyter-widgets/controls",
            "_model_module_version": "1.5.0",
            "_model_name": "HTMLModel",
            "_view_count": null,
            "_view_module": "@jupyter-widgets/controls",
            "_view_module_version": "1.5.0",
            "_view_name": "HTMLView",
            "description": "",
            "description_tooltip": null,
            "layout": "IPY_MODEL_f57594d67caa4f57bf45bcc4fd5666e4",
            "placeholder": "​",
            "style": "IPY_MODEL_222fcf6f3cc944578d83fc3e449a9d74",
            "value": " 2/2 [00:00&lt;00:00,  3.60it/s]"
          }
        },
        "9e4db11b22924aa18f226eae2cd382f2": {
          "model_module": "@jupyter-widgets/base",
          "model_name": "LayoutModel",
          "model_module_version": "1.2.0",
          "state": {
            "_model_module": "@jupyter-widgets/base",
            "_model_module_version": "1.2.0",
            "_model_name": "LayoutModel",
            "_view_count": null,
            "_view_module": "@jupyter-widgets/base",
            "_view_module_version": "1.2.0",
            "_view_name": "LayoutView",
            "align_content": null,
            "align_items": null,
            "align_self": null,
            "border": null,
            "bottom": null,
            "display": "inline-flex",
            "flex": null,
            "flex_flow": "row wrap",
            "grid_area": null,
            "grid_auto_columns": null,
            "grid_auto_flow": null,
            "grid_auto_rows": null,
            "grid_column": null,
            "grid_gap": null,
            "grid_row": null,
            "grid_template_areas": null,
            "grid_template_columns": null,
            "grid_template_rows": null,
            "height": null,
            "justify_content": null,
            "justify_items": null,
            "left": null,
            "margin": null,
            "max_height": null,
            "max_width": null,
            "min_height": null,
            "min_width": null,
            "object_fit": null,
            "object_position": null,
            "order": null,
            "overflow": null,
            "overflow_x": null,
            "overflow_y": null,
            "padding": null,
            "right": null,
            "top": null,
            "visibility": "hidden",
            "width": "100%"
          }
        },
        "26a07978e7bc49b5b2ccb2b5da2be6b7": {
          "model_module": "@jupyter-widgets/base",
          "model_name": "LayoutModel",
          "model_module_version": "1.2.0",
          "state": {
            "_model_module": "@jupyter-widgets/base",
            "_model_module_version": "1.2.0",
            "_model_name": "LayoutModel",
            "_view_count": null,
            "_view_module": "@jupyter-widgets/base",
            "_view_module_version": "1.2.0",
            "_view_name": "LayoutView",
            "align_content": null,
            "align_items": null,
            "align_self": null,
            "border": null,
            "bottom": null,
            "display": null,
            "flex": null,
            "flex_flow": null,
            "grid_area": null,
            "grid_auto_columns": null,
            "grid_auto_flow": null,
            "grid_auto_rows": null,
            "grid_column": null,
            "grid_gap": null,
            "grid_row": null,
            "grid_template_areas": null,
            "grid_template_columns": null,
            "grid_template_rows": null,
            "height": null,
            "justify_content": null,
            "justify_items": null,
            "left": null,
            "margin": null,
            "max_height": null,
            "max_width": null,
            "min_height": null,
            "min_width": null,
            "object_fit": null,
            "object_position": null,
            "order": null,
            "overflow": null,
            "overflow_x": null,
            "overflow_y": null,
            "padding": null,
            "right": null,
            "top": null,
            "visibility": null,
            "width": null
          }
        },
        "d216e7e7821445bfa169ab16cc12330b": {
          "model_module": "@jupyter-widgets/controls",
          "model_name": "DescriptionStyleModel",
          "model_module_version": "1.5.0",
          "state": {
            "_model_module": "@jupyter-widgets/controls",
            "_model_module_version": "1.5.0",
            "_model_name": "DescriptionStyleModel",
            "_view_count": null,
            "_view_module": "@jupyter-widgets/base",
            "_view_module_version": "1.2.0",
            "_view_name": "StyleView",
            "description_width": ""
          }
        },
        "48af8abb9a4b4eb19ba24b9c8cfde8da": {
          "model_module": "@jupyter-widgets/base",
          "model_name": "LayoutModel",
          "model_module_version": "1.2.0",
          "state": {
            "_model_module": "@jupyter-widgets/base",
            "_model_module_version": "1.2.0",
            "_model_name": "LayoutModel",
            "_view_count": null,
            "_view_module": "@jupyter-widgets/base",
            "_view_module_version": "1.2.0",
            "_view_name": "LayoutView",
            "align_content": null,
            "align_items": null,
            "align_self": null,
            "border": null,
            "bottom": null,
            "display": null,
            "flex": "2",
            "flex_flow": null,
            "grid_area": null,
            "grid_auto_columns": null,
            "grid_auto_flow": null,
            "grid_auto_rows": null,
            "grid_column": null,
            "grid_gap": null,
            "grid_row": null,
            "grid_template_areas": null,
            "grid_template_columns": null,
            "grid_template_rows": null,
            "height": null,
            "justify_content": null,
            "justify_items": null,
            "left": null,
            "margin": null,
            "max_height": null,
            "max_width": null,
            "min_height": null,
            "min_width": null,
            "object_fit": null,
            "object_position": null,
            "order": null,
            "overflow": null,
            "overflow_x": null,
            "overflow_y": null,
            "padding": null,
            "right": null,
            "top": null,
            "visibility": null,
            "width": null
          }
        },
        "cac4b57f64254d51809fd0a00aae273e": {
          "model_module": "@jupyter-widgets/controls",
          "model_name": "ProgressStyleModel",
          "model_module_version": "1.5.0",
          "state": {
            "_model_module": "@jupyter-widgets/controls",
            "_model_module_version": "1.5.0",
            "_model_name": "ProgressStyleModel",
            "_view_count": null,
            "_view_module": "@jupyter-widgets/base",
            "_view_module_version": "1.2.0",
            "_view_name": "StyleView",
            "bar_color": null,
            "description_width": ""
          }
        },
        "f57594d67caa4f57bf45bcc4fd5666e4": {
          "model_module": "@jupyter-widgets/base",
          "model_name": "LayoutModel",
          "model_module_version": "1.2.0",
          "state": {
            "_model_module": "@jupyter-widgets/base",
            "_model_module_version": "1.2.0",
            "_model_name": "LayoutModel",
            "_view_count": null,
            "_view_module": "@jupyter-widgets/base",
            "_view_module_version": "1.2.0",
            "_view_name": "LayoutView",
            "align_content": null,
            "align_items": null,
            "align_self": null,
            "border": null,
            "bottom": null,
            "display": null,
            "flex": null,
            "flex_flow": null,
            "grid_area": null,
            "grid_auto_columns": null,
            "grid_auto_flow": null,
            "grid_auto_rows": null,
            "grid_column": null,
            "grid_gap": null,
            "grid_row": null,
            "grid_template_areas": null,
            "grid_template_columns": null,
            "grid_template_rows": null,
            "height": null,
            "justify_content": null,
            "justify_items": null,
            "left": null,
            "margin": null,
            "max_height": null,
            "max_width": null,
            "min_height": null,
            "min_width": null,
            "object_fit": null,
            "object_position": null,
            "order": null,
            "overflow": null,
            "overflow_x": null,
            "overflow_y": null,
            "padding": null,
            "right": null,
            "top": null,
            "visibility": null,
            "width": null
          }
        },
        "222fcf6f3cc944578d83fc3e449a9d74": {
          "model_module": "@jupyter-widgets/controls",
          "model_name": "DescriptionStyleModel",
          "model_module_version": "1.5.0",
          "state": {
            "_model_module": "@jupyter-widgets/controls",
            "_model_module_version": "1.5.0",
            "_model_name": "DescriptionStyleModel",
            "_view_count": null,
            "_view_module": "@jupyter-widgets/base",
            "_view_module_version": "1.2.0",
            "_view_name": "StyleView",
            "description_width": ""
          }
        },
        "8fa8061b1f02450c9fd5407475df2165": {
          "model_module": "@jupyter-widgets/controls",
          "model_name": "HBoxModel",
          "model_module_version": "1.5.0",
          "state": {
            "_dom_classes": [],
            "_model_module": "@jupyter-widgets/controls",
            "_model_module_version": "1.5.0",
            "_model_name": "HBoxModel",
            "_view_count": null,
            "_view_module": "@jupyter-widgets/controls",
            "_view_module_version": "1.5.0",
            "_view_name": "HBoxView",
            "box_style": "",
            "children": [
              "IPY_MODEL_52e9505dfa474bc097661065c3d57193",
              "IPY_MODEL_dc6d503704424a89b5b053a9394c18d4",
              "IPY_MODEL_1713297c95334a51847c3f942f1ba200"
            ],
            "layout": "IPY_MODEL_1792d73ad9e24b3bbf48fd33190a6bc8"
          }
        },
        "52e9505dfa474bc097661065c3d57193": {
          "model_module": "@jupyter-widgets/controls",
          "model_name": "HTMLModel",
          "model_module_version": "1.5.0",
          "state": {
            "_dom_classes": [],
            "_model_module": "@jupyter-widgets/controls",
            "_model_module_version": "1.5.0",
            "_model_name": "HTMLModel",
            "_view_count": null,
            "_view_module": "@jupyter-widgets/controls",
            "_view_module_version": "1.5.0",
            "_view_name": "HTMLView",
            "description": "",
            "description_tooltip": null,
            "layout": "IPY_MODEL_9ee607dd27ff4516bce8f07830d048c4",
            "placeholder": "​",
            "style": "IPY_MODEL_0655baea393448e5b527e7672651c3fe",
            "value": "Epoch 8: 100%"
          }
        },
        "dc6d503704424a89b5b053a9394c18d4": {
          "model_module": "@jupyter-widgets/controls",
          "model_name": "FloatProgressModel",
          "model_module_version": "1.5.0",
          "state": {
            "_dom_classes": [],
            "_model_module": "@jupyter-widgets/controls",
            "_model_module_version": "1.5.0",
            "_model_name": "FloatProgressModel",
            "_view_count": null,
            "_view_module": "@jupyter-widgets/controls",
            "_view_module_version": "1.5.0",
            "_view_name": "ProgressView",
            "bar_style": "success",
            "description": "",
            "description_tooltip": null,
            "layout": "IPY_MODEL_9970a1f6001a405ca6ab9293f1b4a4c2",
            "max": 111,
            "min": 0,
            "orientation": "horizontal",
            "style": "IPY_MODEL_33958c72a3c04cbbb840a30046140477",
            "value": 111
          }
        },
        "1713297c95334a51847c3f942f1ba200": {
          "model_module": "@jupyter-widgets/controls",
          "model_name": "HTMLModel",
          "model_module_version": "1.5.0",
          "state": {
            "_dom_classes": [],
            "_model_module": "@jupyter-widgets/controls",
            "_model_module_version": "1.5.0",
            "_model_name": "HTMLModel",
            "_view_count": null,
            "_view_module": "@jupyter-widgets/controls",
            "_view_module_version": "1.5.0",
            "_view_name": "HTMLView",
            "description": "",
            "description_tooltip": null,
            "layout": "IPY_MODEL_29ec331f277d44b5a31f43eabe965609",
            "placeholder": "​",
            "style": "IPY_MODEL_da3449d4cc9c4ea3b8fe74d2f2b4eb28",
            "value": " 111/111 [00:33&lt;00:00,  3.30it/s, v_num=2b42, val_loss=0.673, val_acc=0.785, val_recall=0.571, val_precision=0.610, val_jacc=0.506]"
          }
        },
        "1792d73ad9e24b3bbf48fd33190a6bc8": {
          "model_module": "@jupyter-widgets/base",
          "model_name": "LayoutModel",
          "model_module_version": "1.2.0",
          "state": {
            "_model_module": "@jupyter-widgets/base",
            "_model_module_version": "1.2.0",
            "_model_name": "LayoutModel",
            "_view_count": null,
            "_view_module": "@jupyter-widgets/base",
            "_view_module_version": "1.2.0",
            "_view_name": "LayoutView",
            "align_content": null,
            "align_items": null,
            "align_self": null,
            "border": null,
            "bottom": null,
            "display": "inline-flex",
            "flex": null,
            "flex_flow": "row wrap",
            "grid_area": null,
            "grid_auto_columns": null,
            "grid_auto_flow": null,
            "grid_auto_rows": null,
            "grid_column": null,
            "grid_gap": null,
            "grid_row": null,
            "grid_template_areas": null,
            "grid_template_columns": null,
            "grid_template_rows": null,
            "height": null,
            "justify_content": null,
            "justify_items": null,
            "left": null,
            "margin": null,
            "max_height": null,
            "max_width": null,
            "min_height": null,
            "min_width": null,
            "object_fit": null,
            "object_position": null,
            "order": null,
            "overflow": null,
            "overflow_x": null,
            "overflow_y": null,
            "padding": null,
            "right": null,
            "top": null,
            "visibility": null,
            "width": "100%"
          }
        },
        "9ee607dd27ff4516bce8f07830d048c4": {
          "model_module": "@jupyter-widgets/base",
          "model_name": "LayoutModel",
          "model_module_version": "1.2.0",
          "state": {
            "_model_module": "@jupyter-widgets/base",
            "_model_module_version": "1.2.0",
            "_model_name": "LayoutModel",
            "_view_count": null,
            "_view_module": "@jupyter-widgets/base",
            "_view_module_version": "1.2.0",
            "_view_name": "LayoutView",
            "align_content": null,
            "align_items": null,
            "align_self": null,
            "border": null,
            "bottom": null,
            "display": null,
            "flex": null,
            "flex_flow": null,
            "grid_area": null,
            "grid_auto_columns": null,
            "grid_auto_flow": null,
            "grid_auto_rows": null,
            "grid_column": null,
            "grid_gap": null,
            "grid_row": null,
            "grid_template_areas": null,
            "grid_template_columns": null,
            "grid_template_rows": null,
            "height": null,
            "justify_content": null,
            "justify_items": null,
            "left": null,
            "margin": null,
            "max_height": null,
            "max_width": null,
            "min_height": null,
            "min_width": null,
            "object_fit": null,
            "object_position": null,
            "order": null,
            "overflow": null,
            "overflow_x": null,
            "overflow_y": null,
            "padding": null,
            "right": null,
            "top": null,
            "visibility": null,
            "width": null
          }
        },
        "0655baea393448e5b527e7672651c3fe": {
          "model_module": "@jupyter-widgets/controls",
          "model_name": "DescriptionStyleModel",
          "model_module_version": "1.5.0",
          "state": {
            "_model_module": "@jupyter-widgets/controls",
            "_model_module_version": "1.5.0",
            "_model_name": "DescriptionStyleModel",
            "_view_count": null,
            "_view_module": "@jupyter-widgets/base",
            "_view_module_version": "1.2.0",
            "_view_name": "StyleView",
            "description_width": ""
          }
        },
        "9970a1f6001a405ca6ab9293f1b4a4c2": {
          "model_module": "@jupyter-widgets/base",
          "model_name": "LayoutModel",
          "model_module_version": "1.2.0",
          "state": {
            "_model_module": "@jupyter-widgets/base",
            "_model_module_version": "1.2.0",
            "_model_name": "LayoutModel",
            "_view_count": null,
            "_view_module": "@jupyter-widgets/base",
            "_view_module_version": "1.2.0",
            "_view_name": "LayoutView",
            "align_content": null,
            "align_items": null,
            "align_self": null,
            "border": null,
            "bottom": null,
            "display": null,
            "flex": "2",
            "flex_flow": null,
            "grid_area": null,
            "grid_auto_columns": null,
            "grid_auto_flow": null,
            "grid_auto_rows": null,
            "grid_column": null,
            "grid_gap": null,
            "grid_row": null,
            "grid_template_areas": null,
            "grid_template_columns": null,
            "grid_template_rows": null,
            "height": null,
            "justify_content": null,
            "justify_items": null,
            "left": null,
            "margin": null,
            "max_height": null,
            "max_width": null,
            "min_height": null,
            "min_width": null,
            "object_fit": null,
            "object_position": null,
            "order": null,
            "overflow": null,
            "overflow_x": null,
            "overflow_y": null,
            "padding": null,
            "right": null,
            "top": null,
            "visibility": null,
            "width": null
          }
        },
        "33958c72a3c04cbbb840a30046140477": {
          "model_module": "@jupyter-widgets/controls",
          "model_name": "ProgressStyleModel",
          "model_module_version": "1.5.0",
          "state": {
            "_model_module": "@jupyter-widgets/controls",
            "_model_module_version": "1.5.0",
            "_model_name": "ProgressStyleModel",
            "_view_count": null,
            "_view_module": "@jupyter-widgets/base",
            "_view_module_version": "1.2.0",
            "_view_name": "StyleView",
            "bar_color": null,
            "description_width": ""
          }
        },
        "29ec331f277d44b5a31f43eabe965609": {
          "model_module": "@jupyter-widgets/base",
          "model_name": "LayoutModel",
          "model_module_version": "1.2.0",
          "state": {
            "_model_module": "@jupyter-widgets/base",
            "_model_module_version": "1.2.0",
            "_model_name": "LayoutModel",
            "_view_count": null,
            "_view_module": "@jupyter-widgets/base",
            "_view_module_version": "1.2.0",
            "_view_name": "LayoutView",
            "align_content": null,
            "align_items": null,
            "align_self": null,
            "border": null,
            "bottom": null,
            "display": null,
            "flex": null,
            "flex_flow": null,
            "grid_area": null,
            "grid_auto_columns": null,
            "grid_auto_flow": null,
            "grid_auto_rows": null,
            "grid_column": null,
            "grid_gap": null,
            "grid_row": null,
            "grid_template_areas": null,
            "grid_template_columns": null,
            "grid_template_rows": null,
            "height": null,
            "justify_content": null,
            "justify_items": null,
            "left": null,
            "margin": null,
            "max_height": null,
            "max_width": null,
            "min_height": null,
            "min_width": null,
            "object_fit": null,
            "object_position": null,
            "order": null,
            "overflow": null,
            "overflow_x": null,
            "overflow_y": null,
            "padding": null,
            "right": null,
            "top": null,
            "visibility": null,
            "width": null
          }
        },
        "da3449d4cc9c4ea3b8fe74d2f2b4eb28": {
          "model_module": "@jupyter-widgets/controls",
          "model_name": "DescriptionStyleModel",
          "model_module_version": "1.5.0",
          "state": {
            "_model_module": "@jupyter-widgets/controls",
            "_model_module_version": "1.5.0",
            "_model_name": "DescriptionStyleModel",
            "_view_count": null,
            "_view_module": "@jupyter-widgets/base",
            "_view_module_version": "1.2.0",
            "_view_name": "StyleView",
            "description_width": ""
          }
        },
        "6caab147189f4912afc7ac3dc566c261": {
          "model_module": "@jupyter-widgets/controls",
          "model_name": "HBoxModel",
          "model_module_version": "1.5.0",
          "state": {
            "_dom_classes": [],
            "_model_module": "@jupyter-widgets/controls",
            "_model_module_version": "1.5.0",
            "_model_name": "HBoxModel",
            "_view_count": null,
            "_view_module": "@jupyter-widgets/controls",
            "_view_module_version": "1.5.0",
            "_view_name": "HBoxView",
            "box_style": "",
            "children": [
              "IPY_MODEL_427c6b4ba0084f64aaf9397d126892bc",
              "IPY_MODEL_23eb8a79b0a04a00a599ee2ee99e6155",
              "IPY_MODEL_c64cfdebc9a24662a26646e573a55973"
            ],
            "layout": "IPY_MODEL_42e0d8e5509f45fe971678614564ccd3"
          }
        },
        "427c6b4ba0084f64aaf9397d126892bc": {
          "model_module": "@jupyter-widgets/controls",
          "model_name": "HTMLModel",
          "model_module_version": "1.5.0",
          "state": {
            "_dom_classes": [],
            "_model_module": "@jupyter-widgets/controls",
            "_model_module_version": "1.5.0",
            "_model_name": "HTMLModel",
            "_view_count": null,
            "_view_module": "@jupyter-widgets/controls",
            "_view_module_version": "1.5.0",
            "_view_name": "HTMLView",
            "description": "",
            "description_tooltip": null,
            "layout": "IPY_MODEL_355ab54672c246b7825d0fda7f087fc2",
            "placeholder": "​",
            "style": "IPY_MODEL_ee1f97876f6d497a9b8aec1b0fc43d3d",
            "value": "Validation DataLoader 0: 100%"
          }
        },
        "23eb8a79b0a04a00a599ee2ee99e6155": {
          "model_module": "@jupyter-widgets/controls",
          "model_name": "FloatProgressModel",
          "model_module_version": "1.5.0",
          "state": {
            "_dom_classes": [],
            "_model_module": "@jupyter-widgets/controls",
            "_model_module_version": "1.5.0",
            "_model_name": "FloatProgressModel",
            "_view_count": null,
            "_view_module": "@jupyter-widgets/controls",
            "_view_module_version": "1.5.0",
            "_view_name": "ProgressView",
            "bar_style": "",
            "description": "",
            "description_tooltip": null,
            "layout": "IPY_MODEL_b7ac0ce2f1634158815cd31e81412811",
            "max": 24,
            "min": 0,
            "orientation": "horizontal",
            "style": "IPY_MODEL_774aafa3d37c4f7ab758bc30a58f4102",
            "value": 24
          }
        },
        "c64cfdebc9a24662a26646e573a55973": {
          "model_module": "@jupyter-widgets/controls",
          "model_name": "HTMLModel",
          "model_module_version": "1.5.0",
          "state": {
            "_dom_classes": [],
            "_model_module": "@jupyter-widgets/controls",
            "_model_module_version": "1.5.0",
            "_model_name": "HTMLModel",
            "_view_count": null,
            "_view_module": "@jupyter-widgets/controls",
            "_view_module_version": "1.5.0",
            "_view_name": "HTMLView",
            "description": "",
            "description_tooltip": null,
            "layout": "IPY_MODEL_a944fb7421124d10be6b27fca37c86f9",
            "placeholder": "​",
            "style": "IPY_MODEL_b6917ae6d2c945ef8e1455d15da2d56a",
            "value": " 24/24 [00:03&lt;00:00,  6.12it/s]"
          }
        },
        "42e0d8e5509f45fe971678614564ccd3": {
          "model_module": "@jupyter-widgets/base",
          "model_name": "LayoutModel",
          "model_module_version": "1.2.0",
          "state": {
            "_model_module": "@jupyter-widgets/base",
            "_model_module_version": "1.2.0",
            "_model_name": "LayoutModel",
            "_view_count": null,
            "_view_module": "@jupyter-widgets/base",
            "_view_module_version": "1.2.0",
            "_view_name": "LayoutView",
            "align_content": null,
            "align_items": null,
            "align_self": null,
            "border": null,
            "bottom": null,
            "display": "inline-flex",
            "flex": null,
            "flex_flow": "row wrap",
            "grid_area": null,
            "grid_auto_columns": null,
            "grid_auto_flow": null,
            "grid_auto_rows": null,
            "grid_column": null,
            "grid_gap": null,
            "grid_row": null,
            "grid_template_areas": null,
            "grid_template_columns": null,
            "grid_template_rows": null,
            "height": null,
            "justify_content": null,
            "justify_items": null,
            "left": null,
            "margin": null,
            "max_height": null,
            "max_width": null,
            "min_height": null,
            "min_width": null,
            "object_fit": null,
            "object_position": null,
            "order": null,
            "overflow": null,
            "overflow_x": null,
            "overflow_y": null,
            "padding": null,
            "right": null,
            "top": null,
            "visibility": "hidden",
            "width": "100%"
          }
        },
        "355ab54672c246b7825d0fda7f087fc2": {
          "model_module": "@jupyter-widgets/base",
          "model_name": "LayoutModel",
          "model_module_version": "1.2.0",
          "state": {
            "_model_module": "@jupyter-widgets/base",
            "_model_module_version": "1.2.0",
            "_model_name": "LayoutModel",
            "_view_count": null,
            "_view_module": "@jupyter-widgets/base",
            "_view_module_version": "1.2.0",
            "_view_name": "LayoutView",
            "align_content": null,
            "align_items": null,
            "align_self": null,
            "border": null,
            "bottom": null,
            "display": null,
            "flex": null,
            "flex_flow": null,
            "grid_area": null,
            "grid_auto_columns": null,
            "grid_auto_flow": null,
            "grid_auto_rows": null,
            "grid_column": null,
            "grid_gap": null,
            "grid_row": null,
            "grid_template_areas": null,
            "grid_template_columns": null,
            "grid_template_rows": null,
            "height": null,
            "justify_content": null,
            "justify_items": null,
            "left": null,
            "margin": null,
            "max_height": null,
            "max_width": null,
            "min_height": null,
            "min_width": null,
            "object_fit": null,
            "object_position": null,
            "order": null,
            "overflow": null,
            "overflow_x": null,
            "overflow_y": null,
            "padding": null,
            "right": null,
            "top": null,
            "visibility": null,
            "width": null
          }
        },
        "ee1f97876f6d497a9b8aec1b0fc43d3d": {
          "model_module": "@jupyter-widgets/controls",
          "model_name": "DescriptionStyleModel",
          "model_module_version": "1.5.0",
          "state": {
            "_model_module": "@jupyter-widgets/controls",
            "_model_module_version": "1.5.0",
            "_model_name": "DescriptionStyleModel",
            "_view_count": null,
            "_view_module": "@jupyter-widgets/base",
            "_view_module_version": "1.2.0",
            "_view_name": "StyleView",
            "description_width": ""
          }
        },
        "b7ac0ce2f1634158815cd31e81412811": {
          "model_module": "@jupyter-widgets/base",
          "model_name": "LayoutModel",
          "model_module_version": "1.2.0",
          "state": {
            "_model_module": "@jupyter-widgets/base",
            "_model_module_version": "1.2.0",
            "_model_name": "LayoutModel",
            "_view_count": null,
            "_view_module": "@jupyter-widgets/base",
            "_view_module_version": "1.2.0",
            "_view_name": "LayoutView",
            "align_content": null,
            "align_items": null,
            "align_self": null,
            "border": null,
            "bottom": null,
            "display": null,
            "flex": "2",
            "flex_flow": null,
            "grid_area": null,
            "grid_auto_columns": null,
            "grid_auto_flow": null,
            "grid_auto_rows": null,
            "grid_column": null,
            "grid_gap": null,
            "grid_row": null,
            "grid_template_areas": null,
            "grid_template_columns": null,
            "grid_template_rows": null,
            "height": null,
            "justify_content": null,
            "justify_items": null,
            "left": null,
            "margin": null,
            "max_height": null,
            "max_width": null,
            "min_height": null,
            "min_width": null,
            "object_fit": null,
            "object_position": null,
            "order": null,
            "overflow": null,
            "overflow_x": null,
            "overflow_y": null,
            "padding": null,
            "right": null,
            "top": null,
            "visibility": null,
            "width": null
          }
        },
        "774aafa3d37c4f7ab758bc30a58f4102": {
          "model_module": "@jupyter-widgets/controls",
          "model_name": "ProgressStyleModel",
          "model_module_version": "1.5.0",
          "state": {
            "_model_module": "@jupyter-widgets/controls",
            "_model_module_version": "1.5.0",
            "_model_name": "ProgressStyleModel",
            "_view_count": null,
            "_view_module": "@jupyter-widgets/base",
            "_view_module_version": "1.2.0",
            "_view_name": "StyleView",
            "bar_color": null,
            "description_width": ""
          }
        },
        "a944fb7421124d10be6b27fca37c86f9": {
          "model_module": "@jupyter-widgets/base",
          "model_name": "LayoutModel",
          "model_module_version": "1.2.0",
          "state": {
            "_model_module": "@jupyter-widgets/base",
            "_model_module_version": "1.2.0",
            "_model_name": "LayoutModel",
            "_view_count": null,
            "_view_module": "@jupyter-widgets/base",
            "_view_module_version": "1.2.0",
            "_view_name": "LayoutView",
            "align_content": null,
            "align_items": null,
            "align_self": null,
            "border": null,
            "bottom": null,
            "display": null,
            "flex": null,
            "flex_flow": null,
            "grid_area": null,
            "grid_auto_columns": null,
            "grid_auto_flow": null,
            "grid_auto_rows": null,
            "grid_column": null,
            "grid_gap": null,
            "grid_row": null,
            "grid_template_areas": null,
            "grid_template_columns": null,
            "grid_template_rows": null,
            "height": null,
            "justify_content": null,
            "justify_items": null,
            "left": null,
            "margin": null,
            "max_height": null,
            "max_width": null,
            "min_height": null,
            "min_width": null,
            "object_fit": null,
            "object_position": null,
            "order": null,
            "overflow": null,
            "overflow_x": null,
            "overflow_y": null,
            "padding": null,
            "right": null,
            "top": null,
            "visibility": null,
            "width": null
          }
        },
        "b6917ae6d2c945ef8e1455d15da2d56a": {
          "model_module": "@jupyter-widgets/controls",
          "model_name": "DescriptionStyleModel",
          "model_module_version": "1.5.0",
          "state": {
            "_model_module": "@jupyter-widgets/controls",
            "_model_module_version": "1.5.0",
            "_model_name": "DescriptionStyleModel",
            "_view_count": null,
            "_view_module": "@jupyter-widgets/base",
            "_view_module_version": "1.2.0",
            "_view_name": "StyleView",
            "description_width": ""
          }
        },
        "cf5ae2023e404289b8c758efc499a8c3": {
          "model_module": "@jupyter-widgets/controls",
          "model_name": "HBoxModel",
          "model_module_version": "1.5.0",
          "state": {
            "_dom_classes": [],
            "_model_module": "@jupyter-widgets/controls",
            "_model_module_version": "1.5.0",
            "_model_name": "HBoxModel",
            "_view_count": null,
            "_view_module": "@jupyter-widgets/controls",
            "_view_module_version": "1.5.0",
            "_view_name": "HBoxView",
            "box_style": "",
            "children": [
              "IPY_MODEL_9c47f583519141689cccc2cd293304dd",
              "IPY_MODEL_b74ea0b5e77245c6bcccdb80d6436106",
              "IPY_MODEL_557871fb509842a68d5278b0bb6a8fed"
            ],
            "layout": "IPY_MODEL_9525e71b0fc54c779e638a2069a0bc44"
          }
        },
        "9c47f583519141689cccc2cd293304dd": {
          "model_module": "@jupyter-widgets/controls",
          "model_name": "HTMLModel",
          "model_module_version": "1.5.0",
          "state": {
            "_dom_classes": [],
            "_model_module": "@jupyter-widgets/controls",
            "_model_module_version": "1.5.0",
            "_model_name": "HTMLModel",
            "_view_count": null,
            "_view_module": "@jupyter-widgets/controls",
            "_view_module_version": "1.5.0",
            "_view_name": "HTMLView",
            "description": "",
            "description_tooltip": null,
            "layout": "IPY_MODEL_7f82741e692f43ceaddbe34d2b21a7ee",
            "placeholder": "​",
            "style": "IPY_MODEL_b696b2b091ce444d8978c573d68fbe04",
            "value": "Validation DataLoader 0: 100%"
          }
        },
        "b74ea0b5e77245c6bcccdb80d6436106": {
          "model_module": "@jupyter-widgets/controls",
          "model_name": "FloatProgressModel",
          "model_module_version": "1.5.0",
          "state": {
            "_dom_classes": [],
            "_model_module": "@jupyter-widgets/controls",
            "_model_module_version": "1.5.0",
            "_model_name": "FloatProgressModel",
            "_view_count": null,
            "_view_module": "@jupyter-widgets/controls",
            "_view_module_version": "1.5.0",
            "_view_name": "ProgressView",
            "bar_style": "",
            "description": "",
            "description_tooltip": null,
            "layout": "IPY_MODEL_49423a6d5a5d4b5da21ebb84ad9d45f8",
            "max": 24,
            "min": 0,
            "orientation": "horizontal",
            "style": "IPY_MODEL_fc2efc770cef4fd5bb154c3db7882303",
            "value": 24
          }
        },
        "557871fb509842a68d5278b0bb6a8fed": {
          "model_module": "@jupyter-widgets/controls",
          "model_name": "HTMLModel",
          "model_module_version": "1.5.0",
          "state": {
            "_dom_classes": [],
            "_model_module": "@jupyter-widgets/controls",
            "_model_module_version": "1.5.0",
            "_model_name": "HTMLModel",
            "_view_count": null,
            "_view_module": "@jupyter-widgets/controls",
            "_view_module_version": "1.5.0",
            "_view_name": "HTMLView",
            "description": "",
            "description_tooltip": null,
            "layout": "IPY_MODEL_5877cb6fa03f44d9900e2c21904ecf05",
            "placeholder": "​",
            "style": "IPY_MODEL_0730343581564e0f80e7fca1fdefec8f",
            "value": " 24/24 [00:03&lt;00:00,  6.17it/s]"
          }
        },
        "9525e71b0fc54c779e638a2069a0bc44": {
          "model_module": "@jupyter-widgets/base",
          "model_name": "LayoutModel",
          "model_module_version": "1.2.0",
          "state": {
            "_model_module": "@jupyter-widgets/base",
            "_model_module_version": "1.2.0",
            "_model_name": "LayoutModel",
            "_view_count": null,
            "_view_module": "@jupyter-widgets/base",
            "_view_module_version": "1.2.0",
            "_view_name": "LayoutView",
            "align_content": null,
            "align_items": null,
            "align_self": null,
            "border": null,
            "bottom": null,
            "display": "inline-flex",
            "flex": null,
            "flex_flow": "row wrap",
            "grid_area": null,
            "grid_auto_columns": null,
            "grid_auto_flow": null,
            "grid_auto_rows": null,
            "grid_column": null,
            "grid_gap": null,
            "grid_row": null,
            "grid_template_areas": null,
            "grid_template_columns": null,
            "grid_template_rows": null,
            "height": null,
            "justify_content": null,
            "justify_items": null,
            "left": null,
            "margin": null,
            "max_height": null,
            "max_width": null,
            "min_height": null,
            "min_width": null,
            "object_fit": null,
            "object_position": null,
            "order": null,
            "overflow": null,
            "overflow_x": null,
            "overflow_y": null,
            "padding": null,
            "right": null,
            "top": null,
            "visibility": "hidden",
            "width": "100%"
          }
        },
        "7f82741e692f43ceaddbe34d2b21a7ee": {
          "model_module": "@jupyter-widgets/base",
          "model_name": "LayoutModel",
          "model_module_version": "1.2.0",
          "state": {
            "_model_module": "@jupyter-widgets/base",
            "_model_module_version": "1.2.0",
            "_model_name": "LayoutModel",
            "_view_count": null,
            "_view_module": "@jupyter-widgets/base",
            "_view_module_version": "1.2.0",
            "_view_name": "LayoutView",
            "align_content": null,
            "align_items": null,
            "align_self": null,
            "border": null,
            "bottom": null,
            "display": null,
            "flex": null,
            "flex_flow": null,
            "grid_area": null,
            "grid_auto_columns": null,
            "grid_auto_flow": null,
            "grid_auto_rows": null,
            "grid_column": null,
            "grid_gap": null,
            "grid_row": null,
            "grid_template_areas": null,
            "grid_template_columns": null,
            "grid_template_rows": null,
            "height": null,
            "justify_content": null,
            "justify_items": null,
            "left": null,
            "margin": null,
            "max_height": null,
            "max_width": null,
            "min_height": null,
            "min_width": null,
            "object_fit": null,
            "object_position": null,
            "order": null,
            "overflow": null,
            "overflow_x": null,
            "overflow_y": null,
            "padding": null,
            "right": null,
            "top": null,
            "visibility": null,
            "width": null
          }
        },
        "b696b2b091ce444d8978c573d68fbe04": {
          "model_module": "@jupyter-widgets/controls",
          "model_name": "DescriptionStyleModel",
          "model_module_version": "1.5.0",
          "state": {
            "_model_module": "@jupyter-widgets/controls",
            "_model_module_version": "1.5.0",
            "_model_name": "DescriptionStyleModel",
            "_view_count": null,
            "_view_module": "@jupyter-widgets/base",
            "_view_module_version": "1.2.0",
            "_view_name": "StyleView",
            "description_width": ""
          }
        },
        "49423a6d5a5d4b5da21ebb84ad9d45f8": {
          "model_module": "@jupyter-widgets/base",
          "model_name": "LayoutModel",
          "model_module_version": "1.2.0",
          "state": {
            "_model_module": "@jupyter-widgets/base",
            "_model_module_version": "1.2.0",
            "_model_name": "LayoutModel",
            "_view_count": null,
            "_view_module": "@jupyter-widgets/base",
            "_view_module_version": "1.2.0",
            "_view_name": "LayoutView",
            "align_content": null,
            "align_items": null,
            "align_self": null,
            "border": null,
            "bottom": null,
            "display": null,
            "flex": "2",
            "flex_flow": null,
            "grid_area": null,
            "grid_auto_columns": null,
            "grid_auto_flow": null,
            "grid_auto_rows": null,
            "grid_column": null,
            "grid_gap": null,
            "grid_row": null,
            "grid_template_areas": null,
            "grid_template_columns": null,
            "grid_template_rows": null,
            "height": null,
            "justify_content": null,
            "justify_items": null,
            "left": null,
            "margin": null,
            "max_height": null,
            "max_width": null,
            "min_height": null,
            "min_width": null,
            "object_fit": null,
            "object_position": null,
            "order": null,
            "overflow": null,
            "overflow_x": null,
            "overflow_y": null,
            "padding": null,
            "right": null,
            "top": null,
            "visibility": null,
            "width": null
          }
        },
        "fc2efc770cef4fd5bb154c3db7882303": {
          "model_module": "@jupyter-widgets/controls",
          "model_name": "ProgressStyleModel",
          "model_module_version": "1.5.0",
          "state": {
            "_model_module": "@jupyter-widgets/controls",
            "_model_module_version": "1.5.0",
            "_model_name": "ProgressStyleModel",
            "_view_count": null,
            "_view_module": "@jupyter-widgets/base",
            "_view_module_version": "1.2.0",
            "_view_name": "StyleView",
            "bar_color": null,
            "description_width": ""
          }
        },
        "5877cb6fa03f44d9900e2c21904ecf05": {
          "model_module": "@jupyter-widgets/base",
          "model_name": "LayoutModel",
          "model_module_version": "1.2.0",
          "state": {
            "_model_module": "@jupyter-widgets/base",
            "_model_module_version": "1.2.0",
            "_model_name": "LayoutModel",
            "_view_count": null,
            "_view_module": "@jupyter-widgets/base",
            "_view_module_version": "1.2.0",
            "_view_name": "LayoutView",
            "align_content": null,
            "align_items": null,
            "align_self": null,
            "border": null,
            "bottom": null,
            "display": null,
            "flex": null,
            "flex_flow": null,
            "grid_area": null,
            "grid_auto_columns": null,
            "grid_auto_flow": null,
            "grid_auto_rows": null,
            "grid_column": null,
            "grid_gap": null,
            "grid_row": null,
            "grid_template_areas": null,
            "grid_template_columns": null,
            "grid_template_rows": null,
            "height": null,
            "justify_content": null,
            "justify_items": null,
            "left": null,
            "margin": null,
            "max_height": null,
            "max_width": null,
            "min_height": null,
            "min_width": null,
            "object_fit": null,
            "object_position": null,
            "order": null,
            "overflow": null,
            "overflow_x": null,
            "overflow_y": null,
            "padding": null,
            "right": null,
            "top": null,
            "visibility": null,
            "width": null
          }
        },
        "0730343581564e0f80e7fca1fdefec8f": {
          "model_module": "@jupyter-widgets/controls",
          "model_name": "DescriptionStyleModel",
          "model_module_version": "1.5.0",
          "state": {
            "_model_module": "@jupyter-widgets/controls",
            "_model_module_version": "1.5.0",
            "_model_name": "DescriptionStyleModel",
            "_view_count": null,
            "_view_module": "@jupyter-widgets/base",
            "_view_module_version": "1.2.0",
            "_view_name": "StyleView",
            "description_width": ""
          }
        },
        "12228b7b3b454751a20db26a9400485a": {
          "model_module": "@jupyter-widgets/controls",
          "model_name": "HBoxModel",
          "model_module_version": "1.5.0",
          "state": {
            "_dom_classes": [],
            "_model_module": "@jupyter-widgets/controls",
            "_model_module_version": "1.5.0",
            "_model_name": "HBoxModel",
            "_view_count": null,
            "_view_module": "@jupyter-widgets/controls",
            "_view_module_version": "1.5.0",
            "_view_name": "HBoxView",
            "box_style": "",
            "children": [
              "IPY_MODEL_f1ac0b2c8f684280b1f2dbaf3d9395de",
              "IPY_MODEL_ea98c608385c4e26a8ecbffd7867558c",
              "IPY_MODEL_37980ae41ddb4570a33a90f3746e74ce"
            ],
            "layout": "IPY_MODEL_3e31cb183b50421781d6f72735c8c978"
          }
        },
        "f1ac0b2c8f684280b1f2dbaf3d9395de": {
          "model_module": "@jupyter-widgets/controls",
          "model_name": "HTMLModel",
          "model_module_version": "1.5.0",
          "state": {
            "_dom_classes": [],
            "_model_module": "@jupyter-widgets/controls",
            "_model_module_version": "1.5.0",
            "_model_name": "HTMLModel",
            "_view_count": null,
            "_view_module": "@jupyter-widgets/controls",
            "_view_module_version": "1.5.0",
            "_view_name": "HTMLView",
            "description": "",
            "description_tooltip": null,
            "layout": "IPY_MODEL_9c5642dd08444f85b8a83fc516f94996",
            "placeholder": "​",
            "style": "IPY_MODEL_37bb8a5060e34f6db4bc2a0cc979d4d1",
            "value": "Validation DataLoader 0: 100%"
          }
        },
        "ea98c608385c4e26a8ecbffd7867558c": {
          "model_module": "@jupyter-widgets/controls",
          "model_name": "FloatProgressModel",
          "model_module_version": "1.5.0",
          "state": {
            "_dom_classes": [],
            "_model_module": "@jupyter-widgets/controls",
            "_model_module_version": "1.5.0",
            "_model_name": "FloatProgressModel",
            "_view_count": null,
            "_view_module": "@jupyter-widgets/controls",
            "_view_module_version": "1.5.0",
            "_view_name": "ProgressView",
            "bar_style": "",
            "description": "",
            "description_tooltip": null,
            "layout": "IPY_MODEL_bcf3b390ec3246618be91b1aae9a175f",
            "max": 24,
            "min": 0,
            "orientation": "horizontal",
            "style": "IPY_MODEL_017dc411ab1f4563877e1c2480dc1cb7",
            "value": 24
          }
        },
        "37980ae41ddb4570a33a90f3746e74ce": {
          "model_module": "@jupyter-widgets/controls",
          "model_name": "HTMLModel",
          "model_module_version": "1.5.0",
          "state": {
            "_dom_classes": [],
            "_model_module": "@jupyter-widgets/controls",
            "_model_module_version": "1.5.0",
            "_model_name": "HTMLModel",
            "_view_count": null,
            "_view_module": "@jupyter-widgets/controls",
            "_view_module_version": "1.5.0",
            "_view_name": "HTMLView",
            "description": "",
            "description_tooltip": null,
            "layout": "IPY_MODEL_d8d49ed7f1b04dfe83e480ec5f6ec5e2",
            "placeholder": "​",
            "style": "IPY_MODEL_74c7c007147d403da8e955de7160101f",
            "value": " 24/24 [00:03&lt;00:00,  6.27it/s]"
          }
        },
        "3e31cb183b50421781d6f72735c8c978": {
          "model_module": "@jupyter-widgets/base",
          "model_name": "LayoutModel",
          "model_module_version": "1.2.0",
          "state": {
            "_model_module": "@jupyter-widgets/base",
            "_model_module_version": "1.2.0",
            "_model_name": "LayoutModel",
            "_view_count": null,
            "_view_module": "@jupyter-widgets/base",
            "_view_module_version": "1.2.0",
            "_view_name": "LayoutView",
            "align_content": null,
            "align_items": null,
            "align_self": null,
            "border": null,
            "bottom": null,
            "display": "inline-flex",
            "flex": null,
            "flex_flow": "row wrap",
            "grid_area": null,
            "grid_auto_columns": null,
            "grid_auto_flow": null,
            "grid_auto_rows": null,
            "grid_column": null,
            "grid_gap": null,
            "grid_row": null,
            "grid_template_areas": null,
            "grid_template_columns": null,
            "grid_template_rows": null,
            "height": null,
            "justify_content": null,
            "justify_items": null,
            "left": null,
            "margin": null,
            "max_height": null,
            "max_width": null,
            "min_height": null,
            "min_width": null,
            "object_fit": null,
            "object_position": null,
            "order": null,
            "overflow": null,
            "overflow_x": null,
            "overflow_y": null,
            "padding": null,
            "right": null,
            "top": null,
            "visibility": "hidden",
            "width": "100%"
          }
        },
        "9c5642dd08444f85b8a83fc516f94996": {
          "model_module": "@jupyter-widgets/base",
          "model_name": "LayoutModel",
          "model_module_version": "1.2.0",
          "state": {
            "_model_module": "@jupyter-widgets/base",
            "_model_module_version": "1.2.0",
            "_model_name": "LayoutModel",
            "_view_count": null,
            "_view_module": "@jupyter-widgets/base",
            "_view_module_version": "1.2.0",
            "_view_name": "LayoutView",
            "align_content": null,
            "align_items": null,
            "align_self": null,
            "border": null,
            "bottom": null,
            "display": null,
            "flex": null,
            "flex_flow": null,
            "grid_area": null,
            "grid_auto_columns": null,
            "grid_auto_flow": null,
            "grid_auto_rows": null,
            "grid_column": null,
            "grid_gap": null,
            "grid_row": null,
            "grid_template_areas": null,
            "grid_template_columns": null,
            "grid_template_rows": null,
            "height": null,
            "justify_content": null,
            "justify_items": null,
            "left": null,
            "margin": null,
            "max_height": null,
            "max_width": null,
            "min_height": null,
            "min_width": null,
            "object_fit": null,
            "object_position": null,
            "order": null,
            "overflow": null,
            "overflow_x": null,
            "overflow_y": null,
            "padding": null,
            "right": null,
            "top": null,
            "visibility": null,
            "width": null
          }
        },
        "37bb8a5060e34f6db4bc2a0cc979d4d1": {
          "model_module": "@jupyter-widgets/controls",
          "model_name": "DescriptionStyleModel",
          "model_module_version": "1.5.0",
          "state": {
            "_model_module": "@jupyter-widgets/controls",
            "_model_module_version": "1.5.0",
            "_model_name": "DescriptionStyleModel",
            "_view_count": null,
            "_view_module": "@jupyter-widgets/base",
            "_view_module_version": "1.2.0",
            "_view_name": "StyleView",
            "description_width": ""
          }
        },
        "bcf3b390ec3246618be91b1aae9a175f": {
          "model_module": "@jupyter-widgets/base",
          "model_name": "LayoutModel",
          "model_module_version": "1.2.0",
          "state": {
            "_model_module": "@jupyter-widgets/base",
            "_model_module_version": "1.2.0",
            "_model_name": "LayoutModel",
            "_view_count": null,
            "_view_module": "@jupyter-widgets/base",
            "_view_module_version": "1.2.0",
            "_view_name": "LayoutView",
            "align_content": null,
            "align_items": null,
            "align_self": null,
            "border": null,
            "bottom": null,
            "display": null,
            "flex": "2",
            "flex_flow": null,
            "grid_area": null,
            "grid_auto_columns": null,
            "grid_auto_flow": null,
            "grid_auto_rows": null,
            "grid_column": null,
            "grid_gap": null,
            "grid_row": null,
            "grid_template_areas": null,
            "grid_template_columns": null,
            "grid_template_rows": null,
            "height": null,
            "justify_content": null,
            "justify_items": null,
            "left": null,
            "margin": null,
            "max_height": null,
            "max_width": null,
            "min_height": null,
            "min_width": null,
            "object_fit": null,
            "object_position": null,
            "order": null,
            "overflow": null,
            "overflow_x": null,
            "overflow_y": null,
            "padding": null,
            "right": null,
            "top": null,
            "visibility": null,
            "width": null
          }
        },
        "017dc411ab1f4563877e1c2480dc1cb7": {
          "model_module": "@jupyter-widgets/controls",
          "model_name": "ProgressStyleModel",
          "model_module_version": "1.5.0",
          "state": {
            "_model_module": "@jupyter-widgets/controls",
            "_model_module_version": "1.5.0",
            "_model_name": "ProgressStyleModel",
            "_view_count": null,
            "_view_module": "@jupyter-widgets/base",
            "_view_module_version": "1.2.0",
            "_view_name": "StyleView",
            "bar_color": null,
            "description_width": ""
          }
        },
        "d8d49ed7f1b04dfe83e480ec5f6ec5e2": {
          "model_module": "@jupyter-widgets/base",
          "model_name": "LayoutModel",
          "model_module_version": "1.2.0",
          "state": {
            "_model_module": "@jupyter-widgets/base",
            "_model_module_version": "1.2.0",
            "_model_name": "LayoutModel",
            "_view_count": null,
            "_view_module": "@jupyter-widgets/base",
            "_view_module_version": "1.2.0",
            "_view_name": "LayoutView",
            "align_content": null,
            "align_items": null,
            "align_self": null,
            "border": null,
            "bottom": null,
            "display": null,
            "flex": null,
            "flex_flow": null,
            "grid_area": null,
            "grid_auto_columns": null,
            "grid_auto_flow": null,
            "grid_auto_rows": null,
            "grid_column": null,
            "grid_gap": null,
            "grid_row": null,
            "grid_template_areas": null,
            "grid_template_columns": null,
            "grid_template_rows": null,
            "height": null,
            "justify_content": null,
            "justify_items": null,
            "left": null,
            "margin": null,
            "max_height": null,
            "max_width": null,
            "min_height": null,
            "min_width": null,
            "object_fit": null,
            "object_position": null,
            "order": null,
            "overflow": null,
            "overflow_x": null,
            "overflow_y": null,
            "padding": null,
            "right": null,
            "top": null,
            "visibility": null,
            "width": null
          }
        },
        "74c7c007147d403da8e955de7160101f": {
          "model_module": "@jupyter-widgets/controls",
          "model_name": "DescriptionStyleModel",
          "model_module_version": "1.5.0",
          "state": {
            "_model_module": "@jupyter-widgets/controls",
            "_model_module_version": "1.5.0",
            "_model_name": "DescriptionStyleModel",
            "_view_count": null,
            "_view_module": "@jupyter-widgets/base",
            "_view_module_version": "1.2.0",
            "_view_name": "StyleView",
            "description_width": ""
          }
        },
        "b3a76f9c1d244507b48216d616300a09": {
          "model_module": "@jupyter-widgets/controls",
          "model_name": "HBoxModel",
          "model_module_version": "1.5.0",
          "state": {
            "_dom_classes": [],
            "_model_module": "@jupyter-widgets/controls",
            "_model_module_version": "1.5.0",
            "_model_name": "HBoxModel",
            "_view_count": null,
            "_view_module": "@jupyter-widgets/controls",
            "_view_module_version": "1.5.0",
            "_view_name": "HBoxView",
            "box_style": "",
            "children": [
              "IPY_MODEL_37066472b4114655a8f06e06eb943311",
              "IPY_MODEL_399df8d8dde64ec8a4a9dbe33731bd7b",
              "IPY_MODEL_561857fea63647899f7b7a5fd15c7005"
            ],
            "layout": "IPY_MODEL_3bb9364f13984aa3acc0120ce97d7e3e"
          }
        },
        "37066472b4114655a8f06e06eb943311": {
          "model_module": "@jupyter-widgets/controls",
          "model_name": "HTMLModel",
          "model_module_version": "1.5.0",
          "state": {
            "_dom_classes": [],
            "_model_module": "@jupyter-widgets/controls",
            "_model_module_version": "1.5.0",
            "_model_name": "HTMLModel",
            "_view_count": null,
            "_view_module": "@jupyter-widgets/controls",
            "_view_module_version": "1.5.0",
            "_view_name": "HTMLView",
            "description": "",
            "description_tooltip": null,
            "layout": "IPY_MODEL_7006a3e93be440b8a06360f94c9e718e",
            "placeholder": "​",
            "style": "IPY_MODEL_7c5f47c71bd44c0bac0da6077beeb25a",
            "value": "Validation DataLoader 0: 100%"
          }
        },
        "399df8d8dde64ec8a4a9dbe33731bd7b": {
          "model_module": "@jupyter-widgets/controls",
          "model_name": "FloatProgressModel",
          "model_module_version": "1.5.0",
          "state": {
            "_dom_classes": [],
            "_model_module": "@jupyter-widgets/controls",
            "_model_module_version": "1.5.0",
            "_model_name": "FloatProgressModel",
            "_view_count": null,
            "_view_module": "@jupyter-widgets/controls",
            "_view_module_version": "1.5.0",
            "_view_name": "ProgressView",
            "bar_style": "",
            "description": "",
            "description_tooltip": null,
            "layout": "IPY_MODEL_e87a6d60e1724bdc81c309d1b13bceda",
            "max": 24,
            "min": 0,
            "orientation": "horizontal",
            "style": "IPY_MODEL_76dfc93cdf844c9799b7f66595e3291d",
            "value": 24
          }
        },
        "561857fea63647899f7b7a5fd15c7005": {
          "model_module": "@jupyter-widgets/controls",
          "model_name": "HTMLModel",
          "model_module_version": "1.5.0",
          "state": {
            "_dom_classes": [],
            "_model_module": "@jupyter-widgets/controls",
            "_model_module_version": "1.5.0",
            "_model_name": "HTMLModel",
            "_view_count": null,
            "_view_module": "@jupyter-widgets/controls",
            "_view_module_version": "1.5.0",
            "_view_name": "HTMLView",
            "description": "",
            "description_tooltip": null,
            "layout": "IPY_MODEL_6f1b02bf97084c48b3866a2d85658f1c",
            "placeholder": "​",
            "style": "IPY_MODEL_6135527b7ad0450097d2204dae3d91f3",
            "value": " 24/24 [00:03&lt;00:00,  6.40it/s]"
          }
        },
        "3bb9364f13984aa3acc0120ce97d7e3e": {
          "model_module": "@jupyter-widgets/base",
          "model_name": "LayoutModel",
          "model_module_version": "1.2.0",
          "state": {
            "_model_module": "@jupyter-widgets/base",
            "_model_module_version": "1.2.0",
            "_model_name": "LayoutModel",
            "_view_count": null,
            "_view_module": "@jupyter-widgets/base",
            "_view_module_version": "1.2.0",
            "_view_name": "LayoutView",
            "align_content": null,
            "align_items": null,
            "align_self": null,
            "border": null,
            "bottom": null,
            "display": "inline-flex",
            "flex": null,
            "flex_flow": "row wrap",
            "grid_area": null,
            "grid_auto_columns": null,
            "grid_auto_flow": null,
            "grid_auto_rows": null,
            "grid_column": null,
            "grid_gap": null,
            "grid_row": null,
            "grid_template_areas": null,
            "grid_template_columns": null,
            "grid_template_rows": null,
            "height": null,
            "justify_content": null,
            "justify_items": null,
            "left": null,
            "margin": null,
            "max_height": null,
            "max_width": null,
            "min_height": null,
            "min_width": null,
            "object_fit": null,
            "object_position": null,
            "order": null,
            "overflow": null,
            "overflow_x": null,
            "overflow_y": null,
            "padding": null,
            "right": null,
            "top": null,
            "visibility": "hidden",
            "width": "100%"
          }
        },
        "7006a3e93be440b8a06360f94c9e718e": {
          "model_module": "@jupyter-widgets/base",
          "model_name": "LayoutModel",
          "model_module_version": "1.2.0",
          "state": {
            "_model_module": "@jupyter-widgets/base",
            "_model_module_version": "1.2.0",
            "_model_name": "LayoutModel",
            "_view_count": null,
            "_view_module": "@jupyter-widgets/base",
            "_view_module_version": "1.2.0",
            "_view_name": "LayoutView",
            "align_content": null,
            "align_items": null,
            "align_self": null,
            "border": null,
            "bottom": null,
            "display": null,
            "flex": null,
            "flex_flow": null,
            "grid_area": null,
            "grid_auto_columns": null,
            "grid_auto_flow": null,
            "grid_auto_rows": null,
            "grid_column": null,
            "grid_gap": null,
            "grid_row": null,
            "grid_template_areas": null,
            "grid_template_columns": null,
            "grid_template_rows": null,
            "height": null,
            "justify_content": null,
            "justify_items": null,
            "left": null,
            "margin": null,
            "max_height": null,
            "max_width": null,
            "min_height": null,
            "min_width": null,
            "object_fit": null,
            "object_position": null,
            "order": null,
            "overflow": null,
            "overflow_x": null,
            "overflow_y": null,
            "padding": null,
            "right": null,
            "top": null,
            "visibility": null,
            "width": null
          }
        },
        "7c5f47c71bd44c0bac0da6077beeb25a": {
          "model_module": "@jupyter-widgets/controls",
          "model_name": "DescriptionStyleModel",
          "model_module_version": "1.5.0",
          "state": {
            "_model_module": "@jupyter-widgets/controls",
            "_model_module_version": "1.5.0",
            "_model_name": "DescriptionStyleModel",
            "_view_count": null,
            "_view_module": "@jupyter-widgets/base",
            "_view_module_version": "1.2.0",
            "_view_name": "StyleView",
            "description_width": ""
          }
        },
        "e87a6d60e1724bdc81c309d1b13bceda": {
          "model_module": "@jupyter-widgets/base",
          "model_name": "LayoutModel",
          "model_module_version": "1.2.0",
          "state": {
            "_model_module": "@jupyter-widgets/base",
            "_model_module_version": "1.2.0",
            "_model_name": "LayoutModel",
            "_view_count": null,
            "_view_module": "@jupyter-widgets/base",
            "_view_module_version": "1.2.0",
            "_view_name": "LayoutView",
            "align_content": null,
            "align_items": null,
            "align_self": null,
            "border": null,
            "bottom": null,
            "display": null,
            "flex": "2",
            "flex_flow": null,
            "grid_area": null,
            "grid_auto_columns": null,
            "grid_auto_flow": null,
            "grid_auto_rows": null,
            "grid_column": null,
            "grid_gap": null,
            "grid_row": null,
            "grid_template_areas": null,
            "grid_template_columns": null,
            "grid_template_rows": null,
            "height": null,
            "justify_content": null,
            "justify_items": null,
            "left": null,
            "margin": null,
            "max_height": null,
            "max_width": null,
            "min_height": null,
            "min_width": null,
            "object_fit": null,
            "object_position": null,
            "order": null,
            "overflow": null,
            "overflow_x": null,
            "overflow_y": null,
            "padding": null,
            "right": null,
            "top": null,
            "visibility": null,
            "width": null
          }
        },
        "76dfc93cdf844c9799b7f66595e3291d": {
          "model_module": "@jupyter-widgets/controls",
          "model_name": "ProgressStyleModel",
          "model_module_version": "1.5.0",
          "state": {
            "_model_module": "@jupyter-widgets/controls",
            "_model_module_version": "1.5.0",
            "_model_name": "ProgressStyleModel",
            "_view_count": null,
            "_view_module": "@jupyter-widgets/base",
            "_view_module_version": "1.2.0",
            "_view_name": "StyleView",
            "bar_color": null,
            "description_width": ""
          }
        },
        "6f1b02bf97084c48b3866a2d85658f1c": {
          "model_module": "@jupyter-widgets/base",
          "model_name": "LayoutModel",
          "model_module_version": "1.2.0",
          "state": {
            "_model_module": "@jupyter-widgets/base",
            "_model_module_version": "1.2.0",
            "_model_name": "LayoutModel",
            "_view_count": null,
            "_view_module": "@jupyter-widgets/base",
            "_view_module_version": "1.2.0",
            "_view_name": "LayoutView",
            "align_content": null,
            "align_items": null,
            "align_self": null,
            "border": null,
            "bottom": null,
            "display": null,
            "flex": null,
            "flex_flow": null,
            "grid_area": null,
            "grid_auto_columns": null,
            "grid_auto_flow": null,
            "grid_auto_rows": null,
            "grid_column": null,
            "grid_gap": null,
            "grid_row": null,
            "grid_template_areas": null,
            "grid_template_columns": null,
            "grid_template_rows": null,
            "height": null,
            "justify_content": null,
            "justify_items": null,
            "left": null,
            "margin": null,
            "max_height": null,
            "max_width": null,
            "min_height": null,
            "min_width": null,
            "object_fit": null,
            "object_position": null,
            "order": null,
            "overflow": null,
            "overflow_x": null,
            "overflow_y": null,
            "padding": null,
            "right": null,
            "top": null,
            "visibility": null,
            "width": null
          }
        },
        "6135527b7ad0450097d2204dae3d91f3": {
          "model_module": "@jupyter-widgets/controls",
          "model_name": "DescriptionStyleModel",
          "model_module_version": "1.5.0",
          "state": {
            "_model_module": "@jupyter-widgets/controls",
            "_model_module_version": "1.5.0",
            "_model_name": "DescriptionStyleModel",
            "_view_count": null,
            "_view_module": "@jupyter-widgets/base",
            "_view_module_version": "1.2.0",
            "_view_name": "StyleView",
            "description_width": ""
          }
        },
        "0a98da1361a441d79293d53a20c5be6c": {
          "model_module": "@jupyter-widgets/controls",
          "model_name": "HBoxModel",
          "model_module_version": "1.5.0",
          "state": {
            "_dom_classes": [],
            "_model_module": "@jupyter-widgets/controls",
            "_model_module_version": "1.5.0",
            "_model_name": "HBoxModel",
            "_view_count": null,
            "_view_module": "@jupyter-widgets/controls",
            "_view_module_version": "1.5.0",
            "_view_name": "HBoxView",
            "box_style": "",
            "children": [
              "IPY_MODEL_add94553e6d943999b09947013e740a0",
              "IPY_MODEL_918b5d76a5e6438f95b60f5216435e1a",
              "IPY_MODEL_96ece176fb2041bfb9dee72627dbbf96"
            ],
            "layout": "IPY_MODEL_3aa83d55ded94e2c81a404a2aae6dd3f"
          }
        },
        "add94553e6d943999b09947013e740a0": {
          "model_module": "@jupyter-widgets/controls",
          "model_name": "HTMLModel",
          "model_module_version": "1.5.0",
          "state": {
            "_dom_classes": [],
            "_model_module": "@jupyter-widgets/controls",
            "_model_module_version": "1.5.0",
            "_model_name": "HTMLModel",
            "_view_count": null,
            "_view_module": "@jupyter-widgets/controls",
            "_view_module_version": "1.5.0",
            "_view_name": "HTMLView",
            "description": "",
            "description_tooltip": null,
            "layout": "IPY_MODEL_e2dadd2cf44a4a6fb60740f015f0b6d6",
            "placeholder": "​",
            "style": "IPY_MODEL_94a62dba1ebd4fdd9e1c01f900679b17",
            "value": "Validation DataLoader 0: 100%"
          }
        },
        "918b5d76a5e6438f95b60f5216435e1a": {
          "model_module": "@jupyter-widgets/controls",
          "model_name": "FloatProgressModel",
          "model_module_version": "1.5.0",
          "state": {
            "_dom_classes": [],
            "_model_module": "@jupyter-widgets/controls",
            "_model_module_version": "1.5.0",
            "_model_name": "FloatProgressModel",
            "_view_count": null,
            "_view_module": "@jupyter-widgets/controls",
            "_view_module_version": "1.5.0",
            "_view_name": "ProgressView",
            "bar_style": "",
            "description": "",
            "description_tooltip": null,
            "layout": "IPY_MODEL_0697d3102b3e4c6a9b0da3305d8ed48d",
            "max": 24,
            "min": 0,
            "orientation": "horizontal",
            "style": "IPY_MODEL_3b9f24d02346482c9b79b3294abe2538",
            "value": 24
          }
        },
        "96ece176fb2041bfb9dee72627dbbf96": {
          "model_module": "@jupyter-widgets/controls",
          "model_name": "HTMLModel",
          "model_module_version": "1.5.0",
          "state": {
            "_dom_classes": [],
            "_model_module": "@jupyter-widgets/controls",
            "_model_module_version": "1.5.0",
            "_model_name": "HTMLModel",
            "_view_count": null,
            "_view_module": "@jupyter-widgets/controls",
            "_view_module_version": "1.5.0",
            "_view_name": "HTMLView",
            "description": "",
            "description_tooltip": null,
            "layout": "IPY_MODEL_0b16f0c157314346bd3d24a30d1ae9ae",
            "placeholder": "​",
            "style": "IPY_MODEL_3a61d7e6dbf14a9d9e6c1dbab6b513b1",
            "value": " 24/24 [00:04&lt;00:00,  5.91it/s]"
          }
        },
        "3aa83d55ded94e2c81a404a2aae6dd3f": {
          "model_module": "@jupyter-widgets/base",
          "model_name": "LayoutModel",
          "model_module_version": "1.2.0",
          "state": {
            "_model_module": "@jupyter-widgets/base",
            "_model_module_version": "1.2.0",
            "_model_name": "LayoutModel",
            "_view_count": null,
            "_view_module": "@jupyter-widgets/base",
            "_view_module_version": "1.2.0",
            "_view_name": "LayoutView",
            "align_content": null,
            "align_items": null,
            "align_self": null,
            "border": null,
            "bottom": null,
            "display": "inline-flex",
            "flex": null,
            "flex_flow": "row wrap",
            "grid_area": null,
            "grid_auto_columns": null,
            "grid_auto_flow": null,
            "grid_auto_rows": null,
            "grid_column": null,
            "grid_gap": null,
            "grid_row": null,
            "grid_template_areas": null,
            "grid_template_columns": null,
            "grid_template_rows": null,
            "height": null,
            "justify_content": null,
            "justify_items": null,
            "left": null,
            "margin": null,
            "max_height": null,
            "max_width": null,
            "min_height": null,
            "min_width": null,
            "object_fit": null,
            "object_position": null,
            "order": null,
            "overflow": null,
            "overflow_x": null,
            "overflow_y": null,
            "padding": null,
            "right": null,
            "top": null,
            "visibility": "hidden",
            "width": "100%"
          }
        },
        "e2dadd2cf44a4a6fb60740f015f0b6d6": {
          "model_module": "@jupyter-widgets/base",
          "model_name": "LayoutModel",
          "model_module_version": "1.2.0",
          "state": {
            "_model_module": "@jupyter-widgets/base",
            "_model_module_version": "1.2.0",
            "_model_name": "LayoutModel",
            "_view_count": null,
            "_view_module": "@jupyter-widgets/base",
            "_view_module_version": "1.2.0",
            "_view_name": "LayoutView",
            "align_content": null,
            "align_items": null,
            "align_self": null,
            "border": null,
            "bottom": null,
            "display": null,
            "flex": null,
            "flex_flow": null,
            "grid_area": null,
            "grid_auto_columns": null,
            "grid_auto_flow": null,
            "grid_auto_rows": null,
            "grid_column": null,
            "grid_gap": null,
            "grid_row": null,
            "grid_template_areas": null,
            "grid_template_columns": null,
            "grid_template_rows": null,
            "height": null,
            "justify_content": null,
            "justify_items": null,
            "left": null,
            "margin": null,
            "max_height": null,
            "max_width": null,
            "min_height": null,
            "min_width": null,
            "object_fit": null,
            "object_position": null,
            "order": null,
            "overflow": null,
            "overflow_x": null,
            "overflow_y": null,
            "padding": null,
            "right": null,
            "top": null,
            "visibility": null,
            "width": null
          }
        },
        "94a62dba1ebd4fdd9e1c01f900679b17": {
          "model_module": "@jupyter-widgets/controls",
          "model_name": "DescriptionStyleModel",
          "model_module_version": "1.5.0",
          "state": {
            "_model_module": "@jupyter-widgets/controls",
            "_model_module_version": "1.5.0",
            "_model_name": "DescriptionStyleModel",
            "_view_count": null,
            "_view_module": "@jupyter-widgets/base",
            "_view_module_version": "1.2.0",
            "_view_name": "StyleView",
            "description_width": ""
          }
        },
        "0697d3102b3e4c6a9b0da3305d8ed48d": {
          "model_module": "@jupyter-widgets/base",
          "model_name": "LayoutModel",
          "model_module_version": "1.2.0",
          "state": {
            "_model_module": "@jupyter-widgets/base",
            "_model_module_version": "1.2.0",
            "_model_name": "LayoutModel",
            "_view_count": null,
            "_view_module": "@jupyter-widgets/base",
            "_view_module_version": "1.2.0",
            "_view_name": "LayoutView",
            "align_content": null,
            "align_items": null,
            "align_self": null,
            "border": null,
            "bottom": null,
            "display": null,
            "flex": "2",
            "flex_flow": null,
            "grid_area": null,
            "grid_auto_columns": null,
            "grid_auto_flow": null,
            "grid_auto_rows": null,
            "grid_column": null,
            "grid_gap": null,
            "grid_row": null,
            "grid_template_areas": null,
            "grid_template_columns": null,
            "grid_template_rows": null,
            "height": null,
            "justify_content": null,
            "justify_items": null,
            "left": null,
            "margin": null,
            "max_height": null,
            "max_width": null,
            "min_height": null,
            "min_width": null,
            "object_fit": null,
            "object_position": null,
            "order": null,
            "overflow": null,
            "overflow_x": null,
            "overflow_y": null,
            "padding": null,
            "right": null,
            "top": null,
            "visibility": null,
            "width": null
          }
        },
        "3b9f24d02346482c9b79b3294abe2538": {
          "model_module": "@jupyter-widgets/controls",
          "model_name": "ProgressStyleModel",
          "model_module_version": "1.5.0",
          "state": {
            "_model_module": "@jupyter-widgets/controls",
            "_model_module_version": "1.5.0",
            "_model_name": "ProgressStyleModel",
            "_view_count": null,
            "_view_module": "@jupyter-widgets/base",
            "_view_module_version": "1.2.0",
            "_view_name": "StyleView",
            "bar_color": null,
            "description_width": ""
          }
        },
        "0b16f0c157314346bd3d24a30d1ae9ae": {
          "model_module": "@jupyter-widgets/base",
          "model_name": "LayoutModel",
          "model_module_version": "1.2.0",
          "state": {
            "_model_module": "@jupyter-widgets/base",
            "_model_module_version": "1.2.0",
            "_model_name": "LayoutModel",
            "_view_count": null,
            "_view_module": "@jupyter-widgets/base",
            "_view_module_version": "1.2.0",
            "_view_name": "LayoutView",
            "align_content": null,
            "align_items": null,
            "align_self": null,
            "border": null,
            "bottom": null,
            "display": null,
            "flex": null,
            "flex_flow": null,
            "grid_area": null,
            "grid_auto_columns": null,
            "grid_auto_flow": null,
            "grid_auto_rows": null,
            "grid_column": null,
            "grid_gap": null,
            "grid_row": null,
            "grid_template_areas": null,
            "grid_template_columns": null,
            "grid_template_rows": null,
            "height": null,
            "justify_content": null,
            "justify_items": null,
            "left": null,
            "margin": null,
            "max_height": null,
            "max_width": null,
            "min_height": null,
            "min_width": null,
            "object_fit": null,
            "object_position": null,
            "order": null,
            "overflow": null,
            "overflow_x": null,
            "overflow_y": null,
            "padding": null,
            "right": null,
            "top": null,
            "visibility": null,
            "width": null
          }
        },
        "3a61d7e6dbf14a9d9e6c1dbab6b513b1": {
          "model_module": "@jupyter-widgets/controls",
          "model_name": "DescriptionStyleModel",
          "model_module_version": "1.5.0",
          "state": {
            "_model_module": "@jupyter-widgets/controls",
            "_model_module_version": "1.5.0",
            "_model_name": "DescriptionStyleModel",
            "_view_count": null,
            "_view_module": "@jupyter-widgets/base",
            "_view_module_version": "1.2.0",
            "_view_name": "StyleView",
            "description_width": ""
          }
        },
        "949aa10ffab743818730f0bf431fc7d0": {
          "model_module": "@jupyter-widgets/controls",
          "model_name": "HBoxModel",
          "model_module_version": "1.5.0",
          "state": {
            "_dom_classes": [],
            "_model_module": "@jupyter-widgets/controls",
            "_model_module_version": "1.5.0",
            "_model_name": "HBoxModel",
            "_view_count": null,
            "_view_module": "@jupyter-widgets/controls",
            "_view_module_version": "1.5.0",
            "_view_name": "HBoxView",
            "box_style": "",
            "children": [
              "IPY_MODEL_6e4e25876f954a2fbc344f8776845c17",
              "IPY_MODEL_0326924906b44cdbb75b83120d0042ab",
              "IPY_MODEL_b8d5da97e3894b3d843058919ab38f17"
            ],
            "layout": "IPY_MODEL_ed8804b3610446e8956e73d1f1e69957"
          }
        },
        "6e4e25876f954a2fbc344f8776845c17": {
          "model_module": "@jupyter-widgets/controls",
          "model_name": "HTMLModel",
          "model_module_version": "1.5.0",
          "state": {
            "_dom_classes": [],
            "_model_module": "@jupyter-widgets/controls",
            "_model_module_version": "1.5.0",
            "_model_name": "HTMLModel",
            "_view_count": null,
            "_view_module": "@jupyter-widgets/controls",
            "_view_module_version": "1.5.0",
            "_view_name": "HTMLView",
            "description": "",
            "description_tooltip": null,
            "layout": "IPY_MODEL_c137c70c469c470a95305a79dbf09249",
            "placeholder": "​",
            "style": "IPY_MODEL_9b5240737ec14e4596f926b0634c9d4a",
            "value": "Validation DataLoader 0: 100%"
          }
        },
        "0326924906b44cdbb75b83120d0042ab": {
          "model_module": "@jupyter-widgets/controls",
          "model_name": "FloatProgressModel",
          "model_module_version": "1.5.0",
          "state": {
            "_dom_classes": [],
            "_model_module": "@jupyter-widgets/controls",
            "_model_module_version": "1.5.0",
            "_model_name": "FloatProgressModel",
            "_view_count": null,
            "_view_module": "@jupyter-widgets/controls",
            "_view_module_version": "1.5.0",
            "_view_name": "ProgressView",
            "bar_style": "",
            "description": "",
            "description_tooltip": null,
            "layout": "IPY_MODEL_0e21c38bc49e46f79b4ac780ae4c32a2",
            "max": 24,
            "min": 0,
            "orientation": "horizontal",
            "style": "IPY_MODEL_396a13fdb2124dd79636192089827d48",
            "value": 24
          }
        },
        "b8d5da97e3894b3d843058919ab38f17": {
          "model_module": "@jupyter-widgets/controls",
          "model_name": "HTMLModel",
          "model_module_version": "1.5.0",
          "state": {
            "_dom_classes": [],
            "_model_module": "@jupyter-widgets/controls",
            "_model_module_version": "1.5.0",
            "_model_name": "HTMLModel",
            "_view_count": null,
            "_view_module": "@jupyter-widgets/controls",
            "_view_module_version": "1.5.0",
            "_view_name": "HTMLView",
            "description": "",
            "description_tooltip": null,
            "layout": "IPY_MODEL_ffaeeeaedddf4a12aeebc067ad484fd9",
            "placeholder": "​",
            "style": "IPY_MODEL_89fa22c1894d4a55aba2b3a66186014e",
            "value": " 24/24 [00:03&lt;00:00,  6.23it/s]"
          }
        },
        "ed8804b3610446e8956e73d1f1e69957": {
          "model_module": "@jupyter-widgets/base",
          "model_name": "LayoutModel",
          "model_module_version": "1.2.0",
          "state": {
            "_model_module": "@jupyter-widgets/base",
            "_model_module_version": "1.2.0",
            "_model_name": "LayoutModel",
            "_view_count": null,
            "_view_module": "@jupyter-widgets/base",
            "_view_module_version": "1.2.0",
            "_view_name": "LayoutView",
            "align_content": null,
            "align_items": null,
            "align_self": null,
            "border": null,
            "bottom": null,
            "display": "inline-flex",
            "flex": null,
            "flex_flow": "row wrap",
            "grid_area": null,
            "grid_auto_columns": null,
            "grid_auto_flow": null,
            "grid_auto_rows": null,
            "grid_column": null,
            "grid_gap": null,
            "grid_row": null,
            "grid_template_areas": null,
            "grid_template_columns": null,
            "grid_template_rows": null,
            "height": null,
            "justify_content": null,
            "justify_items": null,
            "left": null,
            "margin": null,
            "max_height": null,
            "max_width": null,
            "min_height": null,
            "min_width": null,
            "object_fit": null,
            "object_position": null,
            "order": null,
            "overflow": null,
            "overflow_x": null,
            "overflow_y": null,
            "padding": null,
            "right": null,
            "top": null,
            "visibility": "hidden",
            "width": "100%"
          }
        },
        "c137c70c469c470a95305a79dbf09249": {
          "model_module": "@jupyter-widgets/base",
          "model_name": "LayoutModel",
          "model_module_version": "1.2.0",
          "state": {
            "_model_module": "@jupyter-widgets/base",
            "_model_module_version": "1.2.0",
            "_model_name": "LayoutModel",
            "_view_count": null,
            "_view_module": "@jupyter-widgets/base",
            "_view_module_version": "1.2.0",
            "_view_name": "LayoutView",
            "align_content": null,
            "align_items": null,
            "align_self": null,
            "border": null,
            "bottom": null,
            "display": null,
            "flex": null,
            "flex_flow": null,
            "grid_area": null,
            "grid_auto_columns": null,
            "grid_auto_flow": null,
            "grid_auto_rows": null,
            "grid_column": null,
            "grid_gap": null,
            "grid_row": null,
            "grid_template_areas": null,
            "grid_template_columns": null,
            "grid_template_rows": null,
            "height": null,
            "justify_content": null,
            "justify_items": null,
            "left": null,
            "margin": null,
            "max_height": null,
            "max_width": null,
            "min_height": null,
            "min_width": null,
            "object_fit": null,
            "object_position": null,
            "order": null,
            "overflow": null,
            "overflow_x": null,
            "overflow_y": null,
            "padding": null,
            "right": null,
            "top": null,
            "visibility": null,
            "width": null
          }
        },
        "9b5240737ec14e4596f926b0634c9d4a": {
          "model_module": "@jupyter-widgets/controls",
          "model_name": "DescriptionStyleModel",
          "model_module_version": "1.5.0",
          "state": {
            "_model_module": "@jupyter-widgets/controls",
            "_model_module_version": "1.5.0",
            "_model_name": "DescriptionStyleModel",
            "_view_count": null,
            "_view_module": "@jupyter-widgets/base",
            "_view_module_version": "1.2.0",
            "_view_name": "StyleView",
            "description_width": ""
          }
        },
        "0e21c38bc49e46f79b4ac780ae4c32a2": {
          "model_module": "@jupyter-widgets/base",
          "model_name": "LayoutModel",
          "model_module_version": "1.2.0",
          "state": {
            "_model_module": "@jupyter-widgets/base",
            "_model_module_version": "1.2.0",
            "_model_name": "LayoutModel",
            "_view_count": null,
            "_view_module": "@jupyter-widgets/base",
            "_view_module_version": "1.2.0",
            "_view_name": "LayoutView",
            "align_content": null,
            "align_items": null,
            "align_self": null,
            "border": null,
            "bottom": null,
            "display": null,
            "flex": "2",
            "flex_flow": null,
            "grid_area": null,
            "grid_auto_columns": null,
            "grid_auto_flow": null,
            "grid_auto_rows": null,
            "grid_column": null,
            "grid_gap": null,
            "grid_row": null,
            "grid_template_areas": null,
            "grid_template_columns": null,
            "grid_template_rows": null,
            "height": null,
            "justify_content": null,
            "justify_items": null,
            "left": null,
            "margin": null,
            "max_height": null,
            "max_width": null,
            "min_height": null,
            "min_width": null,
            "object_fit": null,
            "object_position": null,
            "order": null,
            "overflow": null,
            "overflow_x": null,
            "overflow_y": null,
            "padding": null,
            "right": null,
            "top": null,
            "visibility": null,
            "width": null
          }
        },
        "396a13fdb2124dd79636192089827d48": {
          "model_module": "@jupyter-widgets/controls",
          "model_name": "ProgressStyleModel",
          "model_module_version": "1.5.0",
          "state": {
            "_model_module": "@jupyter-widgets/controls",
            "_model_module_version": "1.5.0",
            "_model_name": "ProgressStyleModel",
            "_view_count": null,
            "_view_module": "@jupyter-widgets/base",
            "_view_module_version": "1.2.0",
            "_view_name": "StyleView",
            "bar_color": null,
            "description_width": ""
          }
        },
        "ffaeeeaedddf4a12aeebc067ad484fd9": {
          "model_module": "@jupyter-widgets/base",
          "model_name": "LayoutModel",
          "model_module_version": "1.2.0",
          "state": {
            "_model_module": "@jupyter-widgets/base",
            "_model_module_version": "1.2.0",
            "_model_name": "LayoutModel",
            "_view_count": null,
            "_view_module": "@jupyter-widgets/base",
            "_view_module_version": "1.2.0",
            "_view_name": "LayoutView",
            "align_content": null,
            "align_items": null,
            "align_self": null,
            "border": null,
            "bottom": null,
            "display": null,
            "flex": null,
            "flex_flow": null,
            "grid_area": null,
            "grid_auto_columns": null,
            "grid_auto_flow": null,
            "grid_auto_rows": null,
            "grid_column": null,
            "grid_gap": null,
            "grid_row": null,
            "grid_template_areas": null,
            "grid_template_columns": null,
            "grid_template_rows": null,
            "height": null,
            "justify_content": null,
            "justify_items": null,
            "left": null,
            "margin": null,
            "max_height": null,
            "max_width": null,
            "min_height": null,
            "min_width": null,
            "object_fit": null,
            "object_position": null,
            "order": null,
            "overflow": null,
            "overflow_x": null,
            "overflow_y": null,
            "padding": null,
            "right": null,
            "top": null,
            "visibility": null,
            "width": null
          }
        },
        "89fa22c1894d4a55aba2b3a66186014e": {
          "model_module": "@jupyter-widgets/controls",
          "model_name": "DescriptionStyleModel",
          "model_module_version": "1.5.0",
          "state": {
            "_model_module": "@jupyter-widgets/controls",
            "_model_module_version": "1.5.0",
            "_model_name": "DescriptionStyleModel",
            "_view_count": null,
            "_view_module": "@jupyter-widgets/base",
            "_view_module_version": "1.2.0",
            "_view_name": "StyleView",
            "description_width": ""
          }
        },
        "602aa1adaaf24c608f3295d05bad394e": {
          "model_module": "@jupyter-widgets/controls",
          "model_name": "HBoxModel",
          "model_module_version": "1.5.0",
          "state": {
            "_dom_classes": [],
            "_model_module": "@jupyter-widgets/controls",
            "_model_module_version": "1.5.0",
            "_model_name": "HBoxModel",
            "_view_count": null,
            "_view_module": "@jupyter-widgets/controls",
            "_view_module_version": "1.5.0",
            "_view_name": "HBoxView",
            "box_style": "",
            "children": [
              "IPY_MODEL_047987df8daf47f793c51b274f1816d6",
              "IPY_MODEL_832a132d0f1f4483b93be25f1810802b",
              "IPY_MODEL_306672e181c643f18e7f130f93a346fb"
            ],
            "layout": "IPY_MODEL_173f53a149a34b48aae79730c41a81c9"
          }
        },
        "047987df8daf47f793c51b274f1816d6": {
          "model_module": "@jupyter-widgets/controls",
          "model_name": "HTMLModel",
          "model_module_version": "1.5.0",
          "state": {
            "_dom_classes": [],
            "_model_module": "@jupyter-widgets/controls",
            "_model_module_version": "1.5.0",
            "_model_name": "HTMLModel",
            "_view_count": null,
            "_view_module": "@jupyter-widgets/controls",
            "_view_module_version": "1.5.0",
            "_view_name": "HTMLView",
            "description": "",
            "description_tooltip": null,
            "layout": "IPY_MODEL_0ceb990be0e94e8eb7bbffcb8b666787",
            "placeholder": "​",
            "style": "IPY_MODEL_8ded33a3382044afadd0783c1f365279",
            "value": "Validation DataLoader 0: 100%"
          }
        },
        "832a132d0f1f4483b93be25f1810802b": {
          "model_module": "@jupyter-widgets/controls",
          "model_name": "FloatProgressModel",
          "model_module_version": "1.5.0",
          "state": {
            "_dom_classes": [],
            "_model_module": "@jupyter-widgets/controls",
            "_model_module_version": "1.5.0",
            "_model_name": "FloatProgressModel",
            "_view_count": null,
            "_view_module": "@jupyter-widgets/controls",
            "_view_module_version": "1.5.0",
            "_view_name": "ProgressView",
            "bar_style": "",
            "description": "",
            "description_tooltip": null,
            "layout": "IPY_MODEL_a0b88f5fe40f46f9b70ba344aa306ae0",
            "max": 24,
            "min": 0,
            "orientation": "horizontal",
            "style": "IPY_MODEL_8077df7f1b264e5a984a13bfe5ddac9a",
            "value": 24
          }
        },
        "306672e181c643f18e7f130f93a346fb": {
          "model_module": "@jupyter-widgets/controls",
          "model_name": "HTMLModel",
          "model_module_version": "1.5.0",
          "state": {
            "_dom_classes": [],
            "_model_module": "@jupyter-widgets/controls",
            "_model_module_version": "1.5.0",
            "_model_name": "HTMLModel",
            "_view_count": null,
            "_view_module": "@jupyter-widgets/controls",
            "_view_module_version": "1.5.0",
            "_view_name": "HTMLView",
            "description": "",
            "description_tooltip": null,
            "layout": "IPY_MODEL_bbd2e9ec95ba486bbe0a82c69afc20a4",
            "placeholder": "​",
            "style": "IPY_MODEL_c80d67bb49754aa08ee4baf2e54241d9",
            "value": " 24/24 [00:03&lt;00:00,  6.03it/s]"
          }
        },
        "173f53a149a34b48aae79730c41a81c9": {
          "model_module": "@jupyter-widgets/base",
          "model_name": "LayoutModel",
          "model_module_version": "1.2.0",
          "state": {
            "_model_module": "@jupyter-widgets/base",
            "_model_module_version": "1.2.0",
            "_model_name": "LayoutModel",
            "_view_count": null,
            "_view_module": "@jupyter-widgets/base",
            "_view_module_version": "1.2.0",
            "_view_name": "LayoutView",
            "align_content": null,
            "align_items": null,
            "align_self": null,
            "border": null,
            "bottom": null,
            "display": "inline-flex",
            "flex": null,
            "flex_flow": "row wrap",
            "grid_area": null,
            "grid_auto_columns": null,
            "grid_auto_flow": null,
            "grid_auto_rows": null,
            "grid_column": null,
            "grid_gap": null,
            "grid_row": null,
            "grid_template_areas": null,
            "grid_template_columns": null,
            "grid_template_rows": null,
            "height": null,
            "justify_content": null,
            "justify_items": null,
            "left": null,
            "margin": null,
            "max_height": null,
            "max_width": null,
            "min_height": null,
            "min_width": null,
            "object_fit": null,
            "object_position": null,
            "order": null,
            "overflow": null,
            "overflow_x": null,
            "overflow_y": null,
            "padding": null,
            "right": null,
            "top": null,
            "visibility": "hidden",
            "width": "100%"
          }
        },
        "0ceb990be0e94e8eb7bbffcb8b666787": {
          "model_module": "@jupyter-widgets/base",
          "model_name": "LayoutModel",
          "model_module_version": "1.2.0",
          "state": {
            "_model_module": "@jupyter-widgets/base",
            "_model_module_version": "1.2.0",
            "_model_name": "LayoutModel",
            "_view_count": null,
            "_view_module": "@jupyter-widgets/base",
            "_view_module_version": "1.2.0",
            "_view_name": "LayoutView",
            "align_content": null,
            "align_items": null,
            "align_self": null,
            "border": null,
            "bottom": null,
            "display": null,
            "flex": null,
            "flex_flow": null,
            "grid_area": null,
            "grid_auto_columns": null,
            "grid_auto_flow": null,
            "grid_auto_rows": null,
            "grid_column": null,
            "grid_gap": null,
            "grid_row": null,
            "grid_template_areas": null,
            "grid_template_columns": null,
            "grid_template_rows": null,
            "height": null,
            "justify_content": null,
            "justify_items": null,
            "left": null,
            "margin": null,
            "max_height": null,
            "max_width": null,
            "min_height": null,
            "min_width": null,
            "object_fit": null,
            "object_position": null,
            "order": null,
            "overflow": null,
            "overflow_x": null,
            "overflow_y": null,
            "padding": null,
            "right": null,
            "top": null,
            "visibility": null,
            "width": null
          }
        },
        "8ded33a3382044afadd0783c1f365279": {
          "model_module": "@jupyter-widgets/controls",
          "model_name": "DescriptionStyleModel",
          "model_module_version": "1.5.0",
          "state": {
            "_model_module": "@jupyter-widgets/controls",
            "_model_module_version": "1.5.0",
            "_model_name": "DescriptionStyleModel",
            "_view_count": null,
            "_view_module": "@jupyter-widgets/base",
            "_view_module_version": "1.2.0",
            "_view_name": "StyleView",
            "description_width": ""
          }
        },
        "a0b88f5fe40f46f9b70ba344aa306ae0": {
          "model_module": "@jupyter-widgets/base",
          "model_name": "LayoutModel",
          "model_module_version": "1.2.0",
          "state": {
            "_model_module": "@jupyter-widgets/base",
            "_model_module_version": "1.2.0",
            "_model_name": "LayoutModel",
            "_view_count": null,
            "_view_module": "@jupyter-widgets/base",
            "_view_module_version": "1.2.0",
            "_view_name": "LayoutView",
            "align_content": null,
            "align_items": null,
            "align_self": null,
            "border": null,
            "bottom": null,
            "display": null,
            "flex": "2",
            "flex_flow": null,
            "grid_area": null,
            "grid_auto_columns": null,
            "grid_auto_flow": null,
            "grid_auto_rows": null,
            "grid_column": null,
            "grid_gap": null,
            "grid_row": null,
            "grid_template_areas": null,
            "grid_template_columns": null,
            "grid_template_rows": null,
            "height": null,
            "justify_content": null,
            "justify_items": null,
            "left": null,
            "margin": null,
            "max_height": null,
            "max_width": null,
            "min_height": null,
            "min_width": null,
            "object_fit": null,
            "object_position": null,
            "order": null,
            "overflow": null,
            "overflow_x": null,
            "overflow_y": null,
            "padding": null,
            "right": null,
            "top": null,
            "visibility": null,
            "width": null
          }
        },
        "8077df7f1b264e5a984a13bfe5ddac9a": {
          "model_module": "@jupyter-widgets/controls",
          "model_name": "ProgressStyleModel",
          "model_module_version": "1.5.0",
          "state": {
            "_model_module": "@jupyter-widgets/controls",
            "_model_module_version": "1.5.0",
            "_model_name": "ProgressStyleModel",
            "_view_count": null,
            "_view_module": "@jupyter-widgets/base",
            "_view_module_version": "1.2.0",
            "_view_name": "StyleView",
            "bar_color": null,
            "description_width": ""
          }
        },
        "bbd2e9ec95ba486bbe0a82c69afc20a4": {
          "model_module": "@jupyter-widgets/base",
          "model_name": "LayoutModel",
          "model_module_version": "1.2.0",
          "state": {
            "_model_module": "@jupyter-widgets/base",
            "_model_module_version": "1.2.0",
            "_model_name": "LayoutModel",
            "_view_count": null,
            "_view_module": "@jupyter-widgets/base",
            "_view_module_version": "1.2.0",
            "_view_name": "LayoutView",
            "align_content": null,
            "align_items": null,
            "align_self": null,
            "border": null,
            "bottom": null,
            "display": null,
            "flex": null,
            "flex_flow": null,
            "grid_area": null,
            "grid_auto_columns": null,
            "grid_auto_flow": null,
            "grid_auto_rows": null,
            "grid_column": null,
            "grid_gap": null,
            "grid_row": null,
            "grid_template_areas": null,
            "grid_template_columns": null,
            "grid_template_rows": null,
            "height": null,
            "justify_content": null,
            "justify_items": null,
            "left": null,
            "margin": null,
            "max_height": null,
            "max_width": null,
            "min_height": null,
            "min_width": null,
            "object_fit": null,
            "object_position": null,
            "order": null,
            "overflow": null,
            "overflow_x": null,
            "overflow_y": null,
            "padding": null,
            "right": null,
            "top": null,
            "visibility": null,
            "width": null
          }
        },
        "c80d67bb49754aa08ee4baf2e54241d9": {
          "model_module": "@jupyter-widgets/controls",
          "model_name": "DescriptionStyleModel",
          "model_module_version": "1.5.0",
          "state": {
            "_model_module": "@jupyter-widgets/controls",
            "_model_module_version": "1.5.0",
            "_model_name": "DescriptionStyleModel",
            "_view_count": null,
            "_view_module": "@jupyter-widgets/base",
            "_view_module_version": "1.2.0",
            "_view_name": "StyleView",
            "description_width": ""
          }
        },
        "9d822f02340b4626a12f6129adc44de9": {
          "model_module": "@jupyter-widgets/controls",
          "model_name": "HBoxModel",
          "model_module_version": "1.5.0",
          "state": {
            "_dom_classes": [],
            "_model_module": "@jupyter-widgets/controls",
            "_model_module_version": "1.5.0",
            "_model_name": "HBoxModel",
            "_view_count": null,
            "_view_module": "@jupyter-widgets/controls",
            "_view_module_version": "1.5.0",
            "_view_name": "HBoxView",
            "box_style": "",
            "children": [
              "IPY_MODEL_e35c0a4cd1664e2d9682755ce5ae21dd",
              "IPY_MODEL_8c353c7c2ece4eaf94455d9398470c67",
              "IPY_MODEL_3406263f0502471888e86c71339b34e0"
            ],
            "layout": "IPY_MODEL_aa6b83bd51774aac8e2e61b0acecbc86"
          }
        },
        "e35c0a4cd1664e2d9682755ce5ae21dd": {
          "model_module": "@jupyter-widgets/controls",
          "model_name": "HTMLModel",
          "model_module_version": "1.5.0",
          "state": {
            "_dom_classes": [],
            "_model_module": "@jupyter-widgets/controls",
            "_model_module_version": "1.5.0",
            "_model_name": "HTMLModel",
            "_view_count": null,
            "_view_module": "@jupyter-widgets/controls",
            "_view_module_version": "1.5.0",
            "_view_name": "HTMLView",
            "description": "",
            "description_tooltip": null,
            "layout": "IPY_MODEL_6a20fe824aa745228d29beb5e7fa2b3a",
            "placeholder": "​",
            "style": "IPY_MODEL_8ac5865b529146efa32ab843ee82d6bf",
            "value": "Validation DataLoader 0: 100%"
          }
        },
        "8c353c7c2ece4eaf94455d9398470c67": {
          "model_module": "@jupyter-widgets/controls",
          "model_name": "FloatProgressModel",
          "model_module_version": "1.5.0",
          "state": {
            "_dom_classes": [],
            "_model_module": "@jupyter-widgets/controls",
            "_model_module_version": "1.5.0",
            "_model_name": "FloatProgressModel",
            "_view_count": null,
            "_view_module": "@jupyter-widgets/controls",
            "_view_module_version": "1.5.0",
            "_view_name": "ProgressView",
            "bar_style": "",
            "description": "",
            "description_tooltip": null,
            "layout": "IPY_MODEL_20083cc7e922466fb8d89a607457bbce",
            "max": 24,
            "min": 0,
            "orientation": "horizontal",
            "style": "IPY_MODEL_7307571ad51249b18984a0b384167465",
            "value": 24
          }
        },
        "3406263f0502471888e86c71339b34e0": {
          "model_module": "@jupyter-widgets/controls",
          "model_name": "HTMLModel",
          "model_module_version": "1.5.0",
          "state": {
            "_dom_classes": [],
            "_model_module": "@jupyter-widgets/controls",
            "_model_module_version": "1.5.0",
            "_model_name": "HTMLModel",
            "_view_count": null,
            "_view_module": "@jupyter-widgets/controls",
            "_view_module_version": "1.5.0",
            "_view_name": "HTMLView",
            "description": "",
            "description_tooltip": null,
            "layout": "IPY_MODEL_c22272fe491d47848b3f3a58da0abdcc",
            "placeholder": "​",
            "style": "IPY_MODEL_e13e98cc04194c3ca8662cdf2ee47a2a",
            "value": " 24/24 [00:03&lt;00:00,  6.16it/s]"
          }
        },
        "aa6b83bd51774aac8e2e61b0acecbc86": {
          "model_module": "@jupyter-widgets/base",
          "model_name": "LayoutModel",
          "model_module_version": "1.2.0",
          "state": {
            "_model_module": "@jupyter-widgets/base",
            "_model_module_version": "1.2.0",
            "_model_name": "LayoutModel",
            "_view_count": null,
            "_view_module": "@jupyter-widgets/base",
            "_view_module_version": "1.2.0",
            "_view_name": "LayoutView",
            "align_content": null,
            "align_items": null,
            "align_self": null,
            "border": null,
            "bottom": null,
            "display": "inline-flex",
            "flex": null,
            "flex_flow": "row wrap",
            "grid_area": null,
            "grid_auto_columns": null,
            "grid_auto_flow": null,
            "grid_auto_rows": null,
            "grid_column": null,
            "grid_gap": null,
            "grid_row": null,
            "grid_template_areas": null,
            "grid_template_columns": null,
            "grid_template_rows": null,
            "height": null,
            "justify_content": null,
            "justify_items": null,
            "left": null,
            "margin": null,
            "max_height": null,
            "max_width": null,
            "min_height": null,
            "min_width": null,
            "object_fit": null,
            "object_position": null,
            "order": null,
            "overflow": null,
            "overflow_x": null,
            "overflow_y": null,
            "padding": null,
            "right": null,
            "top": null,
            "visibility": "hidden",
            "width": "100%"
          }
        },
        "6a20fe824aa745228d29beb5e7fa2b3a": {
          "model_module": "@jupyter-widgets/base",
          "model_name": "LayoutModel",
          "model_module_version": "1.2.0",
          "state": {
            "_model_module": "@jupyter-widgets/base",
            "_model_module_version": "1.2.0",
            "_model_name": "LayoutModel",
            "_view_count": null,
            "_view_module": "@jupyter-widgets/base",
            "_view_module_version": "1.2.0",
            "_view_name": "LayoutView",
            "align_content": null,
            "align_items": null,
            "align_self": null,
            "border": null,
            "bottom": null,
            "display": null,
            "flex": null,
            "flex_flow": null,
            "grid_area": null,
            "grid_auto_columns": null,
            "grid_auto_flow": null,
            "grid_auto_rows": null,
            "grid_column": null,
            "grid_gap": null,
            "grid_row": null,
            "grid_template_areas": null,
            "grid_template_columns": null,
            "grid_template_rows": null,
            "height": null,
            "justify_content": null,
            "justify_items": null,
            "left": null,
            "margin": null,
            "max_height": null,
            "max_width": null,
            "min_height": null,
            "min_width": null,
            "object_fit": null,
            "object_position": null,
            "order": null,
            "overflow": null,
            "overflow_x": null,
            "overflow_y": null,
            "padding": null,
            "right": null,
            "top": null,
            "visibility": null,
            "width": null
          }
        },
        "8ac5865b529146efa32ab843ee82d6bf": {
          "model_module": "@jupyter-widgets/controls",
          "model_name": "DescriptionStyleModel",
          "model_module_version": "1.5.0",
          "state": {
            "_model_module": "@jupyter-widgets/controls",
            "_model_module_version": "1.5.0",
            "_model_name": "DescriptionStyleModel",
            "_view_count": null,
            "_view_module": "@jupyter-widgets/base",
            "_view_module_version": "1.2.0",
            "_view_name": "StyleView",
            "description_width": ""
          }
        },
        "20083cc7e922466fb8d89a607457bbce": {
          "model_module": "@jupyter-widgets/base",
          "model_name": "LayoutModel",
          "model_module_version": "1.2.0",
          "state": {
            "_model_module": "@jupyter-widgets/base",
            "_model_module_version": "1.2.0",
            "_model_name": "LayoutModel",
            "_view_count": null,
            "_view_module": "@jupyter-widgets/base",
            "_view_module_version": "1.2.0",
            "_view_name": "LayoutView",
            "align_content": null,
            "align_items": null,
            "align_self": null,
            "border": null,
            "bottom": null,
            "display": null,
            "flex": "2",
            "flex_flow": null,
            "grid_area": null,
            "grid_auto_columns": null,
            "grid_auto_flow": null,
            "grid_auto_rows": null,
            "grid_column": null,
            "grid_gap": null,
            "grid_row": null,
            "grid_template_areas": null,
            "grid_template_columns": null,
            "grid_template_rows": null,
            "height": null,
            "justify_content": null,
            "justify_items": null,
            "left": null,
            "margin": null,
            "max_height": null,
            "max_width": null,
            "min_height": null,
            "min_width": null,
            "object_fit": null,
            "object_position": null,
            "order": null,
            "overflow": null,
            "overflow_x": null,
            "overflow_y": null,
            "padding": null,
            "right": null,
            "top": null,
            "visibility": null,
            "width": null
          }
        },
        "7307571ad51249b18984a0b384167465": {
          "model_module": "@jupyter-widgets/controls",
          "model_name": "ProgressStyleModel",
          "model_module_version": "1.5.0",
          "state": {
            "_model_module": "@jupyter-widgets/controls",
            "_model_module_version": "1.5.0",
            "_model_name": "ProgressStyleModel",
            "_view_count": null,
            "_view_module": "@jupyter-widgets/base",
            "_view_module_version": "1.2.0",
            "_view_name": "StyleView",
            "bar_color": null,
            "description_width": ""
          }
        },
        "c22272fe491d47848b3f3a58da0abdcc": {
          "model_module": "@jupyter-widgets/base",
          "model_name": "LayoutModel",
          "model_module_version": "1.2.0",
          "state": {
            "_model_module": "@jupyter-widgets/base",
            "_model_module_version": "1.2.0",
            "_model_name": "LayoutModel",
            "_view_count": null,
            "_view_module": "@jupyter-widgets/base",
            "_view_module_version": "1.2.0",
            "_view_name": "LayoutView",
            "align_content": null,
            "align_items": null,
            "align_self": null,
            "border": null,
            "bottom": null,
            "display": null,
            "flex": null,
            "flex_flow": null,
            "grid_area": null,
            "grid_auto_columns": null,
            "grid_auto_flow": null,
            "grid_auto_rows": null,
            "grid_column": null,
            "grid_gap": null,
            "grid_row": null,
            "grid_template_areas": null,
            "grid_template_columns": null,
            "grid_template_rows": null,
            "height": null,
            "justify_content": null,
            "justify_items": null,
            "left": null,
            "margin": null,
            "max_height": null,
            "max_width": null,
            "min_height": null,
            "min_width": null,
            "object_fit": null,
            "object_position": null,
            "order": null,
            "overflow": null,
            "overflow_x": null,
            "overflow_y": null,
            "padding": null,
            "right": null,
            "top": null,
            "visibility": null,
            "width": null
          }
        },
        "e13e98cc04194c3ca8662cdf2ee47a2a": {
          "model_module": "@jupyter-widgets/controls",
          "model_name": "DescriptionStyleModel",
          "model_module_version": "1.5.0",
          "state": {
            "_model_module": "@jupyter-widgets/controls",
            "_model_module_version": "1.5.0",
            "_model_name": "DescriptionStyleModel",
            "_view_count": null,
            "_view_module": "@jupyter-widgets/base",
            "_view_module_version": "1.2.0",
            "_view_name": "StyleView",
            "description_width": ""
          }
        },
        "27f99456a29f498f8f5563d70708c09d": {
          "model_module": "@jupyter-widgets/controls",
          "model_name": "HBoxModel",
          "model_module_version": "1.5.0",
          "state": {
            "_dom_classes": [],
            "_model_module": "@jupyter-widgets/controls",
            "_model_module_version": "1.5.0",
            "_model_name": "HBoxModel",
            "_view_count": null,
            "_view_module": "@jupyter-widgets/controls",
            "_view_module_version": "1.5.0",
            "_view_name": "HBoxView",
            "box_style": "",
            "children": [
              "IPY_MODEL_d50150fc5e9a477ba2f8c6332d38f8ae",
              "IPY_MODEL_c4384d92c62b4bec99e93283c9667492",
              "IPY_MODEL_2f60331520b642b8b8942acbc152eca6"
            ],
            "layout": "IPY_MODEL_376664a200d84dfcbadaad5f10be89f0"
          }
        },
        "d50150fc5e9a477ba2f8c6332d38f8ae": {
          "model_module": "@jupyter-widgets/controls",
          "model_name": "HTMLModel",
          "model_module_version": "1.5.0",
          "state": {
            "_dom_classes": [],
            "_model_module": "@jupyter-widgets/controls",
            "_model_module_version": "1.5.0",
            "_model_name": "HTMLModel",
            "_view_count": null,
            "_view_module": "@jupyter-widgets/controls",
            "_view_module_version": "1.5.0",
            "_view_name": "HTMLView",
            "description": "",
            "description_tooltip": null,
            "layout": "IPY_MODEL_6ff0ccd91ba745a2b0f68695e37214d4",
            "placeholder": "​",
            "style": "IPY_MODEL_877696a5c3664e85825a91398071da27",
            "value": "Validation DataLoader 0: 100%"
          }
        },
        "c4384d92c62b4bec99e93283c9667492": {
          "model_module": "@jupyter-widgets/controls",
          "model_name": "FloatProgressModel",
          "model_module_version": "1.5.0",
          "state": {
            "_dom_classes": [],
            "_model_module": "@jupyter-widgets/controls",
            "_model_module_version": "1.5.0",
            "_model_name": "FloatProgressModel",
            "_view_count": null,
            "_view_module": "@jupyter-widgets/controls",
            "_view_module_version": "1.5.0",
            "_view_name": "ProgressView",
            "bar_style": "",
            "description": "",
            "description_tooltip": null,
            "layout": "IPY_MODEL_f726f00bc18647d5835a0c34073e4f30",
            "max": 24,
            "min": 0,
            "orientation": "horizontal",
            "style": "IPY_MODEL_ac8184f8fd5e48a7b1f96949ee6dc61f",
            "value": 24
          }
        },
        "2f60331520b642b8b8942acbc152eca6": {
          "model_module": "@jupyter-widgets/controls",
          "model_name": "HTMLModel",
          "model_module_version": "1.5.0",
          "state": {
            "_dom_classes": [],
            "_model_module": "@jupyter-widgets/controls",
            "_model_module_version": "1.5.0",
            "_model_name": "HTMLModel",
            "_view_count": null,
            "_view_module": "@jupyter-widgets/controls",
            "_view_module_version": "1.5.0",
            "_view_name": "HTMLView",
            "description": "",
            "description_tooltip": null,
            "layout": "IPY_MODEL_a1e25ba67d2d4bbcbf14a4d32caeb480",
            "placeholder": "​",
            "style": "IPY_MODEL_461dd19133224eb7aee9c41229ddc91d",
            "value": " 24/24 [00:03&lt;00:00,  6.30it/s]"
          }
        },
        "376664a200d84dfcbadaad5f10be89f0": {
          "model_module": "@jupyter-widgets/base",
          "model_name": "LayoutModel",
          "model_module_version": "1.2.0",
          "state": {
            "_model_module": "@jupyter-widgets/base",
            "_model_module_version": "1.2.0",
            "_model_name": "LayoutModel",
            "_view_count": null,
            "_view_module": "@jupyter-widgets/base",
            "_view_module_version": "1.2.0",
            "_view_name": "LayoutView",
            "align_content": null,
            "align_items": null,
            "align_self": null,
            "border": null,
            "bottom": null,
            "display": "inline-flex",
            "flex": null,
            "flex_flow": "row wrap",
            "grid_area": null,
            "grid_auto_columns": null,
            "grid_auto_flow": null,
            "grid_auto_rows": null,
            "grid_column": null,
            "grid_gap": null,
            "grid_row": null,
            "grid_template_areas": null,
            "grid_template_columns": null,
            "grid_template_rows": null,
            "height": null,
            "justify_content": null,
            "justify_items": null,
            "left": null,
            "margin": null,
            "max_height": null,
            "max_width": null,
            "min_height": null,
            "min_width": null,
            "object_fit": null,
            "object_position": null,
            "order": null,
            "overflow": null,
            "overflow_x": null,
            "overflow_y": null,
            "padding": null,
            "right": null,
            "top": null,
            "visibility": "hidden",
            "width": "100%"
          }
        },
        "6ff0ccd91ba745a2b0f68695e37214d4": {
          "model_module": "@jupyter-widgets/base",
          "model_name": "LayoutModel",
          "model_module_version": "1.2.0",
          "state": {
            "_model_module": "@jupyter-widgets/base",
            "_model_module_version": "1.2.0",
            "_model_name": "LayoutModel",
            "_view_count": null,
            "_view_module": "@jupyter-widgets/base",
            "_view_module_version": "1.2.0",
            "_view_name": "LayoutView",
            "align_content": null,
            "align_items": null,
            "align_self": null,
            "border": null,
            "bottom": null,
            "display": null,
            "flex": null,
            "flex_flow": null,
            "grid_area": null,
            "grid_auto_columns": null,
            "grid_auto_flow": null,
            "grid_auto_rows": null,
            "grid_column": null,
            "grid_gap": null,
            "grid_row": null,
            "grid_template_areas": null,
            "grid_template_columns": null,
            "grid_template_rows": null,
            "height": null,
            "justify_content": null,
            "justify_items": null,
            "left": null,
            "margin": null,
            "max_height": null,
            "max_width": null,
            "min_height": null,
            "min_width": null,
            "object_fit": null,
            "object_position": null,
            "order": null,
            "overflow": null,
            "overflow_x": null,
            "overflow_y": null,
            "padding": null,
            "right": null,
            "top": null,
            "visibility": null,
            "width": null
          }
        },
        "877696a5c3664e85825a91398071da27": {
          "model_module": "@jupyter-widgets/controls",
          "model_name": "DescriptionStyleModel",
          "model_module_version": "1.5.0",
          "state": {
            "_model_module": "@jupyter-widgets/controls",
            "_model_module_version": "1.5.0",
            "_model_name": "DescriptionStyleModel",
            "_view_count": null,
            "_view_module": "@jupyter-widgets/base",
            "_view_module_version": "1.2.0",
            "_view_name": "StyleView",
            "description_width": ""
          }
        },
        "f726f00bc18647d5835a0c34073e4f30": {
          "model_module": "@jupyter-widgets/base",
          "model_name": "LayoutModel",
          "model_module_version": "1.2.0",
          "state": {
            "_model_module": "@jupyter-widgets/base",
            "_model_module_version": "1.2.0",
            "_model_name": "LayoutModel",
            "_view_count": null,
            "_view_module": "@jupyter-widgets/base",
            "_view_module_version": "1.2.0",
            "_view_name": "LayoutView",
            "align_content": null,
            "align_items": null,
            "align_self": null,
            "border": null,
            "bottom": null,
            "display": null,
            "flex": "2",
            "flex_flow": null,
            "grid_area": null,
            "grid_auto_columns": null,
            "grid_auto_flow": null,
            "grid_auto_rows": null,
            "grid_column": null,
            "grid_gap": null,
            "grid_row": null,
            "grid_template_areas": null,
            "grid_template_columns": null,
            "grid_template_rows": null,
            "height": null,
            "justify_content": null,
            "justify_items": null,
            "left": null,
            "margin": null,
            "max_height": null,
            "max_width": null,
            "min_height": null,
            "min_width": null,
            "object_fit": null,
            "object_position": null,
            "order": null,
            "overflow": null,
            "overflow_x": null,
            "overflow_y": null,
            "padding": null,
            "right": null,
            "top": null,
            "visibility": null,
            "width": null
          }
        },
        "ac8184f8fd5e48a7b1f96949ee6dc61f": {
          "model_module": "@jupyter-widgets/controls",
          "model_name": "ProgressStyleModel",
          "model_module_version": "1.5.0",
          "state": {
            "_model_module": "@jupyter-widgets/controls",
            "_model_module_version": "1.5.0",
            "_model_name": "ProgressStyleModel",
            "_view_count": null,
            "_view_module": "@jupyter-widgets/base",
            "_view_module_version": "1.2.0",
            "_view_name": "StyleView",
            "bar_color": null,
            "description_width": ""
          }
        },
        "a1e25ba67d2d4bbcbf14a4d32caeb480": {
          "model_module": "@jupyter-widgets/base",
          "model_name": "LayoutModel",
          "model_module_version": "1.2.0",
          "state": {
            "_model_module": "@jupyter-widgets/base",
            "_model_module_version": "1.2.0",
            "_model_name": "LayoutModel",
            "_view_count": null,
            "_view_module": "@jupyter-widgets/base",
            "_view_module_version": "1.2.0",
            "_view_name": "LayoutView",
            "align_content": null,
            "align_items": null,
            "align_self": null,
            "border": null,
            "bottom": null,
            "display": null,
            "flex": null,
            "flex_flow": null,
            "grid_area": null,
            "grid_auto_columns": null,
            "grid_auto_flow": null,
            "grid_auto_rows": null,
            "grid_column": null,
            "grid_gap": null,
            "grid_row": null,
            "grid_template_areas": null,
            "grid_template_columns": null,
            "grid_template_rows": null,
            "height": null,
            "justify_content": null,
            "justify_items": null,
            "left": null,
            "margin": null,
            "max_height": null,
            "max_width": null,
            "min_height": null,
            "min_width": null,
            "object_fit": null,
            "object_position": null,
            "order": null,
            "overflow": null,
            "overflow_x": null,
            "overflow_y": null,
            "padding": null,
            "right": null,
            "top": null,
            "visibility": null,
            "width": null
          }
        },
        "461dd19133224eb7aee9c41229ddc91d": {
          "model_module": "@jupyter-widgets/controls",
          "model_name": "DescriptionStyleModel",
          "model_module_version": "1.5.0",
          "state": {
            "_model_module": "@jupyter-widgets/controls",
            "_model_module_version": "1.5.0",
            "_model_name": "DescriptionStyleModel",
            "_view_count": null,
            "_view_module": "@jupyter-widgets/base",
            "_view_module_version": "1.2.0",
            "_view_name": "StyleView",
            "description_width": ""
          }
        },
        "3e8547546ab24aa89e97344ddf7c1661": {
          "model_module": "@jupyter-widgets/controls",
          "model_name": "HBoxModel",
          "model_module_version": "1.5.0",
          "state": {
            "_dom_classes": [],
            "_model_module": "@jupyter-widgets/controls",
            "_model_module_version": "1.5.0",
            "_model_name": "HBoxModel",
            "_view_count": null,
            "_view_module": "@jupyter-widgets/controls",
            "_view_module_version": "1.5.0",
            "_view_name": "HBoxView",
            "box_style": "",
            "children": [
              "IPY_MODEL_1dfb8fde3c1f48b195c10b85a7cb8443",
              "IPY_MODEL_6f06e996feb943aea95de246877bd5bb",
              "IPY_MODEL_d2439e03505e4aba81c96844124ff196"
            ],
            "layout": "IPY_MODEL_c00a76c9a9c745528ed1bda2fbfe5696"
          }
        },
        "1dfb8fde3c1f48b195c10b85a7cb8443": {
          "model_module": "@jupyter-widgets/controls",
          "model_name": "HTMLModel",
          "model_module_version": "1.5.0",
          "state": {
            "_dom_classes": [],
            "_model_module": "@jupyter-widgets/controls",
            "_model_module_version": "1.5.0",
            "_model_name": "HTMLModel",
            "_view_count": null,
            "_view_module": "@jupyter-widgets/controls",
            "_view_module_version": "1.5.0",
            "_view_name": "HTMLView",
            "description": "",
            "description_tooltip": null,
            "layout": "IPY_MODEL_2c8f8ad23fa448c0ba05e953c9b8c2da",
            "placeholder": "​",
            "style": "IPY_MODEL_81f9a3736b2942e8ab04a5473645f0de",
            "value": "Testing DataLoader 0: 100%"
          }
        },
        "6f06e996feb943aea95de246877bd5bb": {
          "model_module": "@jupyter-widgets/controls",
          "model_name": "FloatProgressModel",
          "model_module_version": "1.5.0",
          "state": {
            "_dom_classes": [],
            "_model_module": "@jupyter-widgets/controls",
            "_model_module_version": "1.5.0",
            "_model_name": "FloatProgressModel",
            "_view_count": null,
            "_view_module": "@jupyter-widgets/controls",
            "_view_module_version": "1.5.0",
            "_view_name": "ProgressView",
            "bar_style": "success",
            "description": "",
            "description_tooltip": null,
            "layout": "IPY_MODEL_4d0e80d9547e48b5b39f557065c36f84",
            "max": 24,
            "min": 0,
            "orientation": "horizontal",
            "style": "IPY_MODEL_66937f20b38d4714a3b9c3ff0beebb7f",
            "value": 24
          }
        },
        "d2439e03505e4aba81c96844124ff196": {
          "model_module": "@jupyter-widgets/controls",
          "model_name": "HTMLModel",
          "model_module_version": "1.5.0",
          "state": {
            "_dom_classes": [],
            "_model_module": "@jupyter-widgets/controls",
            "_model_module_version": "1.5.0",
            "_model_name": "HTMLModel",
            "_view_count": null,
            "_view_module": "@jupyter-widgets/controls",
            "_view_module_version": "1.5.0",
            "_view_name": "HTMLView",
            "description": "",
            "description_tooltip": null,
            "layout": "IPY_MODEL_b7a9afddb78347d1a8ae91d631fd2155",
            "placeholder": "​",
            "style": "IPY_MODEL_395a5a98ef454678bd40febece8ee505",
            "value": " 24/24 [00:04&lt;00:00,  5.52it/s]"
          }
        },
        "c00a76c9a9c745528ed1bda2fbfe5696": {
          "model_module": "@jupyter-widgets/base",
          "model_name": "LayoutModel",
          "model_module_version": "1.2.0",
          "state": {
            "_model_module": "@jupyter-widgets/base",
            "_model_module_version": "1.2.0",
            "_model_name": "LayoutModel",
            "_view_count": null,
            "_view_module": "@jupyter-widgets/base",
            "_view_module_version": "1.2.0",
            "_view_name": "LayoutView",
            "align_content": null,
            "align_items": null,
            "align_self": null,
            "border": null,
            "bottom": null,
            "display": "inline-flex",
            "flex": null,
            "flex_flow": "row wrap",
            "grid_area": null,
            "grid_auto_columns": null,
            "grid_auto_flow": null,
            "grid_auto_rows": null,
            "grid_column": null,
            "grid_gap": null,
            "grid_row": null,
            "grid_template_areas": null,
            "grid_template_columns": null,
            "grid_template_rows": null,
            "height": null,
            "justify_content": null,
            "justify_items": null,
            "left": null,
            "margin": null,
            "max_height": null,
            "max_width": null,
            "min_height": null,
            "min_width": null,
            "object_fit": null,
            "object_position": null,
            "order": null,
            "overflow": null,
            "overflow_x": null,
            "overflow_y": null,
            "padding": null,
            "right": null,
            "top": null,
            "visibility": null,
            "width": "100%"
          }
        },
        "2c8f8ad23fa448c0ba05e953c9b8c2da": {
          "model_module": "@jupyter-widgets/base",
          "model_name": "LayoutModel",
          "model_module_version": "1.2.0",
          "state": {
            "_model_module": "@jupyter-widgets/base",
            "_model_module_version": "1.2.0",
            "_model_name": "LayoutModel",
            "_view_count": null,
            "_view_module": "@jupyter-widgets/base",
            "_view_module_version": "1.2.0",
            "_view_name": "LayoutView",
            "align_content": null,
            "align_items": null,
            "align_self": null,
            "border": null,
            "bottom": null,
            "display": null,
            "flex": null,
            "flex_flow": null,
            "grid_area": null,
            "grid_auto_columns": null,
            "grid_auto_flow": null,
            "grid_auto_rows": null,
            "grid_column": null,
            "grid_gap": null,
            "grid_row": null,
            "grid_template_areas": null,
            "grid_template_columns": null,
            "grid_template_rows": null,
            "height": null,
            "justify_content": null,
            "justify_items": null,
            "left": null,
            "margin": null,
            "max_height": null,
            "max_width": null,
            "min_height": null,
            "min_width": null,
            "object_fit": null,
            "object_position": null,
            "order": null,
            "overflow": null,
            "overflow_x": null,
            "overflow_y": null,
            "padding": null,
            "right": null,
            "top": null,
            "visibility": null,
            "width": null
          }
        },
        "81f9a3736b2942e8ab04a5473645f0de": {
          "model_module": "@jupyter-widgets/controls",
          "model_name": "DescriptionStyleModel",
          "model_module_version": "1.5.0",
          "state": {
            "_model_module": "@jupyter-widgets/controls",
            "_model_module_version": "1.5.0",
            "_model_name": "DescriptionStyleModel",
            "_view_count": null,
            "_view_module": "@jupyter-widgets/base",
            "_view_module_version": "1.2.0",
            "_view_name": "StyleView",
            "description_width": ""
          }
        },
        "4d0e80d9547e48b5b39f557065c36f84": {
          "model_module": "@jupyter-widgets/base",
          "model_name": "LayoutModel",
          "model_module_version": "1.2.0",
          "state": {
            "_model_module": "@jupyter-widgets/base",
            "_model_module_version": "1.2.0",
            "_model_name": "LayoutModel",
            "_view_count": null,
            "_view_module": "@jupyter-widgets/base",
            "_view_module_version": "1.2.0",
            "_view_name": "LayoutView",
            "align_content": null,
            "align_items": null,
            "align_self": null,
            "border": null,
            "bottom": null,
            "display": null,
            "flex": "2",
            "flex_flow": null,
            "grid_area": null,
            "grid_auto_columns": null,
            "grid_auto_flow": null,
            "grid_auto_rows": null,
            "grid_column": null,
            "grid_gap": null,
            "grid_row": null,
            "grid_template_areas": null,
            "grid_template_columns": null,
            "grid_template_rows": null,
            "height": null,
            "justify_content": null,
            "justify_items": null,
            "left": null,
            "margin": null,
            "max_height": null,
            "max_width": null,
            "min_height": null,
            "min_width": null,
            "object_fit": null,
            "object_position": null,
            "order": null,
            "overflow": null,
            "overflow_x": null,
            "overflow_y": null,
            "padding": null,
            "right": null,
            "top": null,
            "visibility": null,
            "width": null
          }
        },
        "66937f20b38d4714a3b9c3ff0beebb7f": {
          "model_module": "@jupyter-widgets/controls",
          "model_name": "ProgressStyleModel",
          "model_module_version": "1.5.0",
          "state": {
            "_model_module": "@jupyter-widgets/controls",
            "_model_module_version": "1.5.0",
            "_model_name": "ProgressStyleModel",
            "_view_count": null,
            "_view_module": "@jupyter-widgets/base",
            "_view_module_version": "1.2.0",
            "_view_name": "StyleView",
            "bar_color": null,
            "description_width": ""
          }
        },
        "b7a9afddb78347d1a8ae91d631fd2155": {
          "model_module": "@jupyter-widgets/base",
          "model_name": "LayoutModel",
          "model_module_version": "1.2.0",
          "state": {
            "_model_module": "@jupyter-widgets/base",
            "_model_module_version": "1.2.0",
            "_model_name": "LayoutModel",
            "_view_count": null,
            "_view_module": "@jupyter-widgets/base",
            "_view_module_version": "1.2.0",
            "_view_name": "LayoutView",
            "align_content": null,
            "align_items": null,
            "align_self": null,
            "border": null,
            "bottom": null,
            "display": null,
            "flex": null,
            "flex_flow": null,
            "grid_area": null,
            "grid_auto_columns": null,
            "grid_auto_flow": null,
            "grid_auto_rows": null,
            "grid_column": null,
            "grid_gap": null,
            "grid_row": null,
            "grid_template_areas": null,
            "grid_template_columns": null,
            "grid_template_rows": null,
            "height": null,
            "justify_content": null,
            "justify_items": null,
            "left": null,
            "margin": null,
            "max_height": null,
            "max_width": null,
            "min_height": null,
            "min_width": null,
            "object_fit": null,
            "object_position": null,
            "order": null,
            "overflow": null,
            "overflow_x": null,
            "overflow_y": null,
            "padding": null,
            "right": null,
            "top": null,
            "visibility": null,
            "width": null
          }
        },
        "395a5a98ef454678bd40febece8ee505": {
          "model_module": "@jupyter-widgets/controls",
          "model_name": "DescriptionStyleModel",
          "model_module_version": "1.5.0",
          "state": {
            "_model_module": "@jupyter-widgets/controls",
            "_model_module_version": "1.5.0",
            "_model_name": "DescriptionStyleModel",
            "_view_count": null,
            "_view_module": "@jupyter-widgets/base",
            "_view_module_version": "1.2.0",
            "_view_name": "StyleView",
            "description_width": ""
          }
        },
        "9093ef4e733c4795930cd9e813e9ece4": {
          "model_module": "@jupyter-widgets/controls",
          "model_name": "VBoxModel",
          "model_module_version": "1.5.0",
          "state": {
            "_dom_classes": [],
            "_model_module": "@jupyter-widgets/controls",
            "_model_module_version": "1.5.0",
            "_model_name": "VBoxModel",
            "_view_count": null,
            "_view_module": "@jupyter-widgets/controls",
            "_view_module_version": "1.5.0",
            "_view_name": "VBoxView",
            "box_style": "",
            "children": [
              "IPY_MODEL_b025d40755bc498fa97a46964480fa50",
              "IPY_MODEL_d25e39cd542845c797ac713ca8ed22b8"
            ],
            "layout": "IPY_MODEL_922daaae2a474782aa44e659959e8681"
          }
        },
        "b025d40755bc498fa97a46964480fa50": {
          "model_module": "@jupyter-widgets/controls",
          "model_name": "LabelModel",
          "model_module_version": "1.5.0",
          "state": {
            "_dom_classes": [],
            "_model_module": "@jupyter-widgets/controls",
            "_model_module_version": "1.5.0",
            "_model_name": "LabelModel",
            "_view_count": null,
            "_view_module": "@jupyter-widgets/controls",
            "_view_module_version": "1.5.0",
            "_view_name": "LabelView",
            "description": "",
            "description_tooltip": null,
            "layout": "IPY_MODEL_ad92575f2fd34377890ad11065cb52e3",
            "placeholder": "​",
            "style": "IPY_MODEL_76cb8376b28846eaa4bd1a689b11d012",
            "value": "45.473 MB of 45.514 MB uploaded (20.276 MB deduped)\r"
          }
        },
        "d25e39cd542845c797ac713ca8ed22b8": {
          "model_module": "@jupyter-widgets/controls",
          "model_name": "FloatProgressModel",
          "model_module_version": "1.5.0",
          "state": {
            "_dom_classes": [],
            "_model_module": "@jupyter-widgets/controls",
            "_model_module_version": "1.5.0",
            "_model_name": "FloatProgressModel",
            "_view_count": null,
            "_view_module": "@jupyter-widgets/controls",
            "_view_module_version": "1.5.0",
            "_view_name": "ProgressView",
            "bar_style": "",
            "description": "",
            "description_tooltip": null,
            "layout": "IPY_MODEL_90118adbe98841c59923e85aa43a24ca",
            "max": 1,
            "min": 0,
            "orientation": "horizontal",
            "style": "IPY_MODEL_f526970ad4154c6da7e03708ec566aa6",
            "value": 0.9991011344631014
          }
        },
        "922daaae2a474782aa44e659959e8681": {
          "model_module": "@jupyter-widgets/base",
          "model_name": "LayoutModel",
          "model_module_version": "1.2.0",
          "state": {
            "_model_module": "@jupyter-widgets/base",
            "_model_module_version": "1.2.0",
            "_model_name": "LayoutModel",
            "_view_count": null,
            "_view_module": "@jupyter-widgets/base",
            "_view_module_version": "1.2.0",
            "_view_name": "LayoutView",
            "align_content": null,
            "align_items": null,
            "align_self": null,
            "border": null,
            "bottom": null,
            "display": null,
            "flex": null,
            "flex_flow": null,
            "grid_area": null,
            "grid_auto_columns": null,
            "grid_auto_flow": null,
            "grid_auto_rows": null,
            "grid_column": null,
            "grid_gap": null,
            "grid_row": null,
            "grid_template_areas": null,
            "grid_template_columns": null,
            "grid_template_rows": null,
            "height": null,
            "justify_content": null,
            "justify_items": null,
            "left": null,
            "margin": null,
            "max_height": null,
            "max_width": null,
            "min_height": null,
            "min_width": null,
            "object_fit": null,
            "object_position": null,
            "order": null,
            "overflow": null,
            "overflow_x": null,
            "overflow_y": null,
            "padding": null,
            "right": null,
            "top": null,
            "visibility": null,
            "width": null
          }
        },
        "ad92575f2fd34377890ad11065cb52e3": {
          "model_module": "@jupyter-widgets/base",
          "model_name": "LayoutModel",
          "model_module_version": "1.2.0",
          "state": {
            "_model_module": "@jupyter-widgets/base",
            "_model_module_version": "1.2.0",
            "_model_name": "LayoutModel",
            "_view_count": null,
            "_view_module": "@jupyter-widgets/base",
            "_view_module_version": "1.2.0",
            "_view_name": "LayoutView",
            "align_content": null,
            "align_items": null,
            "align_self": null,
            "border": null,
            "bottom": null,
            "display": null,
            "flex": null,
            "flex_flow": null,
            "grid_area": null,
            "grid_auto_columns": null,
            "grid_auto_flow": null,
            "grid_auto_rows": null,
            "grid_column": null,
            "grid_gap": null,
            "grid_row": null,
            "grid_template_areas": null,
            "grid_template_columns": null,
            "grid_template_rows": null,
            "height": null,
            "justify_content": null,
            "justify_items": null,
            "left": null,
            "margin": null,
            "max_height": null,
            "max_width": null,
            "min_height": null,
            "min_width": null,
            "object_fit": null,
            "object_position": null,
            "order": null,
            "overflow": null,
            "overflow_x": null,
            "overflow_y": null,
            "padding": null,
            "right": null,
            "top": null,
            "visibility": null,
            "width": null
          }
        },
        "76cb8376b28846eaa4bd1a689b11d012": {
          "model_module": "@jupyter-widgets/controls",
          "model_name": "DescriptionStyleModel",
          "model_module_version": "1.5.0",
          "state": {
            "_model_module": "@jupyter-widgets/controls",
            "_model_module_version": "1.5.0",
            "_model_name": "DescriptionStyleModel",
            "_view_count": null,
            "_view_module": "@jupyter-widgets/base",
            "_view_module_version": "1.2.0",
            "_view_name": "StyleView",
            "description_width": ""
          }
        },
        "90118adbe98841c59923e85aa43a24ca": {
          "model_module": "@jupyter-widgets/base",
          "model_name": "LayoutModel",
          "model_module_version": "1.2.0",
          "state": {
            "_model_module": "@jupyter-widgets/base",
            "_model_module_version": "1.2.0",
            "_model_name": "LayoutModel",
            "_view_count": null,
            "_view_module": "@jupyter-widgets/base",
            "_view_module_version": "1.2.0",
            "_view_name": "LayoutView",
            "align_content": null,
            "align_items": null,
            "align_self": null,
            "border": null,
            "bottom": null,
            "display": null,
            "flex": null,
            "flex_flow": null,
            "grid_area": null,
            "grid_auto_columns": null,
            "grid_auto_flow": null,
            "grid_auto_rows": null,
            "grid_column": null,
            "grid_gap": null,
            "grid_row": null,
            "grid_template_areas": null,
            "grid_template_columns": null,
            "grid_template_rows": null,
            "height": null,
            "justify_content": null,
            "justify_items": null,
            "left": null,
            "margin": null,
            "max_height": null,
            "max_width": null,
            "min_height": null,
            "min_width": null,
            "object_fit": null,
            "object_position": null,
            "order": null,
            "overflow": null,
            "overflow_x": null,
            "overflow_y": null,
            "padding": null,
            "right": null,
            "top": null,
            "visibility": null,
            "width": null
          }
        },
        "f526970ad4154c6da7e03708ec566aa6": {
          "model_module": "@jupyter-widgets/controls",
          "model_name": "ProgressStyleModel",
          "model_module_version": "1.5.0",
          "state": {
            "_model_module": "@jupyter-widgets/controls",
            "_model_module_version": "1.5.0",
            "_model_name": "ProgressStyleModel",
            "_view_count": null,
            "_view_module": "@jupyter-widgets/base",
            "_view_module_version": "1.2.0",
            "_view_name": "StyleView",
            "bar_color": null,
            "description_width": ""
          }
        }
      }
    }
  },
  "nbformat": 4,
  "nbformat_minor": 0
}